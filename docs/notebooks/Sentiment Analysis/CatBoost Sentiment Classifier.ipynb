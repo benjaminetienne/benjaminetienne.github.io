{
 "cells": [
  {
   "cell_type": "code",
   "execution_count": 11,
   "id": "c2a43ecc",
   "metadata": {},
   "outputs": [],
   "source": [
    "import pandas as pd\n",
    "import catboost as cb\n",
    "import numpy as np\n",
    "import seaborn as sns\n",
    "\n",
    "from sklearn.metrics import confusion_matrix\n",
    "from sklearn.model_selection import train_test_split"
   ]
  },
  {
   "cell_type": "code",
   "execution_count": 7,
   "id": "0a674424",
   "metadata": {},
   "outputs": [],
   "source": [
    "# https://towardsdatascience.com/unconventional-sentiment-analysis-bert-vs-catboost-90645f2437a9"
   ]
  },
  {
   "cell_type": "code",
   "execution_count": 53,
   "id": "6cc3f147",
   "metadata": {},
   "outputs": [],
   "source": [
    "%load_ext watermark"
   ]
  },
  {
   "cell_type": "code",
   "execution_count": 54,
   "id": "e9630309",
   "metadata": {},
   "outputs": [
    {
     "name": "stdout",
     "output_type": "stream",
     "text": [
      "catboost: 1.0.4\n",
      "pandas  : 1.4.2\n",
      "numpy   : 1.22.4\n",
      "sklearn : 0.0\n",
      "\n"
     ]
    }
   ],
   "source": [
    "%watermark -p catboost,pandas,numpy,sklearn"
   ]
  },
  {
   "cell_type": "code",
   "execution_count": 8,
   "id": "7386239c",
   "metadata": {},
   "outputs": [],
   "source": [
    "# Data downloaded from https://www.kaggle.com/datasets/farisdurrani/sentimentsearch\n",
    "\n",
    "df=pd.concat([\n",
    "    pd.read_csv(\"../data/farisdurrani/twitter_filtered.csv\"),\n",
    "    pd.read_csv(\"../data/farisdurrani/facebook_filtered.csv\")\n",
    "])"
   ]
  },
  {
   "cell_type": "code",
   "execution_count": 9,
   "id": "39120d19",
   "metadata": {},
   "outputs": [],
   "source": [
    "df = df.dropna(subset=['sentiment'], axis=0)"
   ]
  },
  {
   "cell_type": "code",
   "execution_count": 12,
   "id": "4e954110",
   "metadata": {},
   "outputs": [
    {
     "data": {
      "text/html": [
       "<div>\n",
       "<style scoped>\n",
       "    .dataframe tbody tr th:only-of-type {\n",
       "        vertical-align: middle;\n",
       "    }\n",
       "\n",
       "    .dataframe tbody tr th {\n",
       "        vertical-align: top;\n",
       "    }\n",
       "\n",
       "    .dataframe thead th {\n",
       "        text-align: right;\n",
       "    }\n",
       "</style>\n",
       "<table border=\"1\" class=\"dataframe\">\n",
       "  <thead>\n",
       "    <tr style=\"text-align: right;\">\n",
       "      <th></th>\n",
       "      <th>platform</th>\n",
       "      <th>bodyText</th>\n",
       "      <th>sentiment</th>\n",
       "      <th>date</th>\n",
       "      <th>country</th>\n",
       "      <th>Target</th>\n",
       "    </tr>\n",
       "  </thead>\n",
       "  <tbody>\n",
       "    <tr>\n",
       "      <th>0</th>\n",
       "      <td>Twitter</td>\n",
       "      <td>@Kenichan I dived many times for the ball. Man...</td>\n",
       "      <td>0.4939</td>\n",
       "      <td>2009-04-06</td>\n",
       "      <td>NaN</td>\n",
       "      <td>2</td>\n",
       "    </tr>\n",
       "    <tr>\n",
       "      <th>1</th>\n",
       "      <td>Twitter</td>\n",
       "      <td>@nationwideclass no, it's not behaving at all....</td>\n",
       "      <td>-0.4939</td>\n",
       "      <td>2009-04-06</td>\n",
       "      <td>NaN</td>\n",
       "      <td>0</td>\n",
       "    </tr>\n",
       "    <tr>\n",
       "      <th>2</th>\n",
       "      <td>Twitter</td>\n",
       "      <td>Need a hug</td>\n",
       "      <td>0.4767</td>\n",
       "      <td>2009-04-06</td>\n",
       "      <td>NaN</td>\n",
       "      <td>2</td>\n",
       "    </tr>\n",
       "    <tr>\n",
       "      <th>3</th>\n",
       "      <td>Twitter</td>\n",
       "      <td>@LOLTrish hey  long time no see! Yes.. Rains a...</td>\n",
       "      <td>0.6208</td>\n",
       "      <td>2009-04-06</td>\n",
       "      <td>NaN</td>\n",
       "      <td>2</td>\n",
       "    </tr>\n",
       "    <tr>\n",
       "      <th>4</th>\n",
       "      <td>Twitter</td>\n",
       "      <td>@Tatiana_K nope they didn't have it</td>\n",
       "      <td>0.0000</td>\n",
       "      <td>2009-04-06</td>\n",
       "      <td>NaN</td>\n",
       "      <td>1</td>\n",
       "    </tr>\n",
       "  </tbody>\n",
       "</table>\n",
       "</div>"
      ],
      "text/plain": [
       "  platform                                           bodyText  sentiment  \\\n",
       "0  Twitter  @Kenichan I dived many times for the ball. Man...     0.4939   \n",
       "1  Twitter  @nationwideclass no, it's not behaving at all....    -0.4939   \n",
       "2  Twitter                                        Need a hug      0.4767   \n",
       "3  Twitter  @LOLTrish hey  long time no see! Yes.. Rains a...     0.6208   \n",
       "4  Twitter               @Tatiana_K nope they didn't have it      0.0000   \n",
       "\n",
       "         date  country  Target  \n",
       "0  2009-04-06      NaN       2  \n",
       "1  2009-04-06      NaN       0  \n",
       "2  2009-04-06      NaN       2  \n",
       "3  2009-04-06      NaN       2  \n",
       "4  2009-04-06      NaN       1  "
      ]
     },
     "execution_count": 12,
     "metadata": {},
     "output_type": "execute_result"
    }
   ],
   "source": [
    "df['Target'] = df['sentiment'].apply(lambda x: 1 if x==0 else np.sign(x)+1).astype(int)\n",
    "df.head()"
   ]
  },
  {
   "cell_type": "code",
   "execution_count": 13,
   "id": "afa40a67",
   "metadata": {},
   "outputs": [],
   "source": [
    "X_train, _X, y_train, _y = train_test_split(df['bodyText'], df['Target'], stratify=df['Target'], test_size=0.2)\n",
    "X_val, X_test, y_val, y_test = train_test_split(_X, _y, stratify=_y, test_size=0.5)"
   ]
  },
  {
   "cell_type": "code",
   "execution_count": 18,
   "id": "afc6d021",
   "metadata": {},
   "outputs": [
    {
     "data": {
      "text/plain": [
       "105526                @lilgary take what back? Im lost  lol\n",
       "392442    my throat is sore, my hair is a mess and i can...\n",
       "477580    uploaded more photos pheww  www.mileymandyfan8...\n",
       "160495                              Plz. I want Fun Ranch. \n",
       "86988     @graceamy I was being childish lol cos one of ...\n",
       "                                ...                        \n",
       "293470    Sytycd I love the ChBABE, but that didn't look...\n",
       "519842    @Miss_Melbourne thank you for the #ff recco mu...\n",
       "636815              @boxdog looks like the matrix in blue! \n",
       "476164    Watching never back down..threw powder in my b...\n",
       "221148    Everyone gets to lay out by the pool except fo...\n",
       "Name: bodyText, Length: 82089, dtype: object"
      ]
     },
     "execution_count": 18,
     "metadata": {},
     "output_type": "execute_result"
    }
   ],
   "source": [
    "X_val"
   ]
  },
  {
   "cell_type": "code",
   "execution_count": 20,
   "id": "e9781a4a",
   "metadata": {},
   "outputs": [],
   "source": [
    "train_pool = cb.Pool(\n",
    "    data=X_train.to_frame('content'),\n",
    "    label=y_train,\n",
    "    text_features=['content']\n",
    ")\n",
    "valid_pool = cb.Pool(\n",
    "    data=X_val.to_frame('content'), \n",
    "    label=y_val,\n",
    "    text_features=['content']\n",
    ")"
   ]
  },
  {
   "cell_type": "code",
   "execution_count": 45,
   "id": "692b9264",
   "metadata": {},
   "outputs": [],
   "source": [
    "model = cb.CatBoostClassifier(\n",
    "    iterations = 500,\n",
    "    learning_rate = 0.1,\n",
    "    eval_metric=\"Accuracy\",\n",
    "    tokenizers=[\n",
    "        {\n",
    "            'tokenizer_id': 'Sense',\n",
    "            'separator_type': 'BySense',\n",
    "            'lowercasing': 'True',\n",
    "            'token_types':['Word', 'Number', 'SentenceBreak'],\n",
    "            'sub_tokens_policy':'SeveralTokens'\n",
    "        }      \n",
    "    ],\n",
    "    dictionaries = [\n",
    "        {\n",
    "            'dictionary_id': 'Word',\n",
    "            'max_dictionary_size': '50000'\n",
    "        }\n",
    "    ],\n",
    "    feature_calcers = [\n",
    "        'BoW:top_tokens_count=10000'\n",
    "    ]\n",
    ")"
   ]
  },
  {
   "cell_type": "code",
   "execution_count": 46,
   "id": "b502cc3e",
   "metadata": {},
   "outputs": [
    {
     "data": {
      "application/vnd.jupyter.widget-view+json": {
       "model_id": "54e8c09ee7fa4896920e88acce8e7994",
       "version_major": 2,
       "version_minor": 0
      },
      "text/plain": [
       "MetricVisualizer(layout=Layout(align_self='stretch', height='500px'))"
      ]
     },
     "metadata": {},
     "output_type": "display_data"
    },
    {
     "name": "stdout",
     "output_type": "stream",
     "text": [
      "0:\tlearn: 0.4903656\ttest: 0.4901875\tbest: 0.4901875 (0)\ttotal: 5.54s\tremaining: 46m 6s\n",
      "10:\tlearn: 0.5222808\ttest: 0.5222502\tbest: 0.5222502 (10)\ttotal: 1m\tremaining: 45m 10s\n",
      "20:\tlearn: 0.5347627\ttest: 0.5343834\tbest: 0.5343834 (20)\ttotal: 2m 4s\tremaining: 47m 27s\n",
      "30:\tlearn: 0.5463553\ttest: 0.5452618\tbest: 0.5452618 (30)\ttotal: 2m 57s\tremaining: 44m 46s\n",
      "40:\tlearn: 0.6569901\ttest: 0.6558735\tbest: 0.6558735 (40)\ttotal: 3m 53s\tremaining: 43m 37s\n",
      "50:\tlearn: 0.6830229\ttest: 0.6824057\tbest: 0.6824057 (50)\ttotal: 4m 53s\tremaining: 43m 3s\n",
      "60:\tlearn: 0.6965236\ttest: 0.6968900\tbest: 0.6968900 (60)\ttotal: 5m 47s\tremaining: 41m 43s\n",
      "70:\tlearn: 0.7183155\ttest: 0.7188052\tbest: 0.7188052 (70)\ttotal: 6m 48s\tremaining: 41m 6s\n",
      "80:\tlearn: 0.7291681\ttest: 0.7299882\tbest: 0.7299882 (80)\ttotal: 7m 43s\tremaining: 39m 55s\n",
      "90:\tlearn: 0.7396613\ttest: 0.7404890\tbest: 0.7404890 (90)\ttotal: 8m 36s\tremaining: 38m 42s\n",
      "100:\tlearn: 0.7469598\ttest: 0.7479078\tbest: 0.7489067 (99)\ttotal: 9m 34s\tremaining: 37m 48s\n",
      "110:\tlearn: 0.7544807\ttest: 0.7559234\tbest: 0.7559234 (110)\ttotal: 10m 42s\tremaining: 37m 31s\n",
      "120:\tlearn: 0.7618401\ttest: 0.7633179\tbest: 0.7633179 (120)\ttotal: 11m 45s\tremaining: 36m 49s\n",
      "130:\tlearn: 0.7676600\ttest: 0.7693235\tbest: 0.7693235 (130)\ttotal: 12m 45s\tremaining: 35m 55s\n",
      "140:\tlearn: 0.7709720\ttest: 0.7726127\tbest: 0.7726370 (139)\ttotal: 13m 32s\tremaining: 34m 28s\n",
      "150:\tlearn: 0.7776096\ttest: 0.7800436\tbest: 0.7800436 (150)\ttotal: 14m 18s\tremaining: 33m 5s\n",
      "160:\tlearn: 0.7802272\ttest: 0.7827236\tbest: 0.7828698 (158)\ttotal: 15m 5s\tremaining: 31m 45s\n",
      "170:\tlearn: 0.7848898\ttest: 0.7871213\tbest: 0.7871213 (170)\ttotal: 15m 53s\tremaining: 30m 33s\n",
      "180:\tlearn: 0.7880495\ttest: 0.7906540\tbest: 0.7906784 (179)\ttotal: 16m 46s\tremaining: 29m 33s\n",
      "190:\tlearn: 0.7908209\ttest: 0.7935290\tbest: 0.7935290 (190)\ttotal: 17m 33s\tremaining: 28m 23s\n",
      "200:\tlearn: 0.7940491\ttest: 0.7965379\tbest: 0.7966110 (198)\ttotal: 18m 6s\tremaining: 26m 56s\n",
      "210:\tlearn: 0.7973215\ttest: 0.7998027\tbest: 0.7998027 (210)\ttotal: 18m 46s\tremaining: 25m 43s\n",
      "220:\tlearn: 0.7997487\ttest: 0.8028481\tbest: 0.8028481 (220)\ttotal: 19m 23s\tremaining: 24m 28s\n",
      "230:\tlearn: 0.8034642\ttest: 0.8063200\tbest: 0.8063200 (230)\ttotal: 20m 15s\tremaining: 23m 35s\n",
      "240:\tlearn: 0.8052793\ttest: 0.8078671\tbest: 0.8078914 (239)\ttotal: 20m 52s\tremaining: 22m 26s\n",
      "250:\tlearn: 0.8069285\ttest: 0.8090609\tbest: 0.8092436 (248)\ttotal: 21m 29s\tremaining: 21m 19s\n",
      "260:\tlearn: 0.8094608\ttest: 0.8115216\tbest: 0.8115216 (260)\ttotal: 21m 56s\tremaining: 20m 5s\n",
      "270:\tlearn: 0.8111952\ttest: 0.8132880\tbest: 0.8132880 (270)\ttotal: 22m 18s\tremaining: 18m 51s\n",
      "280:\tlearn: 0.8136392\ttest: 0.8153589\tbest: 0.8153589 (280)\ttotal: 22m 39s\tremaining: 17m 39s\n",
      "290:\tlearn: 0.8150188\ttest: 0.8169913\tbest: 0.8169913 (290)\ttotal: 22m 58s\tremaining: 16m 30s\n",
      "300:\tlearn: 0.8166573\ttest: 0.8188551\tbest: 0.8188551 (300)\ttotal: 23m 17s\tremaining: 15m 23s\n",
      "310:\tlearn: 0.8181024\ttest: 0.8202682\tbest: 0.8202682 (310)\ttotal: 23m 35s\tremaining: 14m 20s\n",
      "320:\tlearn: 0.8194378\ttest: 0.8216935\tbest: 0.8216935 (320)\ttotal: 23m 56s\tremaining: 13m 20s\n",
      "330:\tlearn: 0.8212971\ttest: 0.8233015\tbest: 0.8233015 (330)\ttotal: 24m 17s\tremaining: 12m 24s\n",
      "340:\tlearn: 0.8235842\ttest: 0.8256648\tbest: 0.8256648 (340)\ttotal: 24m 45s\tremaining: 11m 32s\n",
      "350:\tlearn: 0.8249745\ttest: 0.8269196\tbest: 0.8269196 (349)\ttotal: 25m 22s\tremaining: 10m 46s\n",
      "360:\tlearn: 0.8257678\ttest: 0.8277358\tbest: 0.8277358 (360)\ttotal: 26m 8s\tremaining: 10m 3s\n",
      "370:\tlearn: 0.8267698\ttest: 0.8289296\tbest: 0.8289296 (370)\ttotal: 26m 28s\tremaining: 9m 12s\n",
      "380:\tlearn: 0.8286078\ttest: 0.8306229\tbest: 0.8306229 (380)\ttotal: 26m 47s\tremaining: 8m 22s\n",
      "390:\tlearn: 0.8292701\ttest: 0.8314756\tbest: 0.8314756 (390)\ttotal: 27m 7s\tremaining: 7m 33s\n",
      "400:\tlearn: 0.8305797\ttest: 0.8322918\tbest: 0.8322918 (400)\ttotal: 27m 33s\tremaining: 6m 48s\n",
      "410:\tlearn: 0.8315984\ttest: 0.8334491\tbest: 0.8334491 (410)\ttotal: 28m\tremaining: 6m 3s\n",
      "420:\tlearn: 0.8328136\ttest: 0.8348987\tbest: 0.8349353 (419)\ttotal: 28m 22s\tremaining: 5m 19s\n",
      "430:\tlearn: 0.8340089\ttest: 0.8355565\tbest: 0.8357271 (427)\ttotal: 28m 44s\tremaining: 4m 36s\n",
      "440:\tlearn: 0.8354098\ttest: 0.8370914\tbest: 0.8370914 (440)\ttotal: 29m 3s\tremaining: 3m 53s\n",
      "450:\tlearn: 0.8361331\ttest: 0.8380904\tbest: 0.8381147 (449)\ttotal: 29m 22s\tremaining: 3m 11s\n",
      "460:\tlearn: 0.8370148\ttest: 0.8390162\tbest: 0.8390162 (460)\ttotal: 29m 44s\tremaining: 2m 30s\n",
      "470:\tlearn: 0.8378858\ttest: 0.8397715\tbest: 0.8397836 (469)\ttotal: 30m 4s\tremaining: 1m 51s\n",
      "480:\tlearn: 0.8391345\ttest: 0.8407704\tbest: 0.8407704 (480)\ttotal: 30m 24s\tremaining: 1m 12s\n",
      "490:\tlearn: 0.8398639\ttest: 0.8417693\tbest: 0.8417693 (490)\ttotal: 30m 44s\tremaining: 33.8s\n",
      "499:\tlearn: 0.8403039\ttest: 0.8423662\tbest: 0.8423662 (499)\ttotal: 31m 1s\tremaining: 0us\n",
      "\n",
      "bestTest = 0.8423662123\n",
      "bestIteration = 499\n",
      "\n"
     ]
    },
    {
     "data": {
      "text/plain": [
       "<catboost.core.CatBoostClassifier at 0x137dd7610>"
      ]
     },
     "execution_count": 46,
     "metadata": {},
     "output_type": "execute_result"
    }
   ],
   "source": [
    "model.fit(\n",
    "        train_pool,\n",
    "        eval_set=valid_pool,\n",
    "        verbose=10,\n",
    "        plot=True,\n",
    "        use_best_model=True)"
   ]
  },
  {
   "cell_type": "code",
   "execution_count": 28,
   "id": "f6798507",
   "metadata": {},
   "outputs": [],
   "source": []
  },
  {
   "cell_type": "code",
   "execution_count": null,
   "id": "49070c34",
   "metadata": {},
   "outputs": [],
   "source": []
  },
  {
   "cell_type": "code",
   "execution_count": 47,
   "id": "d46a4141",
   "metadata": {},
   "outputs": [],
   "source": [
    "test_pool = cb.Pool(\n",
    "    data=X_test.to_frame('content'), \n",
    "    label=y_test,\n",
    "    text_features=['content']\n",
    ")\n",
    "y_hat = model.predict(test_pool)"
   ]
  },
  {
   "cell_type": "code",
   "execution_count": 48,
   "id": "6d9359b4",
   "metadata": {},
   "outputs": [
    {
     "data": {
      "text/plain": [
       "<AxesSubplot:>"
      ]
     },
     "execution_count": 48,
     "metadata": {},
     "output_type": "execute_result"
    },
    {
     "data": {
      "image/png": "[encoded data removed]",
      "text/plain": [
       "<Figure size 432x288 with 2 Axes>"
      ]
     },
     "metadata": {
      "needs_background": "light"
     },
     "output_type": "display_data"
    }
   ],
   "source": [
    "cf_matrix = confusion_matrix(y_test, y_hat)\n",
    "sns.heatmap(cf_matrix/np.sum(cf_matrix), annot=True, fmt='.2%', cmap='Blues')"
   ]
  },
  {
   "cell_type": "code",
   "execution_count": 49,
   "id": "73b8d9e2",
   "metadata": {},
   "outputs": [
    {
     "data": {
      "text/plain": [
       "array([0.16020057, 0.63135258, 0.20844686])"
      ]
     },
     "execution_count": 49,
     "metadata": {},
     "output_type": "execute_result"
    }
   ],
   "source": [
    "model.predict_proba([\"I will never go back to this place\"])"
   ]
  },
  {
   "cell_type": "code",
   "execution_count": 50,
   "id": "b18197ca",
   "metadata": {},
   "outputs": [
    {
     "data": {
      "text/plain": [
       "array([0.18762034, 0.5675432 , 0.24483646])"
      ]
     },
     "execution_count": 50,
     "metadata": {},
     "output_type": "execute_result"
    }
   ],
   "source": [
    "model.predict_proba([\"This place is a scam, i highly disrecommend\"])"
   ]
  },
  {
   "cell_type": "code",
   "execution_count": 51,
   "id": "5176e1f7",
   "metadata": {},
   "outputs": [
    {
     "data": {
      "text/plain": [
       "array([0.68571312, 0.1558603 , 0.15842659])"
      ]
     },
     "execution_count": 51,
     "metadata": {},
     "output_type": "execute_result"
    }
   ],
   "source": [
    "model.predict_proba([\"no, it's not allright to say such things\"])"
   ]
  },
  {
   "cell_type": "code",
   "execution_count": 52,
   "id": "297e1f93",
   "metadata": {},
   "outputs": [
    {
     "data": {
      "text/plain": [
       "array([0.01407426, 0.00883489, 0.97709085])"
      ]
     },
     "execution_count": 52,
     "metadata": {},
     "output_type": "execute_result"
    }
   ],
   "source": [
    "model.predict_proba([\"I really love this ring, it's so beautiful !\"])"
   ]
  }
 ],
 "metadata": {
  "kernelspec": {
   "display_name": ".catboostenv",
   "language": "python",
   "name": ".catboostenv"
  },
  "language_info": {
   "codemirror_mode": {
    "name": "ipython",
    "version": 3
   },
   "file_extension": ".py",
   "mimetype": "text/x-python",
   "name": "python",
   "nbconvert_exporter": "python",
   "pygments_lexer": "ipython3",
   "version": "3.8.0"
  }
 },
 "nbformat": 4,
 "nbformat_minor": 5
}
