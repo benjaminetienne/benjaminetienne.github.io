{
 "cells": [
  {
   "cell_type": "markdown",
   "id": "2fe97f42",
   "metadata": {},
   "source": [
    "# Simple LSTM Classifier for Radarly Sentiment Analysis"
   ]
  },
  {
   "cell_type": "code",
   "execution_count": 113,
   "id": "bd0e82dc",
   "metadata": {},
   "outputs": [],
   "source": [
    "import pandas as pd\n",
    "import tensorflow as tf\n",
    "import matplotlib.pyplot as plt\n",
    "import numpy as np\n",
    "\n",
    "from typing import List"
   ]
  },
  {
   "cell_type": "code",
   "execution_count": 4,
   "id": "bb40ad72",
   "metadata": {},
   "outputs": [],
   "source": [
    "%load_ext watermark"
   ]
  },
  {
   "cell_type": "code",
   "execution_count": 101,
   "id": "aac65e14",
   "metadata": {},
   "outputs": [
    {
     "name": "stdout",
     "output_type": "stream",
     "text": [
      "tensorflow: 2.13.1\n",
      "pandas    : 2.0.3\n",
      "matplotlib: 3.7.5\n",
      "\n"
     ]
    }
   ],
   "source": [
    "%watermark  --packages tensorflow,pandas,matplotlib"
   ]
  },
  {
   "cell_type": "markdown",
   "id": "73eeb211",
   "metadata": {},
   "source": [
    "## Load the data"
   ]
  },
  {
   "cell_type": "code",
   "execution_count": 36,
   "id": "7d4c6f79",
   "metadata": {},
   "outputs": [],
   "source": [
    "df_train=pd.read_csv(\"../data/twitter_training.csv\")\n",
    "df_test=pd.read_csv(\"../data/twitter_validation.csv\")\n",
    "\n",
    "df_train.dropna(inplace=True)\n",
    "df_test.dropna(inplace=True)"
   ]
  },
  {
   "cell_type": "code",
   "execution_count": 37,
   "id": "0a25aea2",
   "metadata": {},
   "outputs": [],
   "source": [
    "df_train.columns = df_test.columns = ['ID', 'entity','sentiment','content']"
   ]
  },
  {
   "cell_type": "code",
   "execution_count": 38,
   "id": "2b938ed7",
   "metadata": {},
   "outputs": [
    {
     "data": {
      "text/html": [
       "<div>\n",
       "<style scoped>\n",
       "    .dataframe tbody tr th:only-of-type {\n",
       "        vertical-align: middle;\n",
       "    }\n",
       "\n",
       "    .dataframe tbody tr th {\n",
       "        vertical-align: top;\n",
       "    }\n",
       "\n",
       "    .dataframe thead th {\n",
       "        text-align: right;\n",
       "    }\n",
       "</style>\n",
       "<table border=\"1\" class=\"dataframe\">\n",
       "  <thead>\n",
       "    <tr style=\"text-align: right;\">\n",
       "      <th></th>\n",
       "      <th>ID</th>\n",
       "      <th>entity</th>\n",
       "      <th>sentiment</th>\n",
       "      <th>content</th>\n",
       "    </tr>\n",
       "  </thead>\n",
       "  <tbody>\n",
       "    <tr>\n",
       "      <th>0</th>\n",
       "      <td>2401</td>\n",
       "      <td>Borderlands</td>\n",
       "      <td>Positive</td>\n",
       "      <td>I am coming to the borders and I will kill you...</td>\n",
       "    </tr>\n",
       "    <tr>\n",
       "      <th>1</th>\n",
       "      <td>2401</td>\n",
       "      <td>Borderlands</td>\n",
       "      <td>Positive</td>\n",
       "      <td>im getting on borderlands and i will kill you ...</td>\n",
       "    </tr>\n",
       "    <tr>\n",
       "      <th>2</th>\n",
       "      <td>2401</td>\n",
       "      <td>Borderlands</td>\n",
       "      <td>Positive</td>\n",
       "      <td>im coming on borderlands and i will murder you...</td>\n",
       "    </tr>\n",
       "    <tr>\n",
       "      <th>3</th>\n",
       "      <td>2401</td>\n",
       "      <td>Borderlands</td>\n",
       "      <td>Positive</td>\n",
       "      <td>im getting on borderlands 2 and i will murder ...</td>\n",
       "    </tr>\n",
       "    <tr>\n",
       "      <th>4</th>\n",
       "      <td>2401</td>\n",
       "      <td>Borderlands</td>\n",
       "      <td>Positive</td>\n",
       "      <td>im getting into borderlands and i can murder y...</td>\n",
       "    </tr>\n",
       "    <tr>\n",
       "      <th>5</th>\n",
       "      <td>2402</td>\n",
       "      <td>Borderlands</td>\n",
       "      <td>Positive</td>\n",
       "      <td>So I spent a few hours making something for fu...</td>\n",
       "    </tr>\n",
       "    <tr>\n",
       "      <th>6</th>\n",
       "      <td>2402</td>\n",
       "      <td>Borderlands</td>\n",
       "      <td>Positive</td>\n",
       "      <td>So I spent a couple of hours doing something f...</td>\n",
       "    </tr>\n",
       "    <tr>\n",
       "      <th>7</th>\n",
       "      <td>2402</td>\n",
       "      <td>Borderlands</td>\n",
       "      <td>Positive</td>\n",
       "      <td>So I spent a few hours doing something for fun...</td>\n",
       "    </tr>\n",
       "    <tr>\n",
       "      <th>8</th>\n",
       "      <td>2402</td>\n",
       "      <td>Borderlands</td>\n",
       "      <td>Positive</td>\n",
       "      <td>So I spent a few hours making something for fu...</td>\n",
       "    </tr>\n",
       "    <tr>\n",
       "      <th>9</th>\n",
       "      <td>2402</td>\n",
       "      <td>Borderlands</td>\n",
       "      <td>Positive</td>\n",
       "      <td>2010 So I spent a few hours making something f...</td>\n",
       "    </tr>\n",
       "  </tbody>\n",
       "</table>\n",
       "</div>"
      ],
      "text/plain": [
       "     ID       entity sentiment  \\\n",
       "0  2401  Borderlands  Positive   \n",
       "1  2401  Borderlands  Positive   \n",
       "2  2401  Borderlands  Positive   \n",
       "3  2401  Borderlands  Positive   \n",
       "4  2401  Borderlands  Positive   \n",
       "5  2402  Borderlands  Positive   \n",
       "6  2402  Borderlands  Positive   \n",
       "7  2402  Borderlands  Positive   \n",
       "8  2402  Borderlands  Positive   \n",
       "9  2402  Borderlands  Positive   \n",
       "\n",
       "                                             content  \n",
       "0  I am coming to the borders and I will kill you...  \n",
       "1  im getting on borderlands and i will kill you ...  \n",
       "2  im coming on borderlands and i will murder you...  \n",
       "3  im getting on borderlands 2 and i will murder ...  \n",
       "4  im getting into borderlands and i can murder y...  \n",
       "5  So I spent a few hours making something for fu...  \n",
       "6  So I spent a couple of hours doing something f...  \n",
       "7  So I spent a few hours doing something for fun...  \n",
       "8  So I spent a few hours making something for fu...  \n",
       "9  2010 So I spent a few hours making something f...  "
      ]
     },
     "execution_count": 38,
     "metadata": {},
     "output_type": "execute_result"
    }
   ],
   "source": [
    "df_train.head(10)"
   ]
  },
  {
   "cell_type": "code",
   "execution_count": 39,
   "id": "44d28bfa",
   "metadata": {},
   "outputs": [
    {
     "data": {
      "text/plain": [
       "sentiment\n",
       "Negative      0.302156\n",
       "Positive      0.279127\n",
       "Neutral       0.244719\n",
       "Irrelevant    0.173998\n",
       "Name: proportion, dtype: float64"
      ]
     },
     "execution_count": 39,
     "metadata": {},
     "output_type": "execute_result"
    }
   ],
   "source": [
    "df_train.sentiment.value_counts(normalize=True)"
   ]
  },
  {
   "cell_type": "code",
   "execution_count": 40,
   "id": "57593273",
   "metadata": {},
   "outputs": [
    {
     "data": {
      "text/plain": [
       "entity\n",
       "MaddenNFL                            0.032124\n",
       "LeagueOfLegends                      0.032124\n",
       "CallOfDuty                           0.032110\n",
       "Verizon                              0.031962\n",
       "TomClancysRainbowSix                 0.031948\n",
       "Facebook                             0.031921\n",
       "Microsoft                            0.031908\n",
       "Dota2                                0.031881\n",
       "WorldOfCraft                         0.031854\n",
       "ApexLegends                          0.031799\n",
       "NBA2K                                0.031664\n",
       "CallOfDutyBlackopsColdWar            0.031664\n",
       "FIFA                                 0.031408\n",
       "johnson&johnson                      0.031408\n",
       "TomClancysGhostRecon                 0.031367\n",
       "Battlefield                          0.031299\n",
       "Overwatch                            0.031299\n",
       "GrandTheftAuto(GTA)                  0.030989\n",
       "HomeDepot                            0.030975\n",
       "PlayStation5(PS5)                    0.030962\n",
       "Hearthstone                          0.030894\n",
       "CS-GO                                0.030867\n",
       "Xbox(Xseries)                        0.030853\n",
       "Borderlands                          0.030799\n",
       "Amazon                               0.030759\n",
       "Google                               0.030732\n",
       "Nvidia                               0.030691\n",
       "Cyberpunk2077                        0.030570\n",
       "RedDeadRedemption(RDR)               0.030394\n",
       "Fortnite                             0.030394\n",
       "PlayerUnknownsBattlegrounds(PUBG)    0.030191\n",
       "AssassinsCreed                       0.030191\n",
       "Name: proportion, dtype: float64"
      ]
     },
     "execution_count": 40,
     "metadata": {},
     "output_type": "execute_result"
    }
   ],
   "source": [
    "df_train.entity.value_counts(normalize=True)"
   ]
  },
  {
   "cell_type": "markdown",
   "id": "f3ed6587",
   "metadata": {},
   "source": [
    "Look at a couple of examples of Positive & Negative reviews"
   ]
  },
  {
   "cell_type": "code",
   "execution_count": 41,
   "id": "b31e6e9b",
   "metadata": {},
   "outputs": [
    {
     "data": {
      "text/html": [
       "<div>\n",
       "<style scoped>\n",
       "    .dataframe tbody tr th:only-of-type {\n",
       "        vertical-align: middle;\n",
       "    }\n",
       "\n",
       "    .dataframe tbody tr th {\n",
       "        vertical-align: top;\n",
       "    }\n",
       "\n",
       "    .dataframe thead th {\n",
       "        text-align: right;\n",
       "    }\n",
       "</style>\n",
       "<table border=\"1\" class=\"dataframe\">\n",
       "  <thead>\n",
       "    <tr style=\"text-align: right;\">\n",
       "      <th></th>\n",
       "      <th>ID</th>\n",
       "      <th>entity</th>\n",
       "      <th>sentiment</th>\n",
       "      <th>content</th>\n",
       "    </tr>\n",
       "  </thead>\n",
       "  <tbody>\n",
       "    <tr>\n",
       "      <th>72566</th>\n",
       "      <td>8831</td>\n",
       "      <td>Nvidia</td>\n",
       "      <td>Positive</td>\n",
       "      <td>Better performance than anything wrong</td>\n",
       "    </tr>\n",
       "    <tr>\n",
       "      <th>34118</th>\n",
       "      <td>6659</td>\n",
       "      <td>Fortnite</td>\n",
       "      <td>Positive</td>\n",
       "      <td>I like my meals with a big round of Fortnite.</td>\n",
       "    </tr>\n",
       "    <tr>\n",
       "      <th>36331</th>\n",
       "      <td>8235</td>\n",
       "      <td>Microsoft</td>\n",
       "      <td>Positive</td>\n",
       "      <td>After 10 years without trying it, I set it up....</td>\n",
       "    </tr>\n",
       "    <tr>\n",
       "      <th>57057</th>\n",
       "      <td>11388</td>\n",
       "      <td>TomClancysRainbowSix</td>\n",
       "      <td>Positive</td>\n",
       "      <td>I'm loving seeing all that the R6 driving and ...</td>\n",
       "    </tr>\n",
       "    <tr>\n",
       "      <th>47189</th>\n",
       "      <td>5697</td>\n",
       "      <td>HomeDepot</td>\n",
       "      <td>Positive</td>\n",
       "      <td>I’m t h r i v i n g, thanks.</td>\n",
       "    </tr>\n",
       "    <tr>\n",
       "      <th>22805</th>\n",
       "      <td>4308</td>\n",
       "      <td>CS-GO</td>\n",
       "      <td>Positive</td>\n",
       "      <td>Help me win this awesome CS:GO giveaway from I...</td>\n",
       "    </tr>\n",
       "    <tr>\n",
       "      <th>2773</th>\n",
       "      <td>1682</td>\n",
       "      <td>CallOfDutyBlackopsColdWar</td>\n",
       "      <td>Positive</td>\n",
       "      <td>who tryna buy me this shit im willing to do an...</td>\n",
       "    </tr>\n",
       "    <tr>\n",
       "      <th>10463</th>\n",
       "      <td>13001</td>\n",
       "      <td>Xbox(Xseries)</td>\n",
       "      <td>Positive</td>\n",
       "      <td>I'm extremely happy to upgrade to the Xbox Ser...</td>\n",
       "    </tr>\n",
       "    <tr>\n",
       "      <th>69231</th>\n",
       "      <td>3860</td>\n",
       "      <td>Cyberpunk2077</td>\n",
       "      <td>Positive</td>\n",
       "      <td>Who needs AI? A few precisely programmed text ...</td>\n",
       "    </tr>\n",
       "    <tr>\n",
       "      <th>49829</th>\n",
       "      <td>6155</td>\n",
       "      <td>FIFA</td>\n",
       "      <td>Positive</td>\n",
       "      <td>Had the most fun on FIFA since launch. Watchin...</td>\n",
       "    </tr>\n",
       "  </tbody>\n",
       "</table>\n",
       "</div>"
      ],
      "text/plain": [
       "          ID                     entity sentiment  \\\n",
       "72566   8831                     Nvidia  Positive   \n",
       "34118   6659                   Fortnite  Positive   \n",
       "36331   8235                  Microsoft  Positive   \n",
       "57057  11388       TomClancysRainbowSix  Positive   \n",
       "47189   5697                  HomeDepot  Positive   \n",
       "22805   4308                      CS-GO  Positive   \n",
       "2773    1682  CallOfDutyBlackopsColdWar  Positive   \n",
       "10463  13001              Xbox(Xseries)  Positive   \n",
       "69231   3860              Cyberpunk2077  Positive   \n",
       "49829   6155                       FIFA  Positive   \n",
       "\n",
       "                                                 content  \n",
       "72566             Better performance than anything wrong  \n",
       "34118      I like my meals with a big round of Fortnite.  \n",
       "36331  After 10 years without trying it, I set it up....  \n",
       "57057  I'm loving seeing all that the R6 driving and ...  \n",
       "47189                       I’m t h r i v i n g, thanks.  \n",
       "22805  Help me win this awesome CS:GO giveaway from I...  \n",
       "2773   who tryna buy me this shit im willing to do an...  \n",
       "10463  I'm extremely happy to upgrade to the Xbox Ser...  \n",
       "69231  Who needs AI? A few precisely programmed text ...  \n",
       "49829  Had the most fun on FIFA since launch. Watchin...  "
      ]
     },
     "execution_count": 41,
     "metadata": {},
     "output_type": "execute_result"
    }
   ],
   "source": [
    "df_train.query(\"sentiment == 'Positive'\").sample(10)"
   ]
  },
  {
   "cell_type": "code",
   "execution_count": 42,
   "id": "06e530cb",
   "metadata": {},
   "outputs": [
    {
     "data": {
      "text/html": [
       "<div>\n",
       "<style scoped>\n",
       "    .dataframe tbody tr th:only-of-type {\n",
       "        vertical-align: middle;\n",
       "    }\n",
       "\n",
       "    .dataframe tbody tr th {\n",
       "        vertical-align: top;\n",
       "    }\n",
       "\n",
       "    .dataframe thead th {\n",
       "        text-align: right;\n",
       "    }\n",
       "</style>\n",
       "<table border=\"1\" class=\"dataframe\">\n",
       "  <thead>\n",
       "    <tr style=\"text-align: right;\">\n",
       "      <th></th>\n",
       "      <th>ID</th>\n",
       "      <th>entity</th>\n",
       "      <th>sentiment</th>\n",
       "      <th>content</th>\n",
       "    </tr>\n",
       "  </thead>\n",
       "  <tbody>\n",
       "    <tr>\n",
       "      <th>42429</th>\n",
       "      <td>10079</td>\n",
       "      <td>PlayerUnknownsBattlegrounds(PUBG)</td>\n",
       "      <td>Negative</td>\n",
       "      <td>Miss U S Pubg....</td>\n",
       "    </tr>\n",
       "    <tr>\n",
       "      <th>71696</th>\n",
       "      <td>11082</td>\n",
       "      <td>TomClancysGhostRecon</td>\n",
       "      <td>Negative</td>\n",
       "      <td>RhandlerR Why before the update I don't have l...</td>\n",
       "    </tr>\n",
       "    <tr>\n",
       "      <th>65570</th>\n",
       "      <td>6829</td>\n",
       "      <td>johnson&amp;johnson</td>\n",
       "      <td>Negative</td>\n",
       "      <td>Are they infecting everyone with Venom Powder?</td>\n",
       "    </tr>\n",
       "    <tr>\n",
       "      <th>2579</th>\n",
       "      <td>1650</td>\n",
       "      <td>CallOfDutyBlackopsColdWar</td>\n",
       "      <td>Negative</td>\n",
       "      <td>Call Of Duty: Black Ops Cold War beta cheats a...</td>\n",
       "    </tr>\n",
       "    <tr>\n",
       "      <th>63539</th>\n",
       "      <td>7690</td>\n",
       "      <td>MaddenNFL</td>\n",
       "      <td>Negative</td>\n",
       "      <td>@EAMaddenNFL i don't know how you guys still m...</td>\n",
       "    </tr>\n",
       "    <tr>\n",
       "      <th>45656</th>\n",
       "      <td>11837</td>\n",
       "      <td>Verizon</td>\n",
       "      <td>Negative</td>\n",
       "      <td>Idk how people across Laredo say that @Verizon...</td>\n",
       "    </tr>\n",
       "    <tr>\n",
       "      <th>39258</th>\n",
       "      <td>5539</td>\n",
       "      <td>Hearthstone</td>\n",
       "      <td>Negative</td>\n",
       "      <td>Holy shit. Arena sucks now. Brings back all th...</td>\n",
       "    </tr>\n",
       "    <tr>\n",
       "      <th>58782</th>\n",
       "      <td>3277</td>\n",
       "      <td>Facebook</td>\n",
       "      <td>Negative</td>\n",
       "      <td>All my success in the past has come from peopl...</td>\n",
       "    </tr>\n",
       "    <tr>\n",
       "      <th>39639</th>\n",
       "      <td>1205</td>\n",
       "      <td>Battlefield</td>\n",
       "      <td>Negative</td>\n",
       "      <td>In multiplayer mode, I can't see even any one ...</td>\n",
       "    </tr>\n",
       "    <tr>\n",
       "      <th>35696</th>\n",
       "      <td>8129</td>\n",
       "      <td>Microsoft</td>\n",
       "      <td>Negative</td>\n",
       "      <td>Today I found out that Windows' Cortana actual...</td>\n",
       "    </tr>\n",
       "  </tbody>\n",
       "</table>\n",
       "</div>"
      ],
      "text/plain": [
       "          ID                             entity sentiment  \\\n",
       "42429  10079  PlayerUnknownsBattlegrounds(PUBG)  Negative   \n",
       "71696  11082               TomClancysGhostRecon  Negative   \n",
       "65570   6829                    johnson&johnson  Negative   \n",
       "2579    1650          CallOfDutyBlackopsColdWar  Negative   \n",
       "63539   7690                          MaddenNFL  Negative   \n",
       "45656  11837                            Verizon  Negative   \n",
       "39258   5539                        Hearthstone  Negative   \n",
       "58782   3277                           Facebook  Negative   \n",
       "39639   1205                        Battlefield  Negative   \n",
       "35696   8129                          Microsoft  Negative   \n",
       "\n",
       "                                                 content  \n",
       "42429                                  Miss U S Pubg....  \n",
       "71696  RhandlerR Why before the update I don't have l...  \n",
       "65570     Are they infecting everyone with Venom Powder?  \n",
       "2579   Call Of Duty: Black Ops Cold War beta cheats a...  \n",
       "63539  @EAMaddenNFL i don't know how you guys still m...  \n",
       "45656  Idk how people across Laredo say that @Verizon...  \n",
       "39258  Holy shit. Arena sucks now. Brings back all th...  \n",
       "58782  All my success in the past has come from peopl...  \n",
       "39639  In multiplayer mode, I can't see even any one ...  \n",
       "35696  Today I found out that Windows' Cortana actual...  "
      ]
     },
     "execution_count": 42,
     "metadata": {},
     "output_type": "execute_result"
    }
   ],
   "source": [
    "df_train.query(\"sentiment == 'Negative'\").sample(10)"
   ]
  },
  {
   "cell_type": "markdown",
   "id": "f25c8310",
   "metadata": {},
   "source": [
    "Clean the data"
   ]
  },
  {
   "cell_type": "markdown",
   "id": "c62ecad9",
   "metadata": {},
   "source": [
    "## Create a simple model\n",
    "\n",
    "We map the outputs to integers, maybe `Neutral` and `Irrelevant` could be merged in one class ?"
   ]
  },
  {
   "cell_type": "code",
   "execution_count": 60,
   "id": "3820b3fb",
   "metadata": {},
   "outputs": [],
   "source": [
    "sentiment_to_target = {'Positive': 2, 'Neutral': 1, 'Negative': 0, 'Irrelevant': 3}\n",
    "df_train['Target'] = df_train['sentiment'].map(sentiment_to_target)\n",
    "df_test['Target'] = df_test['sentiment'].map(sentiment_to_target)"
   ]
  },
  {
   "cell_type": "code",
   "execution_count": 61,
   "id": "4c6c879d",
   "metadata": {},
   "outputs": [],
   "source": [
    "train_ds = tf.data.Dataset.from_tensor_slices((df_train['content'].values, df_train['Target'].values))\n",
    "test_ds = tf.data.Dataset.from_tensor_slices((df_test['content'].values, df_test['Target'].values))"
   ]
  },
  {
   "cell_type": "markdown",
   "id": "bee28258",
   "metadata": {},
   "source": [
    "To handle text content, we use the `tf.keras.layers.TextVectorization`.<br>\n",
    "\n",
    "This layer will accept a string and maps text features to integer sequences. We need to be careful when initializing the layer to pass only the vocabulary of the training dataset.\n",
    "\n",
    "Quick example below :\n",
    "\n",
    "```python\n",
    ">>>layer = tf.keras.layers.TextVectorization(output_sequence_length=5)\n",
    ">>>layer.adapt(['I like pizza', 'do you like fries'])\n",
    ">>>layer(['I want pizza and fries'])\n",
    "<tf.Tensor: shape=(1, 6), dtype=int64, numpy=array([[5, 1, 4, 1, 6, 0]])>\n",
    ">>>{i: v for i, v in enumerate(layer.get_vocabulary())}\n",
    "{0: '',\n",
    " 1: '[UNK]',\n",
    " 2: 'like',\n",
    " 3: 'you',\n",
    " 4: 'pizza',\n",
    " 5: 'i',\n",
    " 6: 'fries',\n",
    " 7: 'do'}\n",
    "   \n",
    "```\n",
    "\n",
    "Token 0 is reserved for padding\n",
    "Token 1 is reserved for out-of-vocabulary tokens"
   ]
  },
  {
   "cell_type": "code",
   "execution_count": 62,
   "id": "53cff379",
   "metadata": {},
   "outputs": [
    {
     "name": "stdout",
     "output_type": "stream",
     "text": [
      "tf.Tensor([b'I am coming to the borders and I will kill you all,'], shape=(1,), dtype=string) tf.Tensor([2], shape=(1,), dtype=int64)\n"
     ]
    }
   ],
   "source": [
    "for x, y in train_ds.batch(1).take(1):\n",
    "    print(x, y)"
   ]
  },
  {
   "cell_type": "code",
   "execution_count": 87,
   "id": "a3645eda",
   "metadata": {},
   "outputs": [
    {
     "name": "stdout",
     "output_type": "stream",
     "text": [
      "Fitting vocabulary in text vectorization layer\n"
     ]
    }
   ],
   "source": [
    "class LSTMClassification(tf.keras.Model):\n",
    "    def __init__(self, text: List):\n",
    "        super().__init__()\n",
    "        \n",
    "        # We create a text vectorization layer of max length 100, meaning any longer string will be cut.\n",
    "        # Shorter strings will be padded\n",
    "        self.text_vectorizer = tf.keras.layers.TextVectorization(\n",
    "            output_sequence_length=100\n",
    "        )\n",
    "        print(\"Fitting vocabulary in text vectorization layer\")\n",
    "        self.text_vectorizer.adapt(text)\n",
    "        \n",
    "        # We use embeddings with zero masking\n",
    "        self.embedding = tf.keras.layers.Embedding(\n",
    "            input_dim=len(self.text_vectorizer.get_vocabulary()),\n",
    "            output_dim=64,\n",
    "            mask_zero=True\n",
    "        )\n",
    "        \n",
    "        # Bi-directional LSTM\n",
    "        self.lstm = tf.keras.layers.Bidirectional(tf.keras.layers.LSTM(64))\n",
    "        \n",
    "        self.dense = tf.keras.layers.Dense(256)\n",
    "        self.dropout = tf.keras.layers.Dropout(0.5)\n",
    "        self.out = tf.keras.layers.Dense(4, activation='softmax')\n",
    "\n",
    "    def call(self, inputs):\n",
    "        x = self.text_vectorizer(inputs)\n",
    "        x = self.embedding(x)\n",
    "        x = self.lstm(x)\n",
    "        x = self.dense(x)\n",
    "        x = self.dropout(x)\n",
    "        return self.out(x)\n",
    "\n",
    "    \n",
    "model = LSTMClassification(df_train['content'])"
   ]
  },
  {
   "cell_type": "markdown",
   "id": "41d9e935",
   "metadata": {},
   "source": [
    "## Train it !"
   ]
  },
  {
   "cell_type": "code",
   "execution_count": 90,
   "id": "54fa3bb2",
   "metadata": {},
   "outputs": [],
   "source": [
    "model.compile(\n",
    "    loss=tf.keras.losses.SparseCategoricalCrossentropy(from_logits=False),\n",
    "    optimizer=tf.keras.optimizers.Adam(1e-4),\n",
    "    metrics=['accuracy']\n",
    ")"
   ]
  },
  {
   "cell_type": "code",
   "execution_count": 91,
   "id": "49c71824",
   "metadata": {},
   "outputs": [
    {
     "name": "stdout",
     "output_type": "stream",
     "text": [
      "Epoch 1/10\n",
      "579/579 [==============================] - 145s 226ms/step - loss: 1.3623 - accuracy: 0.3222 - val_loss: 1.3124 - val_accuracy: 0.3884\n",
      "Epoch 2/10\n",
      "579/579 [==============================] - 120s 208ms/step - loss: 1.1852 - accuracy: 0.4982 - val_loss: 0.9614 - val_accuracy: 0.6276\n",
      "Epoch 3/10\n",
      "579/579 [==============================] - 123s 213ms/step - loss: 0.9825 - accuracy: 0.5977 - val_loss: 0.7834 - val_accuracy: 0.6827\n",
      "Epoch 4/10\n",
      "579/579 [==============================] - 124s 213ms/step - loss: 0.8319 - accuracy: 0.6660 - val_loss: 0.6399 - val_accuracy: 0.7357\n",
      "Epoch 5/10\n",
      "579/579 [==============================] - 129s 223ms/step - loss: 0.6885 - accuracy: 0.7272 - val_loss: 0.5276 - val_accuracy: 0.7808\n",
      "Epoch 6/10\n",
      "579/579 [==============================] - 127s 219ms/step - loss: 0.5583 - accuracy: 0.7867 - val_loss: 0.4254 - val_accuracy: 0.8539\n",
      "Epoch 7/10\n",
      "579/579 [==============================] - 148s 256ms/step - loss: 0.4499 - accuracy: 0.8338 - val_loss: 0.3657 - val_accuracy: 0.8969\n",
      "Epoch 8/10\n",
      "579/579 [==============================] - 142s 245ms/step - loss: 0.3645 - accuracy: 0.8687 - val_loss: 0.3555 - val_accuracy: 0.9099\n",
      "Epoch 9/10\n",
      "579/579 [==============================] - 156s 269ms/step - loss: 0.3008 - accuracy: 0.8920 - val_loss: 0.3670 - val_accuracy: 0.9259\n",
      "Epoch 10/10\n",
      "579/579 [==============================] - 123s 213ms/step - loss: 0.2571 - accuracy: 0.9078 - val_loss: 0.3533 - val_accuracy: 0.9219\n"
     ]
    }
   ],
   "source": [
    "batched_train = train_ds.batch(128).prefetch(128)\n",
    "batched_test = test_ds.batch(128).prefetch(128)\n",
    "\n",
    "history = model.fit(\n",
    "    batched_train, \n",
    "    epochs=10,\n",
    "    validation_data=batched_test\n",
    ")"
   ]
  },
  {
   "cell_type": "code",
   "execution_count": 108,
   "id": "c99844a2",
   "metadata": {},
   "outputs": [
    {
     "data": {
      "text/plain": [
       "<matplotlib.legend.Legend at 0x12a6cd190>"
      ]
     },
     "execution_count": 108,
     "metadata": {},
     "output_type": "execute_result"
    },
    {
     "data": {
      "image/png": "[encoded data removed]",
      "text/plain": [
       "<Figure size 1500x500 with 2 Axes>"
      ]
     },
     "metadata": {},
     "output_type": "display_data"
    }
   ],
   "source": [
    "fig, ax = plt.subplots(ncols=2, figsize=(15, 5))\n",
    "ax[0].plot(history.history['loss'], label='train_loss')\n",
    "ax[0].plot(history.history['val_loss'], label='validation_loss')\n",
    "ax[1].plot(history.history['accuracy'], label='train_accuracy')\n",
    "ax[1].plot(history.history['val_accuracy'], label='validation_accuracy')\n",
    "ax[0].set_title(\"Loss\")\n",
    "ax[1].set_title(\"Accuracy\")\n",
    "plt.legend()"
   ]
  },
  {
   "cell_type": "code",
   "execution_count": 127,
   "id": "74d48d1d",
   "metadata": {},
   "outputs": [],
   "source": [
    "reverse_labels = {v: k for k, v in sentiment_to_target.items()}\n",
    "\n",
    "def predict_sentence(s):\n",
    "    y = model.predict(s)\n",
    "    for n, x in enumerate(y[0]):\n",
    "        print(f\"{reverse_labels[n]}: {100*x:.2f}%\")\n",
    "    "
   ]
  },
  {
   "cell_type": "code",
   "execution_count": 128,
   "id": "c7e67136",
   "metadata": {},
   "outputs": [
    {
     "name": "stdout",
     "output_type": "stream",
     "text": [
      "1/1 [==============================] - 0s 35ms/step\n",
      "Negative: 0.77%\n",
      "Neutral: 0.84%\n",
      "Positive: 98.24%\n",
      "Irrelevant: 0.15%\n"
     ]
    }
   ],
   "source": [
    "predict_sentence(['I like my meals with a big mac'])"
   ]
  },
  {
   "cell_type": "code",
   "execution_count": 130,
   "id": "6a5bd48c",
   "metadata": {},
   "outputs": [
    {
     "name": "stdout",
     "output_type": "stream",
     "text": [
      "1/1 [==============================] - 0s 40ms/step\n",
      "Negative: 3.65%\n",
      "Neutral: 85.97%\n",
      "Positive: 1.34%\n",
      "Irrelevant: 9.03%\n"
     ]
    }
   ],
   "source": [
    "predict_sentence(['I hate when someone eats my big mac'])"
   ]
  },
  {
   "cell_type": "code",
   "execution_count": 131,
   "id": "fe5afa6a",
   "metadata": {},
   "outputs": [
    {
     "name": "stdout",
     "output_type": "stream",
     "text": [
      "1/1 [==============================] - 0s 40ms/step\n",
      "Negative: 99.96%\n",
      "Neutral: 0.04%\n",
      "Positive: 0.00%\n",
      "Irrelevant: 0.00%\n"
     ]
    }
   ],
   "source": [
    "predict_sentence(['Windows 95 really sucks'])"
   ]
  },
  {
   "cell_type": "code",
   "execution_count": 133,
   "id": "fa7c19fa",
   "metadata": {},
   "outputs": [
    {
     "name": "stdout",
     "output_type": "stream",
     "text": [
      "1/1 [==============================] - 0s 152ms/step\n",
      "Negative: 17.27%\n",
      "Neutral: 5.53%\n",
      "Positive: 73.70%\n",
      "Irrelevant: 3.50%\n"
     ]
    }
   ],
   "source": [
    "predict_sentence(['I am both happy and angry'])"
   ]
  },
  {
   "cell_type": "code",
   "execution_count": null,
   "id": "314e26bb",
   "metadata": {},
   "outputs": [],
   "source": []
  }
 ],
 "metadata": {
  "kernelspec": {
   "display_name": "sentimentenv",
   "language": "python",
   "name": "sentimentenv"
  },
  "language_info": {
   "codemirror_mode": {
    "name": "ipython",
    "version": 3
   },
   "file_extension": ".py",
   "mimetype": "text/x-python",
   "name": "python",
   "nbconvert_exporter": "python",
   "pygments_lexer": "ipython3",
   "version": "3.8.0"
  }
 },
 "nbformat": 4,
 "nbformat_minor": 5
}
