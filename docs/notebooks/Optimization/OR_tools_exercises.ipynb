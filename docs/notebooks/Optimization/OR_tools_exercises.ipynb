{
 "cells": [
  {
   "cell_type": "markdown",
   "id": "ee1aaf89",
   "metadata": {},
   "source": [
    "<a id='home'></a>"
   ]
  },
  {
   "cell_type": "markdown",
   "id": "0a9f1910",
   "metadata": {},
   "source": [
    "# Optimisation"
   ]
  },
  {
   "cell_type": "code",
   "execution_count": 117,
   "id": "d2a9078e",
   "metadata": {},
   "outputs": [],
   "source": [
    "import numpy as np\n",
    "import itertools\n",
    "from ortools.linear_solver import pywraplp"
   ]
  },
  {
   "cell_type": "markdown",
   "id": "6d7d43a8",
   "metadata": {},
   "source": [
    "<h2> 0. Summary</h2>"
   ]
  },
  {
   "cell_type": "markdown",
   "id": "54c5e117",
   "metadata": {},
   "source": [
    "1. [Production Problem](#section-1)\n",
    "2. [Dual Problem](#section-2)\n",
    "3. [Mixed Integer Programming - Warehouse allocation](#section-3)\n",
    "3. [Mixed Integer Programming - Water Network](#section-4)"
   ]
  },
  {
   "cell_type": "markdown",
   "id": "0c8c9b48",
   "metadata": {},
   "source": [
    "<a id=\"section-1\"></a><h2>1. Linear Programming : Production Problem</h2>[Home](#home)"
   ]
  },
  {
   "cell_type": "markdown",
   "id": "07cf2f52",
   "metadata": {},
   "source": [
    "A biscuit factory produces cookies, cupcakes, and  brownies which are then sold at different prices.\n",
    "Each type of biscuits needs some flour, sugar, chocolate, vegetal oil, and eggs.\n",
    "For a given quantity of goods, the factory manager wants to maximize its revenue.\n",
    "\n",
    "Formulation of the problem\n",
    "\n",
    "|           |              |\n",
    "| ----------|:-------------|\n",
    "| $w_{i,j}$ | weight needed of ingredient $i$ to produce biscuit $j$ |\n",
    "| $c_j$     | price for biscuit $j$ |\n",
    "| $s_i$     | available stock for ingredient $i$ |\n",
    "| $x_j$     | quantity of biscuit $j$ produced |\n",
    "\n",
    "\\begin{align*}\n",
    "\\max &\\sum_j c_j * x_j & \\\\\n",
    "\\text{subject to:}&&\\\\\n",
    "&\\sum_j w_{i,j} * x_j \\leq s_i & \\forall i \\\\\n",
    "&x_j \\geq 0 & \\forall j\n",
    "\\end{align*}\n"
   ]
  },
  {
   "cell_type": "code",
   "execution_count": 92,
   "id": "49342007",
   "metadata": {},
   "outputs": [],
   "source": [
    "BISCUITS = ['cookie', 'cupcake', 'brownie']\n",
    "N_BISCUITS = len(BISCUITS)\n",
    "GOODS = ['flour', 'sugar', 'chocolate', 'oil', 'eggs']\n",
    "N_GOODS = len(GOODS)\n",
    "\n",
    "# quantities\n",
    "w = np.array(\n",
    "    [[.1, .3, .05], # flour\n",
    "     [.15, .2, .3], # sugar\n",
    "     [.1, .05, .3], # chocolate\n",
    "     [.05, .1, .1], # oil\n",
    "     [0, 2, 3]]     # eggs\n",
    ")     \n",
    "c = np.array([2, 3, 5]) # selling price of biscuits\n",
    "s = np.array([25, 40, 30, 15, 300])  # stock of ingredients"
   ]
  },
  {
   "cell_type": "markdown",
   "id": "ccda2209",
   "metadata": {},
   "source": [
    "We first start by instantiating the solver :"
   ]
  },
  {
   "cell_type": "code",
   "execution_count": 93,
   "id": "615c8e49",
   "metadata": {},
   "outputs": [],
   "source": [
    "solver = pywraplp.Solver.CreateSolver('SCIP')"
   ]
  },
  {
   "cell_type": "markdown",
   "id": "8f184fb3",
   "metadata": {},
   "source": [
    "We then craete the variables "
   ]
  },
  {
   "cell_type": "code",
   "execution_count": 94,
   "id": "d31a0af4",
   "metadata": {},
   "outputs": [],
   "source": [
    "x = {}\n",
    "\n",
    "for n, biscuit in enumerate(BISCUITS):\n",
    "    x[n] = solver.NumVar(0, solver.infinity(), biscuit)"
   ]
  },
  {
   "cell_type": "code",
   "execution_count": 95,
   "id": "eb74c06c",
   "metadata": {},
   "outputs": [
    {
     "data": {
      "text/plain": [
       "{0: cookie, 1: cupcake, 2: brownie}"
      ]
     },
     "execution_count": 95,
     "metadata": {},
     "output_type": "execute_result"
    }
   ],
   "source": [
    "x"
   ]
  },
  {
   "cell_type": "markdown",
   "id": "c985c4e7",
   "metadata": {},
   "source": [
    "We then add the constraints to our model:"
   ]
  },
  {
   "cell_type": "code",
   "execution_count": 96,
   "id": "83ca49e8",
   "metadata": {},
   "outputs": [],
   "source": [
    "n_constraints = len(s)\n",
    "\n",
    "for i in range(n_constraints):\n",
    "    solver.Add(sum([x[j]*w[i, j] for j in range(N_BISCUITS)]) <= s[i])"
   ]
  },
  {
   "cell_type": "markdown",
   "id": "a2711486",
   "metadata": {},
   "source": [
    "And finally we add the objective function"
   ]
  },
  {
   "cell_type": "code",
   "execution_count": 97,
   "id": "b8f7ea6c",
   "metadata": {},
   "outputs": [],
   "source": [
    "objective = sum([x[i]*c[i] for i in range(N_BISCUITS)])\n",
    "solver.Maximize(objective)"
   ]
  },
  {
   "cell_type": "code",
   "execution_count": 98,
   "id": "7f55f504",
   "metadata": {},
   "outputs": [
    {
     "name": "stdout",
     "output_type": "stream",
     "text": [
      "Objective value = 618.5185185185185\n",
      " #0 cookie = 66.66666666666664\n",
      " #1 cupcake = 44.44444444444442\n",
      " #2 brownie = 70.37037037037038\n",
      "\n",
      "Problem solved in 2102.000000 milliseconds\n",
      "Problem solved in 3 iterations\n",
      "Problem solved in 1 branch-and-bound nodes\n"
     ]
    }
   ],
   "source": [
    "# Run the solver\n",
    "status = solver.Solve()\n",
    "if status == pywraplp.Solver.OPTIMAL:\n",
    "    print('Objective value =', solver.Objective().Value())\n",
    "    for j in range(N_BISCUITS):\n",
    "        print(\" #{} {} = {}\".format(\n",
    "            j, x[j].name(), x[j].solution_value())\n",
    "        )\n",
    "        \n",
    "    print()\n",
    "    print('Problem solved in %f milliseconds' % solver.wall_time())\n",
    "    print('Problem solved in %d iterations' % solver.iterations())\n",
    "    print('Problem solved in %d branch-and-bound nodes' % solver.nodes())\n",
    "else:\n",
    "    print(status)\n",
    "    print('The problem does not have an optimal solution.')"
   ]
  },
  {
   "cell_type": "markdown",
   "id": "8f32efc4",
   "metadata": {},
   "source": [
    "<a id=\"section-2\"></a><h2>2. Linear Programming : Duality</h2>[Home](#home)"
   ]
  },
  {
   "cell_type": "markdown",
   "id": "9bd03e77",
   "metadata": {},
   "source": [
    "The dual formulation is:\n",
    "\n",
    "|           |              |\n",
    "| ----------|:-------------|\n",
    "| $w_{i,j}$ | weight needed of good $i$ to produce biscuit $j$ |\n",
    "| $c_j$     | price for biscuit $j$ |\n",
    "| $s_i$     | available stock for good $i$ |\n",
    "| $y_i$     | quantity of good $i$ used |\n",
    "\n",
    "\\begin{align*}\n",
    "\\min &\\sum_i s_i * y_i & \\\\\n",
    "\\text{subject to:}&&\\\\\n",
    "&\\sum_i w_{j,i} * y_i \\geq c_j & \\forall j \\\\\n",
    "&y_i \\geq 0 & \\forall i\n",
    "\\end{align*}\n",
    "\n",
    "And it's implementation:"
   ]
  },
  {
   "cell_type": "code",
   "execution_count": 99,
   "id": "e1e19506",
   "metadata": {},
   "outputs": [],
   "source": [
    "dual_model = pywraplp.Solver.CreateSolver('SCIP')"
   ]
  },
  {
   "cell_type": "markdown",
   "id": "15f49b7d",
   "metadata": {},
   "source": [
    "In the dual problem, the variables are now the ingredients "
   ]
  },
  {
   "cell_type": "code",
   "execution_count": 100,
   "id": "fd147954",
   "metadata": {},
   "outputs": [],
   "source": [
    "y = {}\n",
    "\n",
    "for n, good in enumerate(GOODS):\n",
    "    y[n] = dual_model.NumVar(0, solver.infinity(), good)"
   ]
  },
  {
   "cell_type": "code",
   "execution_count": 101,
   "id": "f8a85241",
   "metadata": {},
   "outputs": [
    {
     "data": {
      "text/plain": [
       "{0: flour, 1: sugar, 2: chocolate, 3: oil, 4: eggs}"
      ]
     },
     "execution_count": 101,
     "metadata": {},
     "output_type": "execute_result"
    }
   ],
   "source": [
    "y"
   ]
  },
  {
   "cell_type": "code",
   "execution_count": 102,
   "id": "13e48c8f",
   "metadata": {},
   "outputs": [],
   "source": [
    "n_constraints = len(c)\n",
    "\n",
    "for j in range(n_constraints):\n",
    "    dual_model.Add(sum([w[i, j]*y[i] for i in range(N_GOODS)]) >= c[j])"
   ]
  },
  {
   "cell_type": "code",
   "execution_count": 103,
   "id": "e5c1d0d6",
   "metadata": {},
   "outputs": [],
   "source": [
    "objective = sum([y[i]*s[i] for i in range(N_GOODS)])\n",
    "dual_model.Minimize(objective)"
   ]
  },
  {
   "cell_type": "code",
   "execution_count": 104,
   "id": "ebc77f8b",
   "metadata": {},
   "outputs": [
    {
     "name": "stdout",
     "output_type": "stream",
     "text": [
      "0\n",
      "Objective value = 618.5185185185185\n",
      " #0 flour = 0.0\n",
      " #1 sugar = 11.85185185185185\n",
      " #2 chocolate = 2.2222222222222254\n",
      " #3 oil = 0.0\n",
      " #4 eggs = 0.259259259259259\n"
     ]
    }
   ],
   "source": [
    "# Run the solver\n",
    "status = dual_model.Solve()\n",
    "print(status)\n",
    "if status == pywraplp.Solver.OPTIMAL:\n",
    "    print('Objective value =', dual_model.Objective().Value())\n",
    "    for i in range(N_GOODS):\n",
    "        print(\" #{} {} = {}\".format(\n",
    "            i, y[i].name(), y[i].solution_value())\n",
    "        )\n",
    "else:\n",
    "    print(status)\n",
    "    print('The problem does not have an optimal solution.')"
   ]
  },
  {
   "cell_type": "code",
   "execution_count": 105,
   "id": "8577b4d2",
   "metadata": {},
   "outputs": [
    {
     "name": "stdout",
     "output_type": "stream",
     "text": [
      "             | Primal model |  Dual model \n",
      "==================================================\n",
      "             |   Variable   |    Slack    \n",
      "--------------------------------------------------\n",
      "cookie       |        66.67 |         0.00\n",
      "cupcake      |        44.44 |         0.00\n",
      "brownie      |        70.37 |         0.00\n",
      "--------------------------------------------------\n",
      "             |    Slack     |   Variable  \n",
      "--------------------------------------------------\n",
      "flour        |         1.48 |         0.00\n",
      "sugar        |         0.00 |        11.85\n",
      "chocolate    |         0.00 |         2.22\n",
      "oil          |         0.19 |         0.00\n",
      "eggs         |         0.00 |         0.26\n"
     ]
    }
   ],
   "source": [
    "print('{:<12} | {:^12} | {:^12}'.format('', 'Primal model', 'Dual model'))\n",
    "print(''.join(['=']*50))\n",
    "print('{:<12} | {:^12} | {:^12}'.format('', 'Variable', 'Slack'))\n",
    "print(''.join(['-']*50))\n",
    "for j in range(N_BISCUITS):\n",
    "    print('{:<12} | {:>12.2f} | {:>12.2f}'.format(\n",
    "        BISCUITS[j], x[j].solution_value() , c[j] - sum([y[i].solution_value()*w[i, j] for i in range(N_GOODS)])))\n",
    "print(''.join(['-']*50))\n",
    "print('{:<12} | {:^12} | {:^12}'.format('', 'Slack', 'Variable'))\n",
    "print(''.join(['-']*50))\n",
    "for i in range(N_GOODS):\n",
    "    print('{:<12} | {:>12.2f} | {:>12.2f}'.format(\n",
    "        GOODS[i],  s[i] - sum([x[j].solution_value()*w[i, j] for j in range(N_BISCUITS)]), y[i].solution_value()))"
   ]
  },
  {
   "cell_type": "markdown",
   "id": "7164f34c",
   "metadata": {},
   "source": [
    "<a id=\"section-3\"></a><h2>3. Mixed Integer Programming : WareHouse Problem</h2>[Home](#home)"
   ]
  },
  {
   "cell_type": "markdown",
   "id": "0cbec5ac",
   "metadata": {},
   "source": [
    "<h3>Problem definition </h3>\n",
    "<br>\n",
    "We have several warehouses w and n customers to serve. We want to know which warehouse should serve which customers, given that :\n",
    "\n",
    "- Each warehouse has a fixed capacity\n",
    "- Serving a customer has a cost\n",
    "    "
   ]
  },
  {
   "cell_type": "markdown",
   "id": "e8074eae",
   "metadata": {},
   "source": [
    "<h3>Decision variables</h3>\n",
    "\n",
    "- decide whether a warehouse serves a customer\n",
    "     - $y_{wc}$ = 1 if warehouse w serves customer c"
   ]
  },
  {
   "cell_type": "markdown",
   "id": "7f2d6ed6",
   "metadata": {},
   "source": [
    "<h3>What are the constraints?</h3>\n",
    "\n",
    "- the warehouse cannot serve more customers than its capacity \\begin{align*} &\\sum_c y_{wc} \\leq capa_{w} & \\forall w \\\\\\end{align*}\n",
    "- a customer must be served by exactly one warehouse \\begin{align*} &\\sum_w y_{wc} = 1 & \\forall c \\\\\\end{align*}"
   ]
  },
  {
   "cell_type": "markdown",
   "id": "3b3101cf",
   "metadata": {},
   "source": [
    "### Problem Formulation\n",
    "\n",
    "\\begin{align*}\n",
    "\\min &\\qquad \\sum_{w ,s} t_{wc} y_{wc} & \\\\\n",
    "\\text{subject to:} &&\\\\\n",
    "&\\sum_w y_{wc} = 1 & \\forall c \\\\\n",
    "&x_w, y_{wc} \\in \\mathbb{B} & \\forall w,c\n",
    "\\end{align*}"
   ]
  },
  {
   "cell_type": "code",
   "execution_count": 148,
   "id": "f18fee86",
   "metadata": {},
   "outputs": [],
   "source": [
    "w_capacity = [1,4,1,3,2]  # the capacity of a warehouse\n",
    "\n",
    "transportation_costs = np.array(\n",
    "    [[20, 28, 74,  2, 46, 42,  1, 10, 93, 47], # t_{w,s}\n",
    "     [24, 27, 97, 55, 96, 22,  5, 73, 35, 65],\n",
    "     [11, 82, 71, 73, 59, 29, 73, 13, 63, 55],\n",
    "     [25, 83, 96, 69, 83, 67, 59, 43, 85, 71],\n",
    "     [30, 74, 70, 61,  4, 59, 56, 96, 46, 95]])\n",
    "\n",
    "\n",
    "N_WAREHOUSES, N_STORES  = transportation_costs.shape"
   ]
  },
  {
   "cell_type": "code",
   "execution_count": 149,
   "id": "16834889",
   "metadata": {},
   "outputs": [
    {
     "name": "stdout",
     "output_type": "stream",
     "text": [
      "Number of variables = 50\n",
      "Solving with SCIP 9.0.0 [LP solver: Glop 9.10]\n",
      "Objective value = 274.0\n",
      "Store 0 will be served by warehouse 3\n",
      "Store 1 will be served by warehouse 1\n",
      "Store 2 will be served by warehouse 4\n",
      "Store 3 will be served by warehouse 0\n",
      "Store 4 will be served by warehouse 4\n",
      "Store 5 will be served by warehouse 1\n",
      "Store 6 will be served by warehouse 1\n",
      "Store 7 will be served by warehouse 2\n",
      "Store 8 will be served by warehouse 1\n",
      "Store 9 will be served by warehouse 3\n",
      "\n",
      "Problem solved in 12 milliseconds\n",
      "Problem solved in 0 iterations\n",
      "Problem solved in 0 branch-and-bound nodes\n"
     ]
    }
   ],
   "source": [
    "# --- Create the solver\n",
    "mip_model = pywraplp.Solver.CreateSolver(\"SAT\")\n",
    "\n",
    "# --- Create the variables\n",
    "y = {}\n",
    "for w, s in itertools.product(range(N_WAREHOUSES), range(N_STORES)):\n",
    "    y[w, s] = mip_model.IntVar(0, 1, f\"y[{w, s}]\")\n",
    "print(\"Number of variables =\", mip_model.NumVariables())\n",
    "\n",
    "\n",
    "# --- Create the constraints\n",
    "for w in range(N_WAREHOUSES):\n",
    "    mip_model.Add(sum([y[w, c] for c in range(N_STORES)]) <= w_capacity[w])\n",
    "    \n",
    "for c in range(N_STORES):\n",
    "    mip_model.Add(sum([y[w, c] for w in range(N_WAREHOUSES)]) == 1)\n",
    "    \n",
    "# -- Define the objective function\n",
    "objective = sum([y[i, j]*transportation_costs[i, j] for i, j in itertools.product(range(N_WAREHOUSES), range(N_STORES))])\n",
    "mip_model.Minimize(objective)\n",
    "\n",
    "print(f\"Solving with {solver.SolverVersion()}\")\n",
    "status = mip_model.Solve()\n",
    "\n",
    "if status == pywraplp.Solver.OPTIMAL:\n",
    "    print(\"Objective value =\", mip_model.Objective().Value())\n",
    "    solutions = np.zeros((N_WAREHOUSES, N_STORES))\n",
    "    for s, w in itertools.product(range(N_STORES), range(N_WAREHOUSES)):\n",
    "        solutions[w,s] = y[w,s].solution_value()\n",
    "        if solutions[w,s] == 1:\n",
    "            print(\"Store {} will be served by warehouse {}\".format(s,w))\n",
    "    print()\n",
    "    print(f\"Problem solved in {mip_model.wall_time():d} milliseconds\")\n",
    "    print(f\"Problem solved in {mip_model.iterations():d} iterations\")\n",
    "    print(f\"Problem solved in {mip_model.nodes():d} branch-and-bound nodes\")\n",
    "    # print(solutions)\n",
    "else:\n",
    "    print(\"The problem does not have an optimal solution.\")"
   ]
  },
  {
   "cell_type": "markdown",
   "id": "fc88b228",
   "metadata": {},
   "source": [
    "---"
   ]
  },
  {
   "cell_type": "markdown",
   "id": "24ba9d66",
   "metadata": {},
   "source": [
    "Let's now consider the rental prices of your warehouses: \n",
    "The rents of the warehouses are :\n",
    "\n",
    "```python\n",
    "rents = [20, 75, 18, 34, 22]\n",
    "```\n",
    "\n",
    "Your landlord for warehouse 2 is asking for a +50% increase, from 18 to 27k€ per month. The question is :\n",
    "\n",
    "-> **Should you close store 2 or should you accept the raise?**"
   ]
  },
  {
   "cell_type": "markdown",
   "id": "d201ba9e",
   "metadata": {},
   "source": [
    "We will start by adding this term to our objective function : \n",
    "\\begin{align*}\n",
    "\\min &\\qquad \\sum_w rent_w x_w + \\sum_{w ,s} t_{ws} y_{ws} & \\\\\n",
    "\\end{align*}"
   ]
  },
  {
   "cell_type": "markdown",
   "id": "82c97f7d",
   "metadata": {},
   "source": [
    "<h3>Decision variables</h3>\n",
    "\n",
    "- decide whether a warehouse serves a customer\n",
    "     - $y_{wc}$ = 1 if warehouse w serves customer c\n",
    "- <strong>for each warehouse, decide whether to open it\n",
    "    - $x_w$ = 1 if warehouse w is open</strong>"
   ]
  },
  {
   "cell_type": "markdown",
   "id": "044037ae",
   "metadata": {},
   "source": [
    "<h3>What are the constraints?</h3>\n",
    "\n",
    "- the warehouse cannot serve more customers than its capacity \\begin{align*} &\\sum_c y_{wc} \\leq capa_{w} & \\forall w \\\\\\end{align*}\n",
    "- a customer must be served by exactly one warehouse \\begin{align*} &\\sum_w y_{wc} = 1 & \\forall c \\\\\\end{align*}\n",
    "- <strong>a warehouse can serve a customer only if it is open \\begin{align*} &y_{wc} \\leq x_w & \\forall w,c \\\\\\end{align*}</strong>"
   ]
  },
  {
   "cell_type": "markdown",
   "id": "76fd4fa3",
   "metadata": {},
   "source": [
    "<h3>What is the objective function ?</h3>\n",
    "\n",
    "We want to minimize all three:\n",
    "\n",
    "- the cost of opening a warehouse\n",
    "- the transportation cost between the customer and the warehouse"
   ]
  },
  {
   "cell_type": "markdown",
   "id": "c13489de",
   "metadata": {},
   "source": [
    "<h3>Problem definition </h3>"
   ]
  },
  {
   "cell_type": "code",
   "execution_count": 161,
   "id": "0d3ae88a",
   "metadata": {},
   "outputs": [
    {
     "name": "stdout",
     "output_type": "stream",
     "text": [
      "Number of variables = 50\n",
      "Number of variables = 55\n",
      "Solving with SCIP 9.0.0 [LP solver: Glop 9.10]\n",
      "Objective value with current rents = 443.0\n"
     ]
    }
   ],
   "source": [
    "# --- Create the solver\n",
    "mip_model = pywraplp.Solver.CreateSolver(\"SAT\")\n",
    "rents = [20, 75, 18, 34, 22]\n",
    "\n",
    "\n",
    "# --- Create the variables\n",
    "y = {}\n",
    "for w, s in itertools.product(range(N_WAREHOUSES), range(N_STORES)):\n",
    "    y[w, s] = mip_model.IntVar(0, 1, f\"y[{w, s}]\")\n",
    "print(\"Number of variables =\", mip_model.NumVariables())\n",
    "x = {}\n",
    "for w in range(N_WAREHOUSES):\n",
    "    x[w] = mip_model.IntVar(0, 1, f\"x[{w}]\")\n",
    "print(\"Number of variables =\", mip_model.NumVariables())\n",
    "\n",
    "\n",
    "\n",
    "# --- Create the constraints\n",
    "for w in range(N_WAREHOUSES):\n",
    "    mip_model.Add(sum([y[w, c] for c in range(N_STORES)]) <= w_capacity[w])\n",
    "    \n",
    "for c in range(N_STORES):\n",
    "    mip_model.Add(sum([y[w, c] for w in range(N_WAREHOUSES)]) == 1)\n",
    "    \n",
    "for w, c in itertools.product(range(N_WAREHOUSES), range(N_STORES)):\n",
    "    mip_model.Add(y[w, c] <= x[w])\n",
    "    \n",
    "# -- Define the objective function\n",
    "objective = sum([y[i, j]*transportation_costs[i, j] for i, j in itertools.product(range(N_WAREHOUSES), range(N_STORES))])\n",
    "objective += sum([x[i] * rents[i] for i in range(N_WAREHOUSES)])\n",
    "mip_model.Minimize(objective)\n",
    "\n",
    "print(f\"Solving with {solver.SolverVersion()}\")\n",
    "status = mip_model.Solve()\n",
    "\n",
    "if status == pywraplp.Solver.OPTIMAL:\n",
    "    print(\"Objective value with current rents =\", mip_model.Objective().Value())\n",
    "else:\n",
    "    print(\"The problem does not have an optimal solution.\")"
   ]
  },
  {
   "cell_type": "code",
   "execution_count": 164,
   "id": "3e226c17",
   "metadata": {},
   "outputs": [
    {
     "name": "stdout",
     "output_type": "stream",
     "text": [
      "Number of variables = 50\n",
      "Number of variables = 55\n",
      "Solving with SCIP 9.0.0 [LP solver: Glop 9.10]\n",
      "Objective value with new rents = 452.0\n"
     ]
    }
   ],
   "source": [
    "# --- Create the solver\n",
    "mip_model = pywraplp.Solver.CreateSolver(\"SAT\")\n",
    "rents = [20, 75, 27, 34, 22]\n",
    "\n",
    "\n",
    "# --- Create the variables\n",
    "y = {}\n",
    "for w, s in itertools.product(range(N_WAREHOUSES), range(N_STORES)):\n",
    "    y[w, s] = mip_model.IntVar(0, 1, f\"y[{w, s}]\")\n",
    "print(\"Number of variables =\", mip_model.NumVariables())\n",
    "x = {}\n",
    "for w in range(N_WAREHOUSES):\n",
    "    x[w] = mip_model.IntVar(0, 1, f\"x[{w}]\")\n",
    "print(\"Number of variables =\", mip_model.NumVariables())\n",
    "\n",
    "\n",
    "\n",
    "# --- Create the constraints\n",
    "for w in range(N_WAREHOUSES):\n",
    "    mip_model.Add(sum([y[w, c] for c in range(N_STORES)]) <= w_capacity[w])\n",
    "    \n",
    "for c in range(N_STORES):\n",
    "    mip_model.Add(sum([y[w, c] for w in range(N_WAREHOUSES)]) == 1)\n",
    "    \n",
    "for w, c in itertools.product(range(N_WAREHOUSES), range(N_STORES)):\n",
    "    mip_model.Add(y[w, c] <= x[w])\n",
    "    \n",
    "# -- Define the objective function\n",
    "objective = sum([y[i, j]*transportation_costs[i, j] for i, j in itertools.product(range(N_WAREHOUSES), range(N_STORES))])\n",
    "objective += sum([x[i] * rents[i] for i in range(N_WAREHOUSES)])\n",
    "mip_model.Minimize(objective)\n",
    "\n",
    "print(f\"Solving with {solver.SolverVersion()}\")\n",
    "status = mip_model.Solve()\n",
    "\n",
    "if status == pywraplp.Solver.OPTIMAL:\n",
    "    print(\"Objective value with new rents =\", mip_model.Objective().Value())\n",
    "else:\n",
    "    print(\"The problem does not have an optimal solution.\")"
   ]
  },
  {
   "cell_type": "markdown",
   "id": "03724697",
   "metadata": {},
   "source": [
    "With the rent increase for store 2, costs have raised from 443 to 452k€. \n",
    "\n",
    "How about closing one store to compensate for this raise ? \n",
    "\n",
    "We add an additional constraint :\n",
    "\n",
    "- the warehouse cannot serve more customers than its capacity \\begin{align*} &\\sum_c y_{wc} \\leq capa_{w} & \\forall w \\\\\\end{align*}\n",
    "- a customer must be served by exactly one warehouse \\begin{align*} &\\sum_w y_{wc} = 1 & \\forall c \\\\\\end{align*}\n",
    "- <strong>a warehouse can serve a customer only if it is open \\begin{align*} &y_{wc} \\leq x_w & \\forall w,c \\\\\\end{align*}</strong>\n",
    "- <strong>we can only open 4 warehouses \\begin{align*} &\\sum_w x_{w} = 4  \\\\\\end{align*}</strong>"
   ]
  },
  {
   "cell_type": "code",
   "execution_count": 172,
   "id": "fe3c9af8",
   "metadata": {},
   "outputs": [
    {
     "name": "stdout",
     "output_type": "stream",
     "text": [
      "Number of variables = 50\n",
      "Number of variables = 55\n",
      "Solving with SCIP 9.0.0 [LP solver: Glop 9.10]\n",
      "Objective value with new rents = 455.0\n",
      "Warehouse 0 -> Keep\n",
      "Warehouse 1 -> Keep\n",
      "Warehouse 2 -> Close\n",
      "Warehouse 3 -> Keep\n",
      "Warehouse 4 -> Keep\n"
     ]
    }
   ],
   "source": [
    "# --- Create the solver\n",
    "mip_model = pywraplp.Solver.CreateSolver(\"SAT\")\n",
    "rents = [20, 75, 27, 34, 22]\n",
    "\n",
    "\n",
    "# --- Create the variables\n",
    "y = {}\n",
    "for w, s in itertools.product(range(N_WAREHOUSES), range(N_STORES)):\n",
    "    y[w, s] = mip_model.IntVar(0, 1, f\"y[{w, s}]\")\n",
    "print(\"Number of variables =\", mip_model.NumVariables())\n",
    "x = {}\n",
    "for w in range(N_WAREHOUSES):\n",
    "    x[w] = mip_model.IntVar(0, 1, f\"x[{w}]\")\n",
    "print(\"Number of variables =\", mip_model.NumVariables())\n",
    "\n",
    "\n",
    "\n",
    "# --- Create the constraints\n",
    "for w in range(N_WAREHOUSES):\n",
    "    mip_model.Add(sum([y[w, c] for c in range(N_STORES)]) <= w_capacity[w])\n",
    "    \n",
    "for c in range(N_STORES):\n",
    "    mip_model.Add(sum([y[w, c] for w in range(N_WAREHOUSES)]) == 1)\n",
    "    \n",
    "for w, c in itertools.product(range(N_WAREHOUSES), range(N_STORES)):\n",
    "    mip_model.Add(y[w, c] <= x[w])\n",
    "    \n",
    "mip_model.Add(sum([x[w] for w in range(N_WAREHOUSES)]) <= 4)\n",
    "\n",
    "# -- Define the objective function\n",
    "objective = sum([y[i, j]*transportation_costs[i, j] for i, j in itertools.product(range(N_WAREHOUSES), range(N_STORES))])\n",
    "objective += sum([x[i] * rents[i] for i in range(N_WAREHOUSES)])\n",
    "mip_model.Minimize(objective)\n",
    "\n",
    "print(f\"Solving with {solver.SolverVersion()}\")\n",
    "status = mip_model.Solve()\n",
    "\n",
    "if status == pywraplp.Solver.OPTIMAL:\n",
    "    print(\"Objective value with new rents =\", mip_model.Objective().Value())\n",
    "    for i in range(N_WAREHOUSES):\n",
    "        print(f\"Warehouse {i} -> {'Keep' if x[i].solution_value()==1 else 'Close'}\")\n",
    "else:\n",
    "    print(\"The problem does not have an optimal solution.\")"
   ]
  },
  {
   "cell_type": "markdown",
   "id": "c165d5c1",
   "metadata": {},
   "source": [
    "Shutting down warehouse 2 would be 3k more expensive than to accept the rent raise."
   ]
  },
  {
   "cell_type": "markdown",
   "id": "0467d25a",
   "metadata": {},
   "source": [
    "<a id=\"section-4\"></a><h2>4. Mixed Integer Programming : Water Network Problem</h2>[Home](#home)"
   ]
  },
  {
   "cell_type": "markdown",
   "id": "6552c848",
   "metadata": {},
   "source": [
    "<h3>Problem definition </h3>\n",
    "<br>\n",
    "Consider a water network that consists of a set of nodes. Each node has a demand for water and may produce some water. The goal is to decide where to produce the water to meet the demand and to determine the best way to transport the water from the production nodes to the consumption nodes through pipelines. Each pipeline has a capacity that cannot be exceeded. There is a transportation cost for shipping a unit of water through each pipeline and a penalty for each unit of demand that is not fulfilled by the production and transportation plan. The goal is to minimize the total cost. \n",
    "    "
   ]
  },
  {
   "cell_type": "markdown",
   "id": "61c1e264",
   "metadata": {},
   "source": [
    "<h3>Decision variables</h3>\n",
    "\n",
    "- decide whether a warehouse serves a customer\n",
    "     - $v_{ij}$ = amount of water flowing from node $i$ to node $j$\n",
    "     - $p_i$ = amount of water produced at node $i$\n",
    "     - $d_i$ = amount of water demand at node $i$\n",
    "     "
   ]
  },
  {
   "cell_type": "markdown",
   "id": "99c77204",
   "metadata": {},
   "source": [
    "<h3>What are the constraints?</h3>\n",
    "\n",
    "- Each pipeline has a capacity that cannot be exceeded \\begin{align*} &v_{ij} \\leq ca_{ij} & \\forall i,j \\\\\\end{align*}\n",
    "- The amount of water produced by node i cannot exceed the maximum production of this node \\begin{align*} &p_{i} \\leq p_{max_i} & \\forall i \\\\\\end{align*}\n",
    "- The amount of water produced + received by node i is equal to what is consumed (demand) + what leaves \\begin{align*} &\\sum_j v_{ji} + p_i = \\sum_j v_{ij} + d_{i} - z_{i} & \\forall i \\\\\\end{align*}"
   ]
  },
  {
   "cell_type": "markdown",
   "id": "9c0a4c16",
   "metadata": {},
   "source": [
    "### Problem Formulation\n",
    "\n",
    "\\begin{align*}\n",
    "\\min &\\qquad \\sum_{i,j} vc * v_{ij} + \\sum_{i} p * z_{i} & \\\\\n",
    "\\end{align*}"
   ]
  },
  {
   "cell_type": "code",
   "execution_count": 183,
   "id": "756df904",
   "metadata": {},
   "outputs": [],
   "source": [
    "# consumption (demand)\n",
    "d = [ 0, 50, 95, 10, 73, 55, 125, 32, 40, 20 ]\n",
    "# production (maximum generation)\n",
    "p_max = [ 500, 0, 0, 500, 0, 0, 500, 0, 0, 0 ]\n",
    "\n",
    "N_NODES = len(d)\n",
    "\n",
    "# capacity of the arcs\n",
    "ca = [ [10, 20, 30, 40, 50, 60, 70, 80, 90, 100],\n",
    "       [20, 30, 40, 50, 60, 70, 80, 90, 100, 10],\n",
    "       [30, 40, 50, 60, 70, 80, 90, 100, 10, 20],\n",
    "       [40, 50, 60, 70, 80, 90, 100, 10, 20, 30],\n",
    "       [50, 60, 70, 80, 90, 100, 10, 20, 30, 40],\n",
    "       [60, 70, 80, 90, 100, 10, 20, 30, 40, 50],\n",
    "       [70, 80, 90, 100, 10, 20, 30, 40, 50, 60],\n",
    "       [80, 90, 100, 10, 20, 30, 40, 50, 60, 70],\n",
    "       [90, 100, 10, 20, 30, 40, 50, 60, 70, 80],\n",
    "       [100, 10, 20, 30, 40, 50, 60, 70, 80, 90]\n",
    "     ]\n",
    "\n",
    "# linear variable cost: the cost of transporting one unit of water\n",
    "vc = 1\n",
    "\n",
    "# unsatisfied demand: penalty for each unit of water which is not consumed or produced\n",
    "penalty = 1000"
   ]
  },
  {
   "cell_type": "code",
   "execution_count": 191,
   "id": "accfef58",
   "metadata": {
    "scrolled": false
   },
   "outputs": [
    {
     "name": "stdout",
     "output_type": "stream",
     "text": [
      "Solving with SCIP 9.0.0 [LP solver: Glop 9.10]\n",
      "Objective value = 365.0\n",
      "Production at node 0 -> 112.0\n",
      "Production at node 3 -> 113.0\n",
      "Production at node 6 -> 275.0\n",
      "Flow between 0 and 2 -> 5.0\n",
      "Flow between 0 and 4 -> 50.0\n",
      "Flow between 0 and 5 -> 35.0\n",
      "Flow between 0 and 7 -> 22.0\n",
      "Flow between 3 and 1 -> 50.0\n",
      "Flow between 3 and 4 -> 23.0\n",
      "Flow between 3 and 7 -> 10.0\n",
      "Flow between 3 and 8 -> 20.0\n",
      "Flow between 6 and 2 -> 90.0\n",
      "Flow between 6 and 5 -> 20.0\n",
      "Flow between 6 and 8 -> 20.0\n",
      "Flow between 6 and 9 -> 20.0\n"
     ]
    }
   ],
   "source": [
    "mip_model = pywraplp.Solver.CreateSolver(\"SAT\")\n",
    "\n",
    "\n",
    "# Create variables\n",
    "v = {}\n",
    "for i,j in itertools.product(range(N_NODES), range(N_NODES)):\n",
    "    v[i,j] = mip_model.IntVar(0, mip_model.infinity(), f\"v[{i,j}]\") \n",
    "    \n",
    "z = {}\n",
    "for i in range(N_NODES):\n",
    "    z[i] = mip_model.IntVar(0, mip_model.infinity(), f\"z[{i}]\") \n",
    "\n",
    "p = {}\n",
    "for i in range(N_NODES):\n",
    "    p[i] = mip_model.IntVar(0, p_max[i], f\"p[{i}]\") \n",
    "    \n",
    "# Create constraints\n",
    "for i in range(N_NODES):\n",
    "    mip_model.Add(sum([v[j, i] for j in range(N_NODES)]) + p[i] == sum([v[i, j] for j in range(N_NODES)]) + d[i] - z[i])\n",
    "    \n",
    "\n",
    "for i,j in itertools.product(range(N_NODES), range(N_NODES)):\n",
    "    mip_model.Add(v[i, j] <= ca[i][j])\n",
    "    \n",
    "    \n",
    "# -- Define the objective function\n",
    "objective = sum([v[i, j] * vc for i, j in itertools.product(range(N_NODES), range(N_NODES))])\n",
    "objective += sum([z[i] * penalty for i in range(N_NODES)])\n",
    "mip_model.Minimize(objective)\n",
    "\n",
    "print(f\"Solving with {solver.SolverVersion()}\")\n",
    "status = mip_model.Solve()\n",
    "\n",
    "if status == pywraplp.Solver.OPTIMAL:\n",
    "    print(\"Objective value =\", mip_model.Objective().Value())\n",
    "    for i in range(N_NODES):\n",
    "        if p[i].solution_value() > 0:\n",
    "            print(f\"Production at node {i} -> {p[i].solution_value()}\")\n",
    "    for i,j in itertools.product(range(N_NODES), range(N_NODES)):\n",
    "        if v[i, j].solution_value() > 0:\n",
    "            print(f\"Flow between {i} and {j} -> {v[i, j].solution_value()}\")\n",
    "else:\n",
    "    print(\"The problem does not have an optimal solution.\")"
   ]
  },
  {
   "cell_type": "code",
   "execution_count": null,
   "id": "f9fea782",
   "metadata": {},
   "outputs": [],
   "source": []
  }
 ],
 "metadata": {
  "kernelspec": {
   "display_name": ".ortoolsenv",
   "language": "python",
   "name": ".ortoolsenv"
  },
  "language_info": {
   "codemirror_mode": {
    "name": "ipython",
    "version": 3
   },
   "file_extension": ".py",
   "mimetype": "text/x-python",
   "name": "python",
   "nbconvert_exporter": "python",
   "pygments_lexer": "ipython3",
   "version": "3.8.0"
  }
 },
 "nbformat": 4,
 "nbformat_minor": 5
}
