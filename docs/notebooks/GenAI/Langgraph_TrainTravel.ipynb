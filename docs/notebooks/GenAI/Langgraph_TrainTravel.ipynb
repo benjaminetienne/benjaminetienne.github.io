{
 "cells": [
  {
   "cell_type": "code",
   "execution_count": 1,
   "id": "b4a4e668-f0c3-4e24-ac52-08dbe88acbe1",
   "metadata": {},
   "outputs": [],
   "source": [
    "import requests\n",
    "import json\n",
    "from datetime import date, datetime, time"
   ]
  },
  {
   "cell_type": "code",
   "execution_count": 2,
   "id": "fab2b234-59a4-41b7-9af9-5266f4d4bb0c",
   "metadata": {},
   "outputs": [
    {
     "name": "stdout",
     "output_type": "stream",
     "text": [
      "langchain==0.2.16\n",
      "langchain-community==0.2.16\n",
      "langchain-core==0.2.43\n",
      "langchain-google-community==1.0.8\n",
      "langchain-google-vertexai==1.0.6\n",
      "langchain-ollama==0.1.3\n",
      "langchain-text-splitters==0.2.4\n",
      "langgraph==0.2.38\n",
      "langgraph-checkpoint==2.0.8\n",
      "langgraph-sdk==0.1.43\n",
      "langsmith==0.1.144\n"
     ]
    }
   ],
   "source": [
    "!pip freeze | grep -i \"^lang\""
   ]
  },
  {
   "cell_type": "markdown",
   "id": "de33561b-754c-4ce2-9430-f1a335ea93cf",
   "metadata": {},
   "source": [
    "## Tools"
   ]
  },
  {
   "cell_type": "markdown",
   "id": "f4f19313-4ec7-43da-8bd5-c5edc60cd895",
   "metadata": {},
   "source": [
    "### Get trains"
   ]
  },
  {
   "cell_type": "code",
   "execution_count": 3,
   "id": "9379e3ed-a928-4560-ac64-c081330d16aa",
   "metadata": {},
   "outputs": [],
   "source": [
    "def get_connections(\n",
    "    from_location: str, \n",
    "    to_location: str, \n",
    "    date: date=None, \n",
    "    time: time=None):\n",
    "    \n",
    "    r = requests.get(\n",
    "        \"http://transport.opendata.ch/v1/connections\", \n",
    "        params={\n",
    "            'from': from_location, \n",
    "            'to': to_location, \n",
    "            'date': date, \n",
    "            'time': time}\n",
    "    )\n",
    "    \n",
    "    if r.raise_for_status():\n",
    "        return \"No connection found\"\n",
    "    \n",
    "    return [\n",
    "        {\n",
    "            'departure': datetime.fromtimestamp(x['from']['departureTimestamp']).time().strftime(format=\"%H:%M\"),\n",
    "            'arrival': datetime.fromtimestamp(x['to']['arrivalTimestamp']).time().strftime(format=\"%H:%M\")\n",
    "        } for x in r.json().get('connections')\n",
    "    ]"
   ]
  },
  {
   "cell_type": "code",
   "execution_count": 4,
   "id": "accf5e11-fb8e-4fc8-be95-c7dcee713f61",
   "metadata": {},
   "outputs": [
    {
     "data": {
      "text/plain": [
       "[{'departure': '19:40', 'arrival': '23:58'},\n",
       " {'departure': '20:34', 'arrival': '01:25'},\n",
       " {'departure': '23:44', 'arrival': '07:58'},\n",
       " {'departure': '00:04', 'arrival': '08:58'}]"
      ]
     },
     "execution_count": 4,
     "metadata": {},
     "output_type": "execute_result"
    }
   ],
   "source": [
    "get_connections('Lausanne', 'Lugano')"
   ]
  },
  {
   "cell_type": "markdown",
   "id": "af068614-b3ba-45b2-8f02-06a4e32802c0",
   "metadata": {},
   "source": [
    "### Get data from Tripadvisor"
   ]
  },
  {
   "cell_type": "code",
   "execution_count": 5,
   "id": "5ab6b109-bd5a-4bd0-b276-128f02cbc40d",
   "metadata": {},
   "outputs": [],
   "source": [
    "def _query_tripadvisor_api(location: str, location_type: str):\n",
    "    url = 'https://www.tripadvisor.com/data/graphql/ids'\n",
    "    headers = {\n",
    "        'User-Agent': 'Mozilla/5.0 (Macintosh; Intel Mac OS X 10_15_7) AppleWebKit/537.36 (KHTML, like Gecko) Chrome/131.0.0.0 Safari/537.36', \n",
    "        'Content-Type': 'application/json'\n",
    "    }\n",
    "    body = json.dumps([\n",
    "        {\"variables\":\n",
    "         {\"request\":\n",
    "          {\"filters\":\n",
    "           {\"dataTypes\":[\"LOCATION\"],\"locationTypes\":[location_type]},\n",
    "           \"locale\":\"en-US\",\n",
    "           \"query\":location,\n",
    "           \"offset\":0,\n",
    "           \"scope\":{\n",
    "               \"locationId\":1,\"center\":None\n",
    "           },\n",
    "           \"locationIdsToExclude\":[],\n",
    "           \"categoryFilterIds\":[\"DESTINATIONS\",\"RESTAURANTS\",\"ATTRACTIONS\",\"HOTELS\",\"ACTIVITIES\",\"VACATION_RENTALS\"],\n",
    "           \"additionalFields\":[\"SNIPPET\",\"MENTION_COUNT\"],\n",
    "           \"limit\":30\n",
    "          }\n",
    "         },\n",
    "         \"extensions\":\n",
    "         {\"preRegisteredQueryId\":\"d65d51b7e2ed4f40\"}\n",
    "        }\n",
    "    ])\n",
    "    r = requests.post(url, data=body, headers=headers)\n",
    "    if r.raise_for_status():\n",
    "        return \"Error\"\n",
    "\n",
    "    try:\n",
    "        return [\n",
    "            {\n",
    "                'name': x['details']['localizedName'],\n",
    "                'link': \"https://www.tripadvisor.com\" + x['details']['defaultUrl'],\n",
    "                'description': x['details']['locationDescription'],\n",
    "                'rating': x['details']['reviewSummary']['rating'],\n",
    "                'reviews': x['details']['reviewSummary']['count']\n",
    "                \n",
    "            } for x in r.json()[0]['data']['SERP_getSearchResultsList']['clusters'][0]['sections'][1]['results']]\n",
    "    except: \n",
    "        return r.json()"
   ]
  },
  {
   "cell_type": "markdown",
   "id": "c6101d6c-16c2-48b3-ae6b-b8aab5847e60",
   "metadata": {},
   "source": [
    "### Get hotels from Tripadvisor"
   ]
  },
  {
   "cell_type": "code",
   "execution_count": 6,
   "id": "5c2f67f3-6550-45c2-82d7-453bfecd6e15",
   "metadata": {},
   "outputs": [],
   "source": [
    "def search_hotels(location: str):\n",
    "    return _query_tripadvisor_api(location, location_type='ACCOMMODATION')"
   ]
  },
  {
   "cell_type": "code",
   "execution_count": 7,
   "id": "f8f2bf83-e1de-4068-b6c9-50f7722ecf8e",
   "metadata": {},
   "outputs": [],
   "source": [
    "r = search_hotels('Niort')"
   ]
  },
  {
   "cell_type": "code",
   "execution_count": 8,
   "id": "356361ce-8a1b-414c-891a-08e79815ab7a",
   "metadata": {
    "scrolled": true
   },
   "outputs": [
    {
     "data": {
      "text/plain": [
       "[{'name': 'Mercure Niort Marais Poitevin',\n",
       "  'link': 'https://www.tripadvisor.com/Hotel_Review-g196667-d197093-Reviews-Mercure_Niort_Marais_Poitevin-Niort_Deux_Sevres_Nouvelle_Aquitaine.html',\n",
       "  'description': 'The Mercure Niort Marais Poitevin, in the centre of town and close to the historic quarter, welcomes you in the shade of large trees in its garden. Offers quiet, spacious and comfortable rooms with their own bathroom, WC, flatscreen TV with international channels, broadband Internet and minibar. Our La Veranda du Dauzac restaurant with its refined, contemporary decor, will enlighten you with an inventive and flavoursome cuisine in tune with the seasons. Shady terrace, pool and secure private parking.',\n",
       "  'rating': 4,\n",
       "  'reviews': 712},\n",
       " {'name': 'Grand Hotel Niort Centre',\n",
       "  'link': 'https://www.tripadvisor.com/Hotel_Review-g196667-d481699-Reviews-Grand_Hotel_Niort_Centre-Niort_Deux_Sevres_Nouvelle_Aquitaine.html',\n",
       "  'description': 'Welcome to Grand Hotel Niort Centre, a nice option for travelers like you. Grand Hotel Niort Centre a budget friendly hotel offering air conditioning in each room, and it is easy to stay connected during your stay as free WIFI is offered to guests.Express check-in and check-out. The hotel features a garden with a terrace and guests can enjoy a lounge. We also have a parking lot reserved for our customers for 10€ including tax per night. We are located in the city center, you have access less than 5 min (on foot) to the main square of Niort \"La Brèche\" on which you will find bars, restaurants, cinema and play area for children. This square serves directly in the historic center of Niort ( pedestrian area) with its shops, its 12th century Keep, the Pillory (former aldermen) and its large market \"les halls\" to discover! Thursday/Saturday/Sunday. From the city center of multiple footbridges to the locks and mills, passing by the Jardin des Plantes on the terrace, the quays, the bridges and the port, discover a green setting with a gentle landscape...',\n",
       "  'rating': 3.5,\n",
       "  'reviews': 395},\n",
       " {'name': 'Hotel Particulier La Chamoiserie',\n",
       "  'link': 'https://www.tripadvisor.com/Hotel_Review-g196667-d1651171-Reviews-Hotel_Particulier_La_Chamoiserie-Niort_Deux_Sevres_Nouvelle_Aquitaine.html',\n",
       "  'description': \"Located in the heart of Niort's historical centre, and a few footsteps from the Sevres banks, from the cultural centre and from the train station, « Hôtel Particulier La Chamoiserie » welcomes you into a calm and well preserved environment.This ancient residence from the beginning of the century will offer you a heartwarming reception with its 16 comfortable bedrooms, all decorated in a cosy and elegant - yet simple way, and its lovely shady garden with a wooden terrace where you will enjoy having breakfasts and relaxing yourself.\",\n",
       "  'rating': 4.5,\n",
       "  'reviews': 225},\n",
       " {'name': 'Hotel The Originals Niort La Grange',\n",
       "  'link': 'https://www.tripadvisor.com/Hotel_Review-g196667-d4114724-Reviews-Hotel_The_Originals_Niort_La_Grange-Niort_Deux_Sevres_Nouvelle_Aquitaine.html',\n",
       "  'description': 'Our hotel is opened since February 2013, in 3.5km of the exit 32 of the highway Paris / Bordeaux in the entrance of Niort. You will take advantage free of charge of our swimming pool as well as our relaxing space (spa, sauna and fitness).',\n",
       "  'rating': 4.5,\n",
       "  'reviews': 419},\n",
       " {'name': 'KYRIAD Niort Espace Mendès France',\n",
       "  'link': 'https://www.tripadvisor.com/Hotel_Review-g196667-d1147517-Reviews-KYRIAD_Niort_Espace_Mendes_France-Niort_Deux_Sevres_Nouvelle_Aquitaine.html',\n",
       "  'description': \"Kyriad Niort is an excellent choice for travelers visiting Niort, offering a family-friendly environment alongside many helpful amenities designed to enhance your stay. The rooms offer a flat screen TV, air conditioning, and a desk, and getting online is possible, as free wifi is available, allowing you to rest and refresh with ease. Kyriad Niort features a 24 hour front desk, 24 hour check-in, and a coffee shop. In addition, as a valued Kyriad Niort guest, you can enjoy breakfast that is available on-site. Guests arriving by vehicle have access to free parking. While in Niort be sure to experience nearby barbeque restaurants such as Buffalo Grill, Poivre Rouge, O'La Vache, Le Hangar.. Best of all, Kyriad Niort makes it easy to experience many great Niort attractions like CACP - La villa Pérochon and Grafic Encadrement, which are some popular art galleries. Enjoy your stay in Niort!\",\n",
       "  'rating': 4.5,\n",
       "  'reviews': 315},\n",
       " {'name': 'Hotel du Moulin',\n",
       "  'link': 'https://www.tripadvisor.com/Hotel_Review-g196667-d589976-Reviews-Hotel_du_Moulin-Niort_Deux_Sevres_Nouvelle_Aquitaine.html',\n",
       "  'description': 'This air-conditioned hotel is situated at 300m of the market place and city center of Niort, at the edge of the river \"La Sèvre niortaise\", in 1.2km from the TGV station, 10mn from \"Marais Poitevin\" You will appreciate the quiet and the quality of rooms refurbished at the beginning of 2015.',\n",
       "  'rating': 4.5,\n",
       "  'reviews': 276},\n",
       " {'name': 'Best Western Hôtel de la Brèche',\n",
       "  'link': 'https://www.tripadvisor.com/Hotel_Review-g196667-d1948688-Reviews-Best_Western_Hotel_de_la_Breche-Niort_Deux_Sevres_Nouvelle_Aquitaine.html',\n",
       "  'description': 'Welcome to Best Western Hotel de la Breche!Enjoy the serenity and tranquility of a 4 star hotel of character, entirely renovated and contemporary style. Combining comfort and functionality, the rooms are designed to meet the expectations of customers. You will enjoy the tranquility of our hotel while you can enjoy every moment of the lively Niort, near the Puy du Fou, the Marais Poitevin, the Ile de Re and the Futuroscope in Poitiers.',\n",
       "  'rating': 4.5,\n",
       "  'reviews': 325},\n",
       " {'name': \"So'Lodge Niort A83\",\n",
       "  'link': 'https://www.tripadvisor.com/Hotel_Review-g661386-d1536066-Reviews-So_Lodge_Niort_A83-La_Creche_Deux_Sevres_Nouvelle_Aquitaine.html',\n",
       "  'description': \"SO'LODGE Hotel Niort A83 is located at junction 11 of the A83 motorway and a short distance from the city center of Niort. The 29 rooms of our motel offer a quality service at low prices: Air conditioning, Bathroom, WC, TV with Canal + Canal Sat and Be in Sport 1,2 and 3, tea / coffee making facilities, free WIFI, free parking . Rooms from 1 to 5 people are available for rent. In the morning, breakfast is served. A restaurant (outside the hotel) is within walking distance. You can arrive at the time you want thanks to our automated check-in system.\",\n",
       "  'rating': 4,\n",
       "  'reviews': 336},\n",
       " {'name': 'ibis budget Niort Est La Creche',\n",
       "  'link': 'https://www.tripadvisor.com/Hotel_Review-g661386-d1391530-Reviews-Ibis_budget_Niort_Est_La_Creche-La_Creche_Deux_Sevres_Nouvelle_Aquitaine.html',\n",
       "  'description': \"Looking for a place to stay in La Creche? Then look no further than Ibis Budget Niort, a family-friendly hotel that brings the best of La Creche to your doorstep.\\nThe rooms offer air conditioning, and getting online is possible, as free wifi is available, allowing you to rest and refresh with ease.\\nIbis Budget Niort features a sun terrace, a coffee shop, and express check-in and check-out. Guests arriving by vehicle have access to free parking.\\nTravelers looking for French restaurants can head to L'Essentiel La Creche.\\nWe’re sure you’ll enjoy your stay at Ibis Budget Niort as you experience everything La Creche has to offer.\\n\",\n",
       "  'rating': 4,\n",
       "  'reviews': 364},\n",
       " {'name': 'Ibis Niort Est Mendes France',\n",
       "  'link': 'https://www.tripadvisor.com/Hotel_Review-g196667-d12137307-Reviews-Ibis_Niort_Est_Mendes_France-Niort_Deux_Sevres_Nouvelle_Aquitaine.html',\n",
       "  'description': '65 beautiful and confortables rooms with free access to the swimming pool and fitness room. Our team will be please to receive you and make your stay as better as we can! See you soon Your team from Ibis Mendes France Niort Est',\n",
       "  'rating': 4.5,\n",
       "  'reviews': 297},\n",
       " {'name': 'Brit Hotel du Parc',\n",
       "  'link': 'https://www.tripadvisor.com/Hotel_Review-g196667-d1225511-Reviews-Brit_Hotel_du_Parc-Niort_Deux_Sevres_Nouvelle_Aquitaine.html',\n",
       "  'description': 'Entirely renovated Hôtel in the center of Niort with free car park and open 24/24, single and family rooms available.',\n",
       "  'rating': 3,\n",
       "  'reviews': 94},\n",
       " {'name': 'ibis Styles Niort Poitou Charentes',\n",
       "  'link': 'https://www.tripadvisor.com/Hotel_Review-g672978-d4420739-Reviews-Ibis_Styles_Niort_Poitou_Charentes-Vouille_Deux_Sevres_Nouvelle_Aquitaine.html',\n",
       "  'description': 'Finding an ideal hotel in Vouille does not have to be difficult. Welcome to Ibis Styles Niort Poitou, a nice option for travelers like you.\\nGuest rooms offer air conditioning, and Ibis Styles Niort Poitou makes getting online easy as free wifi is available.\\nAs an added convenience, there is free parking available to guests.\\nWhile you’re here, be sure to check out Le Ranch du Piot, one of the French restaurants that can be found in Vouille, which is a short distance from Ibis Styles Niort Poitou.\\nIbis Styles Niort Poitou looks forward to welcoming you on your visit to Vouille.\\n',\n",
       "  'rating': 3.5,\n",
       "  'reviews': 161},\n",
       " {'name': 'Premiere Classe Niort Est - Chauray',\n",
       "  'link': 'https://www.tripadvisor.com/Hotel_Review-g196667-d481720-Reviews-Premiere_Classe_Niort_Est_Chauray-Niort_Deux_Sevres_Nouvelle_Aquitaine.html',\n",
       "  'description': 'Looking for a place to stay in Niort? Then look no further than Premiere Classe Niort Est - Chauray, a budget friendly hotel that brings the best of Niort to your doorstep.\\nGuest rooms offer air conditioning, and Premiere Classe Niort Est - Chauray makes getting online easy as free wifi is available.\\nYou can also take advantage of some of the amenities offered by the hotel, including newspaper and a coffee shop. As an added convenience, there is free parking available to guests.\\nTravelers looking for Italian restaurants can head to Restaurant Sorrento, Del Arte Niort, or Baila Pizza.\\nShould time allow, CACP - La villa Pérochon and Grafic Encadrement are some popular art galleries that are relatively easy to get to.\\nWe’re sure you’ll enjoy your stay at Premiere Classe Niort Est - Chauray as you experience everything Niort has to offer.\\n',\n",
       "  'rating': 3,\n",
       "  'reviews': 160},\n",
       " {'name': 'Kyriad Niort Est - La Crèche',\n",
       "  'link': 'https://www.tripadvisor.com/Hotel_Review-g661386-d488528-Reviews-Kyriad_Niort_Est_La_Creche-La_Creche_Deux_Sevres_Nouvelle_Aquitaine.html',\n",
       "  'description': 'The hotel Niort Bell-tower Is the Crib is located at 5 kilometers of the heart of city, 10 kilometers of SNCF railway station and with 500 meters of the outputs of the motorway axis Paris Bordeaux (A10) and of A83. Thanks to a network of bus given to the last style, with many cycle tracks, a free shuttle and a wide-area network of car-pooling, your displacements with Niort will be facilitated. You will be able to also choose the taxi or the hiring of a vehicle. As for the airport of the La Rochelle, it is located at 60 kilometers of the hotel. Ideally established, the hotel Niort Bell-tower Is the Crib profits from an environment favourable with the relaxation, within a framework of greenery magnificiently raised. Throughout the year, the restaurant Bell-tower offers you a breakfast full with energy, meals varied, dishes of quality and seasonal products, been useful in dressers at will, with the map, in menus or formulas. The room is pleasant and luminous, its neat decoration so that your meal is a true moment of relaxation and pleasure. The hotel rooms 3 stars Niort Bell-tower Is the Crib are very comfortable and some of them can accommodate people with reduced mobility. You will benefit from a top-of-the-range bedding, because the quality of your rest is paramount. All the rooms are equipped with bathroom with bath-tub or showers, WC, TV LCD, and have a plate of courtesy. Perfect for a business trip or a seminar, the hotel proposes 2 meeting rooms arranged to you to receive as well conferences as banquets. It also makes you benefit from many services like a free carpark, the free access in WIFI, a reading room and a reception in French, English or Spanish. For your pleasure, also benefit from our exclusive service Wifi+: a free connection wifi out of high-speed in all the hotel for surfing, discussing and to view videos with complete freedom.',\n",
       "  'rating': 3,\n",
       "  'reviews': 255},\n",
       " {'name': 'Maison La Porte Rouge',\n",
       "  'link': 'https://www.tripadvisor.com/Hotel_Review-g196667-d2372556-Reviews-Maison_La_Porte_Rouge-Niort_Deux_Sevres_Nouvelle_Aquitaine.html',\n",
       "  'description': 'This late 19th century guest house is located near the historic center of Niort, 45 minutes from La Rochelle. It offers a heated swimming pool, a gym and themed rooms. A French buffet breakfast is served every morning in the dining room. Guests can relax in the large garden by the pool, on the terrace or in the elegant lounge. Maison La Porte Rouge is easily accessible from Niort Train Station, just 1.3 km away. Activities in the surrounding area include the Poitevin Marsh and the Futuroscope Theme Park in a 55-minute drive.',\n",
       "  'rating': 4.5,\n",
       "  'reviews': 65},\n",
       " {'name': 'France Hotel',\n",
       "  'link': 'https://www.tripadvisor.com/Hotel_Review-g196667-d1225503-Reviews-France_Hotel-Niort_Deux_Sevres_Nouvelle_Aquitaine.html',\n",
       "  'description': 'Finding an ideal romantic hotel in Niort does not have to be difficult. Welcome to France Hotel, a nice option for travelers like you.\\nThe rooms offer a flat screen TV and a desk, and getting online is possible, as free wifi is available, allowing you to rest and refresh with ease.\\nFrance Hotel features baggage storage and newspaper. Guests arriving by vehicle have access to paid public parking available nearby.\\nWhen you’re feeling hungry, be sure to check out Buffalo Grill, which is a barbeque restaurant that is popular with locals and out-of-towners alike.\\nIf you are interested in exploring Niort, check out one of the art galleries, such as CACP - La villa Pérochon and Grafic Encadrement.\\nFrance Hotel puts the best of Niort at your fingertips, making your stay both relaxing and enjoyable.\\n',\n",
       "  'rating': 4.5,\n",
       "  'reviews': 222},\n",
       " {'name': \"Appart'City Confort Niort Centre\",\n",
       "  'link': 'https://www.tripadvisor.com/Hotel_Review-g196667-d4139146-Reviews-Appart_City_Confort_Niort_Centre-Niort_Deux_Sevres_Nouvelle_Aquitaine.html',\n",
       "  'description': None,\n",
       "  'rating': 4,\n",
       "  'reviews': 202},\n",
       " {'name': 'Hotel Atoll',\n",
       "  'link': 'https://www.tripadvisor.com/Hotel_Review-g196667-d1165327-Reviews-Hotel_Atoll-Niort_Deux_Sevres_Nouvelle_Aquitaine.html',\n",
       "  'description': 'Hotel Atoll is an excellent choice for travelers visiting Niort, offering a family-friendly environment alongside many helpful amenities designed to enhance your stay.\\nWhile staying at Hotel Atoll, visitors can check out Le musée du Donjon de Niort (2.1 mi), which is a popular Niort attraction.\\nAs your “home away from home,” the hotel rooms offer air conditioning, and getting online is easy, with free wifi available.\\nGuests have access to newspaper and outdoor furniture while staying at Hotel Atoll. And, as an added convenience, there is free parking available to guests.\\nWhen you’re feeling hungry, be sure to check out Jardin Royal, which is a sushi restaurant that is popular with locals and out-of-towners alike.\\nLooking to explore? Then look no further than CACP - La villa Pérochon and Grafic Encadrement, which are some popular Niort art galleries – all conveniently located a short distance from the hotel.\\nEnjoy your stay in Niort!\\n',\n",
       "  'rating': 4.5,\n",
       "  'reviews': 88},\n",
       " {'name': 'Logis de Sevres',\n",
       "  'link': 'https://www.tripadvisor.com/Hotel_Review-g196667-d12395587-Reviews-Logis_de_Sevres-Niort_Deux_Sevres_Nouvelle_Aquitaine.html',\n",
       "  'description': None,\n",
       "  'rating': 5,\n",
       "  'reviews': 20},\n",
       " {'name': 'Première Classe Niort Est - La Crèche Hotel',\n",
       "  'link': 'https://www.tripadvisor.com/Hotel_Review-g661386-d635422-Reviews-Premiere_Classe_Niort_Est_La_Creche_Hotel-La_Creche_Deux_Sevres_Nouvelle_Aquitaine.html',\n",
       "  'description': 'Our hotel First Class profits from a privileged situation, accessible by exit 11 from the A83 motorway. Your hotel with Niort is ideally located at 40 min of Futuroscope, with 45 min of the La Rochelle, 1:30 of Puy du Fou, and only 10 min of the centre town of Niort and the station. True starting point for your visits of Marais Poitevin and its surroundings. Our hotel of 69 rooms accommodates you in a green and wooded park for your stays in family or displacements on a purely professional basis. Our rooms are ideal to receive tourist groups. For beginning the day well, we at will propose to you a continental breakfast been useful in dresser. Rooms of your Hotel with Niort - the Crib offer to you the best conditions of comfort for a stay as pleasant as effective. The hotel proposes with the reservation 69 rooms for 1.2 or 3 people. 3 rooms are adapted for the people to reduced mobility. In your Hotel First Classifies in Niort - the Crib the air-conditioned rooms proposed with the reservation very have a private bathroom with shower and WC, of a scheme of work, a TV with integrated alarm clock and free a Wifi access. For 5 € only, made the full one with energy with the buffet breakfast at will been used with First Class NIORT EAST - the Crib of 6:30 to 10:00 in week, and as 7:00 at 10:00 weekend and bank holidays. With half price for the children up to 10 years. #Offre valid within the framework of a stay and the limit of 2 children per adult consuming small-déjeuner#. To lunch or dine, your hotel with Niort - the Crib, ideally located near to the A83 motorway, gives access to you easily a being wide choice of restaurants in the vicinity! You will be able to benefit from the accessible Restaurant Bell-tower on foot since your hotel First Classifies. That you came for one weekend, of family vacations or a displacement of business, your hotel not expensive with Niort - the Crib places at your disposal of many services to facilitate your stay: - Shower gel and provided bathroom linen - Your newspapers preferred at your disposal - automatic System of credit card payment for a reception 24:00/24 - Distributors of confectioneries, cakes, biscuits, cold and hot drinks at disposal 24:00/24 - Catering service in the vicinity - free Carpark- Clim',\n",
       "  'rating': 3,\n",
       "  'reviews': 268},\n",
       " {'name': 'B&b Hotel Niort Marais Poitevin Est',\n",
       "  'link': 'https://www.tripadvisor.com/Hotel_Review-g196667-d7083019-Reviews-B_b_Hotel_Niort_Marais_Poitevin_Est-Niort_Deux_Sevres_Nouvelle_Aquitaine.html',\n",
       "  'description': None,\n",
       "  'rating': 4,\n",
       "  'reviews': 104},\n",
       " {'name': 'La Maison des Tournesols',\n",
       "  'link': 'https://www.tripadvisor.com/Hotel_Review-g196667-d1119760-Reviews-La_Maison_des_Tournesols-Niort_Deux_Sevres_Nouvelle_Aquitaine.html',\n",
       "  'description': 'La Maison des Tournesols offers bed and breakfast and Gite accommodation in the beautiful Poitou-Charentes region of central western France. It is situated in the relaxed hamlet of Les Touches on the edge of Marais-Poitevin, also known as Green Venice. With its tranquil waterways, this area of outstanding natural beauty is ideal for walkers and cyclists. Historic La Rochelle and the sandy beaches of the Ile de Re are also close by.',\n",
       "  'rating': 4.5,\n",
       "  'reviews': 25},\n",
       " {'name': \"Chateau d'Og\",\n",
       "  'link': 'https://www.tripadvisor.com/Hotel_Review-g24065877-d3460468-Reviews-Chateau_d_Og-Fors_Niort_Deux_Sevres_Nouvelle_Aquitaine.html',\n",
       "  'description': None,\n",
       "  'rating': 4.5,\n",
       "  'reviews': 37},\n",
       " {'name': \"Maison d'hotes Vents d'Ouest\",\n",
       "  'link': 'https://www.tripadvisor.com/Hotel_Review-g196667-d4493979-Reviews-Maison_d_hotes_Vents_d_Ouest-Niort_Deux_Sevres_Nouvelle_Aquitaine.html',\n",
       "  'description': \"Finding an ideal romantic bed and breakfast in Niort does not have to be difficult. Welcome to Maison d'hotes Vents d'Ouest, a nice option for travelers like you.\\nThe bed and breakfast offers newspaper and outdoor furniture, to make your visit even more pleasant. Guests arriving by vehicle have access to paid public parking available nearby.\\nDuring your visit, be sure to check out one of Niort's popular pubs such as Le Magazinc and B Pub, all a short distance from Maison d'hotes Vents d'Ouest.\\nIf you’re looking for something to do, Le musée du Donjon de Niort (0.3 mi) and CACP - La villa Pérochon (0.4 mi) are a nice way to spend some time, and they are all within walking distance of Maison d'hotes Vents d'Ouest.\\nMaison d'hotes Vents d'Ouest looks forward to welcoming you on your visit to Niort.\\n\",\n",
       "  'rating': 5,\n",
       "  'reviews': 34},\n",
       " {'name': 'Hotel Solana',\n",
       "  'link': 'https://www.tripadvisor.com/Hotel_Review-g196667-d229785-Reviews-Hotel_Solana-Niort_Deux_Sevres_Nouvelle_Aquitaine.html',\n",
       "  'description': \"Découvrez pourquoi l'Hotel Solana Inter Hotel est l'hôtel préféré des voyageurs visitant Niort. Offrant un grand confort et un excellent rapport qualité-prix, il propose un cadre une familial et un large éventail de services conçus pour les voyageurs comme vous.\\nLes chambres de l'Hotel Solana Inter Hotel sont équipées d'une climatisation. Pour encore plus de commodité, elles disposent même d'un wi-fi gratuit.\\nL'hôtel propose de nombreux services, dont une réception ouverte 24 heures sur 24, un journal et un café. De plus, vous pouvez bénéficier d'un salon au cours de votre séjour. Pour plus de commodité, un parking gratuit est mis à votre disposition sur place.\\nPendant votre séjour à Niort, n'hésitez pas à essayer les restaurants situés non loin de l'Hotel Solana Inter Hotel, dont Poivre Rouge (0,3 km), Jardin Royal (0,2 km) et Buffalo Grill Niort (0,4 km).\\nSi vous souhaitez explorer Niort, passez une soirée dans un des célèbres galeries d'art de la ville, comme CACP - La villa Pérochon et Grafic Encadrement.\\nL'Hotel Solana Inter Hotel fait de votre confort et de votre satisfaction une priorité absolue. L'établissement est impatient de vous accueillir à Niort.\\n\",\n",
       "  'rating': 4,\n",
       "  'reviews': 213},\n",
       " {'name': 'La Magnoliere',\n",
       "  'link': 'https://www.tripadvisor.com/Hotel_Review-g196667-d2712185-Reviews-La_Magnoliere-Niort_Deux_Sevres_Nouvelle_Aquitaine.html',\n",
       "  'description': None,\n",
       "  'rating': 4,\n",
       "  'reviews': 2},\n",
       " {'name': 'A La Bonne Vie',\n",
       "  'link': 'https://www.tripadvisor.com/Hotel_Review-g196667-d2275866-Reviews-A_La_Bonne_Vie-Niort_Deux_Sevres_Nouvelle_Aquitaine.html',\n",
       "  'description': None,\n",
       "  'rating': 5,\n",
       "  'reviews': 35},\n",
       " {'name': 'Fasthotel Niort',\n",
       "  'link': 'https://www.tripadvisor.com/Hotel_Review-g1984855-d1979187-Reviews-Fasthotel_Niort-Bessines_Niort_Deux_Sevres_Nouvelle_Aquitaine.html',\n",
       "  'description': '2 stars hotel, where Pierrette and Christian COUDRAY kindly welcomes you for 20 years. The decoration has been fully reviewed with elegant lighting effects, sober and chic colors, and with a lovely Japanese garden.ESPACE HOTEL is located near the Marais Poitevin, where you can find many sites to visit such as La Rochelle, Le Puy du Fou or the Futuroscope.The business center collecting insurances companies from Niort is also close by.',\n",
       "  'rating': 4.5,\n",
       "  'reviews': 102},\n",
       " {'name': 'Domaine de Castelparc',\n",
       "  'link': 'https://www.tripadvisor.com/Hotel_Review-g196667-d3822014-Reviews-Domaine_de_Castelparc-Niort_Deux_Sevres_Nouvelle_Aquitaine.html',\n",
       "  'description': 'Located on the hills of Niort, this 19th-century manor is surrounded by a wood and provides air-conditioned rooms with an elegant décor. Free Wi-Fi and free private parking are available on site.Each room at the Domaine de Castel Parc includes WC an italian shower room. A buffet-style continental breakfast. very nice walk along the sevre river. just near the \"marais poitevin\"',\n",
       "  'rating': 4.5,\n",
       "  'reviews': 9},\n",
       " {'name': \"L'Angely\",\n",
       "  'link': 'https://www.tripadvisor.com/Hotel_Review-g196667-d15066775-Reviews-L_Angely-Niort_Deux_Sevres_Nouvelle_Aquitaine.html',\n",
       "  'description': None,\n",
       "  'rating': 4.5,\n",
       "  'reviews': 26}]"
      ]
     },
     "execution_count": 8,
     "metadata": {},
     "output_type": "execute_result"
    }
   ],
   "source": [
    "r"
   ]
  },
  {
   "cell_type": "markdown",
   "id": "34f3e193-1da7-4774-9e58-46edfb7a23da",
   "metadata": {},
   "source": [
    "### Get restaurants from Tripadvisor"
   ]
  },
  {
   "cell_type": "code",
   "execution_count": 9,
   "id": "c397c439-29ad-4d97-8829-b105d0faefd0",
   "metadata": {},
   "outputs": [],
   "source": [
    "def search_restaurants(location: str):\n",
    "    return _query_tripadvisor_api(location, location_type='EATERY')"
   ]
  },
  {
   "cell_type": "code",
   "execution_count": 10,
   "id": "72f9feb7-12f4-4082-ad87-6f1ac4890a5d",
   "metadata": {},
   "outputs": [],
   "source": [
    "r = search_restaurants('Niort')"
   ]
  },
  {
   "cell_type": "code",
   "execution_count": 11,
   "id": "a9be15d5-c8a1-4709-996d-9b2bb8478967",
   "metadata": {
    "scrolled": true
   },
   "outputs": [
    {
     "data": {
      "text/plain": [
       "[{'name': 'Restaurant du Donjon',\n",
       "  'link': 'https://www.tripadvisor.com/Restaurant_Review-g196667-d1212588-Reviews-Restaurant_du_Donjon-Niort_Deux_Sevres_Nouvelle_Aquitaine.html',\n",
       "  'description': None,\n",
       "  'rating': 4.5,\n",
       "  'reviews': 856},\n",
       " {'name': 'La Villa',\n",
       "  'link': 'https://www.tripadvisor.com/Restaurant_Review-g196667-d4072542-Reviews-La_Villa-Niort_Deux_Sevres_Nouvelle_Aquitaine.html',\n",
       "  'description': None,\n",
       "  'rating': 4,\n",
       "  'reviews': 949},\n",
       " {'name': 'Plaisirs des Sens',\n",
       "  'link': 'https://www.tripadvisor.com/Restaurant_Review-g196667-d1212666-Reviews-Plaisirs_des_Sens-Niort_Deux_Sevres_Nouvelle_Aquitaine.html',\n",
       "  'description': 'Welcome to the Plaisirs des Sens. We propose a fine and creative french cuisine. Honoured by many Quality Labels, our menus are all home-made, prepared with only fresh local products. We also have a special focus on wines from all France regions. In the center of Niort (Public Parking Place de la Brèche), come and discover our cosy atmosphere and our sunny terrasse.',\n",
       "  'rating': 4.5,\n",
       "  'reviews': 585},\n",
       " {'name': 'Le Comptoir du Siam',\n",
       "  'link': 'https://www.tripadvisor.com/Restaurant_Review-g196667-d12916797-Reviews-Le_Comptoir_du_Siam-Niort_Deux_Sevres_Nouvelle_Aquitaine.html',\n",
       "  'description': 'Authentique thai cuisine',\n",
       "  'rating': 4.5,\n",
       "  'reviews': 287},\n",
       " {'name': \"L'Adress\",\n",
       "  'link': 'https://www.tripadvisor.com/Restaurant_Review-g1984855-d1324275-Reviews-L_Adress-Bessines_Niort_Deux_Sevres_Nouvelle_Aquitaine.html',\n",
       "  'description': None,\n",
       "  'rating': 4.5,\n",
       "  'reviews': 886},\n",
       " {'name': 'Restaurant Sorrento',\n",
       "  'link': 'https://www.tripadvisor.com/Restaurant_Review-g196667-d1324285-Reviews-Restaurant_Sorrento-Niort_Deux_Sevres_Nouvelle_Aquitaine.html',\n",
       "  'description': None,\n",
       "  'rating': 4,\n",
       "  'reviews': 352},\n",
       " {'name': 'La Dolce Vita',\n",
       "  'link': 'https://www.tripadvisor.com/Restaurant_Review-g196667-d1212609-Reviews-La_Dolce_Vita-Niort_Deux_Sevres_Nouvelle_Aquitaine.html',\n",
       "  'description': None,\n",
       "  'rating': 4.5,\n",
       "  'reviews': 627},\n",
       " {'name': 'Les Planches',\n",
       "  'link': 'https://www.tripadvisor.com/Restaurant_Review-g196667-d6637308-Reviews-Les_Planches-Niort_Deux_Sevres_Nouvelle_Aquitaine.html',\n",
       "  'description': None,\n",
       "  'rating': 4,\n",
       "  'reviews': 840},\n",
       " {'name': 'Auberge de la Roussille',\n",
       "  'link': 'https://www.tripadvisor.com/Restaurant_Review-g196667-d2002200-Reviews-Auberge_de_la_Roussille-Niort_Deux_Sevres_Nouvelle_Aquitaine.html',\n",
       "  'description': None,\n",
       "  'rating': 4.5,\n",
       "  'reviews': 640},\n",
       " {'name': \"Le p'tit Rouquin\",\n",
       "  'link': 'https://www.tripadvisor.com/Restaurant_Review-g196667-d3445338-Reviews-Le_p_tit_Rouquin-Niort_Deux_Sevres_Nouvelle_Aquitaine.html',\n",
       "  'description': None,\n",
       "  'rating': 4.5,\n",
       "  'reviews': 662},\n",
       " {'name': 'Les Remparts',\n",
       "  'link': 'https://www.tripadvisor.com/Restaurant_Review-g196667-d4830165-Reviews-Les_Remparts-Niort_Deux_Sevres_Nouvelle_Aquitaine.html',\n",
       "  'description': None,\n",
       "  'rating': 3.5,\n",
       "  'reviews': 283},\n",
       " {'name': 'Del Arte Niort',\n",
       "  'link': 'https://www.tripadvisor.com/Restaurant_Review-g196667-d1385795-Reviews-Del_Arte_Niort-Niort_Deux_Sevres_Nouvelle_Aquitaine.html',\n",
       "  'description': 'Del Arte, network of Italian restaurants pizzeria, recognized in France for the quality of its pizza pies, pastas, dolce and other Italian specialities',\n",
       "  'rating': 2.5,\n",
       "  'reviews': 313},\n",
       " {'name': 'Buffalo Grill Niort',\n",
       "  'link': 'https://www.tripadvisor.com/Restaurant_Review-g196667-d5322548-Reviews-Buffalo_Grill_Niort-Niort_Deux_Sevres_Nouvelle_Aquitaine.html',\n",
       "  'description': None,\n",
       "  'rating': 3,\n",
       "  'reviews': 333},\n",
       " {'name': 'Vins Paradoxe',\n",
       "  'link': 'https://www.tripadvisor.com/Restaurant_Review-g196667-d26262090-Reviews-Vins_Paradoxe-Niort_Deux_Sevres_Nouvelle_Aquitaine.html',\n",
       "  'description': None,\n",
       "  'rating': 5,\n",
       "  'reviews': 25},\n",
       " {'name': \"L'ArrOsoir\",\n",
       "  'link': 'https://www.tripadvisor.com/Restaurant_Review-g196667-d3640020-Reviews-L_ArrOsoir-Niort_Deux_Sevres_Nouvelle_Aquitaine.html',\n",
       "  'description': 'Here you find only fresh products in your plate !!',\n",
       "  'rating': 4.5,\n",
       "  'reviews': 380},\n",
       " {'name': 'Poivre Rouge Niort',\n",
       "  'link': 'https://www.tripadvisor.com/Restaurant_Review-g196667-d3254465-Reviews-Poivre_Rouge_Niort-Niort_Deux_Sevres_Nouvelle_Aquitaine.html',\n",
       "  'description': None,\n",
       "  'rating': 3.5,\n",
       "  'reviews': 141},\n",
       " {'name': 'La Belle Etoile',\n",
       "  'link': 'https://www.tripadvisor.com/Restaurant_Review-g196667-d1212589-Reviews-La_Belle_Etoile-Niort_Deux_Sevres_Nouvelle_Aquitaine.html',\n",
       "  'description': None,\n",
       "  'rating': 4,\n",
       "  'reviews': 353},\n",
       " {'name': 'Le Geethanjali',\n",
       "  'link': 'https://www.tripadvisor.com/Restaurant_Review-g196667-d8534903-Reviews-Le_Geethanjali-Niort_Deux_Sevres_Nouvelle_Aquitaine.html',\n",
       "  'description': None,\n",
       "  'rating': 4.5,\n",
       "  'reviews': 78},\n",
       " {'name': 'DOMAINE DE LA TUILERIE - Auberge Citadine',\n",
       "  'link': 'https://www.tripadvisor.com/Restaurant_Review-g1984855-d3454955-Reviews-DOMAINE_DE_LA_TUILERIE_Auberge_Citadine-Bessines_Niort_Deux_Sevres_Nouvelle_Aqui.html',\n",
       "  'description': None,\n",
       "  'rating': 4,\n",
       "  'reviews': 736},\n",
       " {'name': 'Au Bureau',\n",
       "  'link': 'https://www.tripadvisor.com/Restaurant_Review-g196667-d3915902-Reviews-Au_Bureau-Niort_Deux_Sevres_Nouvelle_Aquitaine.html',\n",
       "  'description': None,\n",
       "  'rating': 3,\n",
       "  'reviews': 435},\n",
       " {'name': 'La Cucina',\n",
       "  'link': 'https://www.tripadvisor.com/Restaurant_Review-g196667-d1212604-Reviews-La_Cucina-Niort_Deux_Sevres_Nouvelle_Aquitaine.html',\n",
       "  'description': None,\n",
       "  'rating': 4,\n",
       "  'reviews': 134},\n",
       " {'name': 'Le QG',\n",
       "  'link': 'https://www.tripadvisor.com/Restaurant_Review-g196667-d10730337-Reviews-Le_QG-Niort_Deux_Sevres_Nouvelle_Aquitaine.html',\n",
       "  'description': None,\n",
       "  'rating': 5,\n",
       "  'reviews': 133},\n",
       " {'name': 'Cuisine Comptoir & Compagnie',\n",
       "  'link': 'https://www.tripadvisor.com/Restaurant_Review-g196667-d10047793-Reviews-Cuisine_Comptoir_Compagnie-Niort_Deux_Sevres_Nouvelle_Aquitaine.html',\n",
       "  'description': None,\n",
       "  'rating': 4,\n",
       "  'reviews': 438},\n",
       " {'name': 'Le Hanoi',\n",
       "  'link': 'https://www.tripadvisor.com/Restaurant_Review-g196667-d1324277-Reviews-Le_Hanoi-Niort_Deux_Sevres_Nouvelle_Aquitaine.html',\n",
       "  'description': None,\n",
       "  'rating': 4,\n",
       "  'reviews': 73},\n",
       " {'name': 'Les Petites Bretonnes',\n",
       "  'link': 'https://www.tripadvisor.com/Restaurant_Review-g196667-d14012810-Reviews-Les_Petites_Bretonnes-Niort_Deux_Sevres_Nouvelle_Aquitaine.html',\n",
       "  'description': None,\n",
       "  'rating': 4,\n",
       "  'reviews': 217},\n",
       " {'name': 'Hippopotamus Steakhouse',\n",
       "  'link': 'https://www.tripadvisor.com/Restaurant_Review-g196667-d27998341-Reviews-Hippopotamus_Steakhouse-Niort_Deux_Sevres_Nouvelle_Aquitaine.html',\n",
       "  'description': None,\n",
       "  'rating': 4,\n",
       "  'reviews': 50},\n",
       " {'name': \"McDonald's\",\n",
       "  'link': 'https://www.tripadvisor.com/Restaurant_Review-g196667-d8297538-Reviews-McDonald_s-Niort_Deux_Sevres_Nouvelle_Aquitaine.html',\n",
       "  'description': None,\n",
       "  'rating': 1.5,\n",
       "  'reviews': 68},\n",
       " {'name': 'Le Palanquin Dore',\n",
       "  'link': 'https://www.tripadvisor.com/Restaurant_Review-g196667-d1212614-Reviews-Le_Palanquin_Dore-Niort_Deux_Sevres_Nouvelle_Aquitaine.html',\n",
       "  'description': None,\n",
       "  'rating': 4,\n",
       "  'reviews': 67},\n",
       " {'name': 'Baila Pizza',\n",
       "  'link': 'https://www.tripadvisor.com/Restaurant_Review-g196667-d4688880-Reviews-Baila_Pizza-Niort_Deux_Sevres_Nouvelle_Aquitaine.html',\n",
       "  'description': None,\n",
       "  'rating': 3,\n",
       "  'reviews': 110},\n",
       " {'name': 'Le Shalimar',\n",
       "  'link': 'https://www.tripadvisor.com/Restaurant_Review-g196667-d26127376-Reviews-Le_Shalimar-Niort_Deux_Sevres_Nouvelle_Aquitaine.html',\n",
       "  'description': None,\n",
       "  'rating': 4.5,\n",
       "  'reviews': 39}]"
      ]
     },
     "execution_count": 11,
     "metadata": {},
     "output_type": "execute_result"
    }
   ],
   "source": [
    "r"
   ]
  },
  {
   "cell_type": "code",
   "execution_count": 12,
   "id": "38c3e42f-7e20-40e6-ba91-e9ed505f5fba",
   "metadata": {},
   "outputs": [],
   "source": [
    "from langchain_core.tools import tool"
   ]
  },
  {
   "cell_type": "code",
   "execution_count": 13,
   "id": "2f5d44c9-027a-4530-9919-ef2d30f0a073",
   "metadata": {},
   "outputs": [],
   "source": [
    "@tool\n",
    "def train_assistant(\n",
    "    from_location: str, \n",
    "    to_location: str, \n",
    "    date: date=None, \n",
    "    time: time=None):\n",
    "    \"\"\"\n",
    "    Search for train connections between cities, on a given date (default today) and time.\n",
    "    \"\"\"\n",
    "    \n",
    "    r = requests.get(\n",
    "        \"http://transport.opendata.ch/v1/connections\", \n",
    "        params={\n",
    "            'from': from_location, \n",
    "            'to': to_location, \n",
    "            'date': date, \n",
    "            'time': time}\n",
    "    )\n",
    "    \n",
    "    if r.raise_for_status():\n",
    "        return \"No connection found\"\n",
    "    \n",
    "    return [\n",
    "        {\n",
    "            'departure': datetime.fromtimestamp(x['from']['departureTimestamp']).time().strftime(format=\"%H:%M\"),\n",
    "            'arrival': datetime.fromtimestamp(x['to']['arrivalTimestamp']).time().strftime(format=\"%H:%M\")\n",
    "        } for x in r.json().get('connections')\n",
    "    ]\n",
    "\n",
    "\n",
    "@tool\n",
    "def search_hotels_assistant(location: str):\n",
    "    \"\"\"\n",
    "    Search for hotels for a given location\n",
    "    \"\"\"\n",
    "    return _query_tripadvisor_api(location, location_type='ACCOMMODATION')\n",
    "\n",
    "\n",
    "@tool\n",
    "def search_restaurants_assistant(location: str):\n",
    "    \"\"\"\n",
    "    Search for restaurants for a given location\n",
    "    \"\"\"\n",
    "    return _query_tripadvisor_api(location, location_type='EATERY')"
   ]
  },
  {
   "cell_type": "markdown",
   "id": "146d4e31-b760-4080-bf34-d677e780a18c",
   "metadata": {},
   "source": [
    "## Assistant"
   ]
  },
  {
   "cell_type": "markdown",
   "id": "67b2672e-87fb-43a4-b632-486f66a96646",
   "metadata": {},
   "source": [
    "### State\n",
    "\n",
    "Explain concepts about messages and states"
   ]
  },
  {
   "cell_type": "code",
   "execution_count": 14,
   "id": "2ea59bfb-df92-4edd-a25c-53b2f2b0de0e",
   "metadata": {},
   "outputs": [],
   "source": [
    "from typing import Annotated, Dict\n",
    "from typing_extensions import TypedDict\n",
    "\n",
    "from langgraph.graph.message import AnyMessage, add_messages\n",
    "from langchain_core.messages import HumanMessage, AIMessage"
   ]
  },
  {
   "cell_type": "code",
   "execution_count": 15,
   "id": "5f45d35e-4e0d-41bb-8f26-8e014d8a3377",
   "metadata": {},
   "outputs": [],
   "source": [
    "class State(TypedDict):\n",
    "    messages: Annotated[list[AnyMessage], add_messages]"
   ]
  },
  {
   "cell_type": "markdown",
   "id": "5698157d-13af-436f-81b6-9fef722e54b2",
   "metadata": {},
   "source": [
    "### Agent"
   ]
  },
  {
   "cell_type": "markdown",
   "id": "34ad33a9-f6a6-4998-b525-988ec67b24f4",
   "metadata": {},
   "source": [
    "Explain concept of runnable and how the agent works"
   ]
  },
  {
   "cell_type": "code",
   "execution_count": 16,
   "id": "25dab3bc-d9a7-4bdb-bd16-601d09ce8a13",
   "metadata": {},
   "outputs": [],
   "source": [
    "from langchain_core.runnables import Runnable"
   ]
  },
  {
   "cell_type": "code",
   "execution_count": 17,
   "id": "96f4d54e-6acf-4788-8647-450a64165a87",
   "metadata": {},
   "outputs": [],
   "source": [
    "class Agent:\n",
    "    def __init__(self, runnable: Runnable):\n",
    "        self.runnable = runnable\n",
    "\n",
    "    def __call__(self, state: Dict):\n",
    "        result = self.runnable.invoke(state)\n",
    "        return {'messages': result}"
   ]
  },
  {
   "cell_type": "markdown",
   "id": "890a1427-2c92-4abb-a131-98cd3f3c92a6",
   "metadata": {},
   "source": [
    "### LLM "
   ]
  },
  {
   "cell_type": "code",
   "execution_count": 18,
   "id": "38406a5e-1c6f-4e00-82a4-9cb53accf694",
   "metadata": {},
   "outputs": [],
   "source": [
    "from langchain_google_vertexai import ChatVertexAI"
   ]
  },
  {
   "cell_type": "code",
   "execution_count": 19,
   "id": "69f16dff-1850-414a-adc5-c6b79921a0df",
   "metadata": {},
   "outputs": [],
   "source": [
    "llm = ChatVertexAI(model=\"gemini-1.5-flash\", temperature=0).bind_tools([search_hotels_assistant, search_restaurants_assistant, train_assistant])"
   ]
  },
  {
   "cell_type": "code",
   "execution_count": 20,
   "id": "cfceac43-6a18-4d1c-9abc-fb1dbb6a2806",
   "metadata": {},
   "outputs": [],
   "source": [
    "from langchain_core.prompts import ChatPromptTemplate"
   ]
  },
  {
   "cell_type": "code",
   "execution_count": 21,
   "id": "acca929d-1317-4523-b97e-d32a152712f2",
   "metadata": {},
   "outputs": [],
   "source": [
    "assistant_prompt = ChatPromptTemplate.from_messages(\n",
    "    [\n",
    "        (\n",
    "            \"system\",\n",
    "            \"You are a helpful customer support assistant for a travel agency \"\n",
    "            \" Use the provided tools to look for train schedules, hotels and resturants\"\n",
    "        ),\n",
    "        (\"placeholder\", \"{messages}\"),\n",
    "    ]\n",
    ")"
   ]
  },
  {
   "cell_type": "code",
   "execution_count": 22,
   "id": "5b026696-ad02-4e78-ac54-6eb012f0198f",
   "metadata": {},
   "outputs": [],
   "source": [
    "assistant_runnable = assistant_prompt | llm"
   ]
  },
  {
   "cell_type": "code",
   "execution_count": 23,
   "id": "2dfe8e0a-7edc-4b0b-99fd-3de0d3faec38",
   "metadata": {},
   "outputs": [],
   "source": [
    "assistant = Agent(assistant_runnable)"
   ]
  },
  {
   "cell_type": "code",
   "execution_count": 24,
   "id": "fd66c65e-f63f-49f8-954e-dacdc4d99204",
   "metadata": {},
   "outputs": [],
   "source": [
    "from langgraph.checkpoint.memory import MemorySaver\n",
    "from langgraph.graph import END, StateGraph, START\n",
    "from langgraph.prebuilt import tools_condition, ToolNode\n",
    "\n",
    "\n",
    "builder = StateGraph(State)\n",
    "\n",
    "\n",
    "# Define nodes: these do the work\n",
    "builder.add_node(\"assistant\", assistant)\n",
    "builder.add_node(\"tools\", ToolNode([search_hotels_assistant, search_restaurants_assistant, train_assistant]))\n",
    "\n",
    "# Define edges: these determine how the control flow moves\n",
    "builder.add_edge(START, \"assistant\")\n",
    "builder.add_conditional_edges(\n",
    "    \"assistant\",\n",
    "    tools_condition,\n",
    ")\n",
    "builder.add_edge(\"tools\", \"assistant\")\n",
    "\n",
    "# The checkpointer lets the graph persist its state\n",
    "# this is a complete memory for the entire graph.\n",
    "memory = MemorySaver()\n",
    "graph = builder.compile(checkpointer=memory)"
   ]
  },
  {
   "cell_type": "code",
   "execution_count": 31,
   "id": "cdcf7707-2df3-4d25-9f27-2c191413dee0",
   "metadata": {},
   "outputs": [
    {
     "name": "stdout",
     "output_type": "stream",
     "text": [
      "[USER] When is the next train to Luzern ?\n",
      "[ASSISTANT]: I am thinking...\n",
      "[ASSISTANT]: From where?\n",
      "[USER] Lausanne\n",
      "[ASSISTANT]: I am thinking...\n",
      "[ASSISTANT]: The next trains to Luzern from Lausanne leave at 19:40, 20:17, 20:40 and 21:17.\n",
      "[USER] Can you show me the top 5 best hotel based on the rating ?\n",
      "[ASSISTANT]: I am thinking...\n",
      "[ASSISTANT]: Here are the top 5 hotels in Luzern based on rating:\n",
      "\n",
      "1. Hotel Schweizerhof Luzern (Rating: 5, Reviews: 1229)\n",
      "2. Art Deco Hotel Montana (Rating: 4.5, Reviews: 3081)\n",
      "3. Hotel des Balances (Rating: 4.5, Reviews: 2581)\n",
      "4. HERMITAGE Lake Lucerne - Beach Club & Lifestyle Hotel (Rating: 4.5, Reviews: 1560)\n",
      "5. Hotel Central Luzern (Rating: 4.5, Reviews: 568)\n",
      "[USER] Show me the top 3 restaurants\n",
      "[ASSISTANT]: I am thinking...\n",
      "[ASSISTANT]: Here are the top 3 restaurants in Luzern based on rating:\n",
      "\n",
      "1. Bolero Restaurante (Rating: 4.5, Reviews: 2196)\n",
      "2. Restaurant La Cucina (Rating: 4.5, Reviews: 1870)\n",
      "3. Scala Restaurant - Art Deco Hotel Montana (Rating: 4.5, Reviews: 1259)\n"
     ]
    }
   ],
   "source": [
    "import time\n",
    "\n",
    "config = {\"configurable\": {\"thread_id\": 42}}\n",
    "questions = [\n",
    "    'When is the next train to Luzern ?',\n",
    "    'Lausanne',\n",
    "    'Can you show me the top 5 best hotel based on the rating ?',\n",
    "    'Show me the top 3 restaurants'\n",
    "]\n",
    "\n",
    "for query in questions:\n",
    "    print(f\"[USER] {query}\")\n",
    "    inputs = {\"messages\": [HumanMessage(content=query)]}\n",
    "    print(\"[ASSISTANT]: I am thinking...\")\n",
    "    events = graph.stream(\n",
    "        {\"messages\": (\"user\", query)}, \n",
    "        config, \n",
    "        stream_mode=\"values\",\n",
    "        #output_keys=['agent']\n",
    "    )\n",
    "    for output in events:\n",
    "    #     output['messages'][-1].pretty_print()\n",
    "        pass\n",
    "    print(f\"[ASSISTANT]: {output['messages'][-1].content.strip()}\")\n",
    "    time.sleep(3)"
   ]
  },
  {
   "cell_type": "code",
   "execution_count": null,
   "id": "c8fd5dc8-34c4-414e-9b3c-179e182236ee",
   "metadata": {},
   "outputs": [],
   "source": []
  }
 ],
 "metadata": {
  "kernelspec": {
   "display_name": "Python 3 (ipykernel)",
   "language": "python",
   "name": "python3"
  },
  "language_info": {
   "codemirror_mode": {
    "name": "ipython",
    "version": 3
   },
   "file_extension": ".py",
   "mimetype": "text/x-python",
   "name": "python",
   "nbconvert_exporter": "python",
   "pygments_lexer": "ipython3",
   "version": "3.9.1"
  }
 },
 "nbformat": 4,
 "nbformat_minor": 5
}
