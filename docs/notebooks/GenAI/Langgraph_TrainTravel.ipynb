{
 "cells": [
  {
   "cell_type": "code",
   "execution_count": 1,
   "id": "b4a4e668-f0c3-4e24-ac52-08dbe88acbe1",
   "metadata": {},
   "outputs": [],
   "source": [
    "import requests\n",
    "import json\n",
    "from datetime import date, datetime, time"
   ]
  },
  {
   "cell_type": "code",
   "execution_count": 2,
   "id": "fab2b234-59a4-41b7-9af9-5266f4d4bb0c",
   "metadata": {},
   "outputs": [
    {
     "name": "stdout",
     "output_type": "stream",
     "text": [
      "langchain==0.2.16\n",
      "langchain-community==0.2.16\n",
      "langchain-core==0.2.43\n",
      "langchain-google-community==1.0.8\n",
      "langchain-google-vertexai==1.0.6\n",
      "langchain-ollama==0.1.3\n",
      "langchain-text-splitters==0.2.4\n",
      "langgraph==0.2.38\n",
      "langgraph-checkpoint==2.0.8\n",
      "langgraph-sdk==0.1.43\n",
      "langsmith==0.1.144\n"
     ]
    }
   ],
   "source": [
    "!pip freeze | grep -i \"^lang\""
   ]
  },
  {
   "cell_type": "markdown",
   "id": "de33561b-754c-4ce2-9430-f1a335ea93cf",
   "metadata": {},
   "source": [
    "## Tools"
   ]
  },
  {
   "cell_type": "markdown",
   "id": "f4f19313-4ec7-43da-8bd5-c5edc60cd895",
   "metadata": {},
   "source": [
    "### Get trains"
   ]
  },
  {
   "cell_type": "code",
   "execution_count": 3,
   "id": "9379e3ed-a928-4560-ac64-c081330d16aa",
   "metadata": {},
   "outputs": [],
   "source": [
    "def get_connections(\n",
    "    from_location: str, \n",
    "    to_location: str, \n",
    "    date: date=None, \n",
    "    time: time=None):\n",
    "    \n",
    "    r = requests.get(\n",
    "        \"http://transport.opendata.ch/v1/connections\", \n",
    "        params={\n",
    "            'from': from_location, \n",
    "            'to': to_location, \n",
    "            'date': date, \n",
    "            'time': time}\n",
    "    )\n",
    "    \n",
    "    if r.raise_for_status():\n",
    "        return \"No connection found\"\n",
    "    \n",
    "    return [\n",
    "        {\n",
    "            'departure': datetime.fromtimestamp(x['from']['departureTimestamp']).time().strftime(format=\"%H:%M\"),\n",
    "            'arrival': datetime.fromtimestamp(x['to']['arrivalTimestamp']).time().strftime(format=\"%H:%M\")\n",
    "        } for x in r.json().get('connections')\n",
    "    ]"
   ]
  },
  {
   "cell_type": "code",
   "execution_count": 4,
   "id": "accf5e11-fb8e-4fc8-be95-c7dcee713f61",
   "metadata": {},
   "outputs": [
    {
     "data": {
      "text/plain": [
       "[{'departure': '23:44', 'arrival': '08:47'},\n",
       " {'departure': '00:04', 'arrival': '09:49'},\n",
       " {'departure': '00:14', 'arrival': '10:28'},\n",
       " {'departure': '05:40', 'arrival': '10:47'}]"
      ]
     },
     "execution_count": 4,
     "metadata": {},
     "output_type": "execute_result"
    }
   ],
   "source": [
    "get_connections('Lausanne', 'Lugano')"
   ]
  },
  {
   "cell_type": "markdown",
   "id": "af068614-b3ba-45b2-8f02-06a4e32802c0",
   "metadata": {},
   "source": [
    "### Get data from Tripadvisor"
   ]
  },
  {
   "cell_type": "code",
   "execution_count": 7,
   "id": "5ab6b109-bd5a-4bd0-b276-128f02cbc40d",
   "metadata": {},
   "outputs": [],
   "source": [
    "def _query_tripadvisor_api(location: str, location_type: str):\n",
    "    url = 'https://www.tripadvisor.com/data/graphql/ids'\n",
    "    headers = {\n",
    "        'User-Agent': 'Mozilla/5.0 (Macintosh; Intel Mac OS X 10_15_7) AppleWebKit/537.36 (KHTML, like Gecko) Chrome/131.0.0.0 Safari/537.36', \n",
    "        'Content-Type': 'application/json'\n",
    "    }\n",
    "    body = json.dumps([\n",
    "        {\"variables\":\n",
    "         {\"request\":\n",
    "          {\"filters\":\n",
    "           {\"dataTypes\":[\"LOCATION\"],\"locationTypes\":[location_type]},\n",
    "           \"locale\":\"en-US\",\n",
    "           \"query\":location,\n",
    "           \"offset\":0,\n",
    "           \"scope\":{\n",
    "               \"locationId\":1,\"center\":None\n",
    "           },\n",
    "           \"locationIdsToExclude\":[],\n",
    "           \"categoryFilterIds\":[\"DESTINATIONS\",\"RESTAURANTS\",\"ATTRACTIONS\",\"HOTELS\",\"ACTIVITIES\",\"VACATION_RENTALS\"],\n",
    "           \"additionalFields\":[\"SNIPPET\",\"MENTION_COUNT\"],\n",
    "           \"limit\":10\n",
    "          }\n",
    "         },\n",
    "         \"extensions\":\n",
    "         {\"preRegisteredQueryId\":\"d65d51b7e2ed4f40\"}\n",
    "        }\n",
    "    ])\n",
    "    r = requests.post(url, data=body, headers=headers)\n",
    "    if r.raise_for_status():\n",
    "        return \"Error\"\n",
    "\n",
    "    try:\n",
    "        return [\n",
    "            {\n",
    "                'name': x['details']['localizedName'],\n",
    "                'link': \"https://www.tripadvisor.com\" + x['details']['defaultUrl'],\n",
    "                'description': x['details']['locationDescription'],\n",
    "                'rating': x['details']['reviewSummary']['rating'],\n",
    "                'reviews': x['details']['reviewSummary']['count']\n",
    "                \n",
    "            } for x in r.json()[0]['data']['SERP_getSearchResultsList']['clusters'][0]['sections'][1]['results']]\n",
    "    except: \n",
    "        return r.json()"
   ]
  },
  {
   "cell_type": "markdown",
   "id": "c6101d6c-16c2-48b3-ae6b-b8aab5847e60",
   "metadata": {},
   "source": [
    "### Get hotels from Tripadvisor"
   ]
  },
  {
   "cell_type": "code",
   "execution_count": 8,
   "id": "5c2f67f3-6550-45c2-82d7-453bfecd6e15",
   "metadata": {},
   "outputs": [],
   "source": [
    "def search_hotels(location: str):\n",
    "    return _query_tripadvisor_api(location, location_type='ACCOMMODATION')"
   ]
  },
  {
   "cell_type": "code",
   "execution_count": 9,
   "id": "f8f2bf83-e1de-4068-b6c9-50f7722ecf8e",
   "metadata": {},
   "outputs": [],
   "source": [
    "r = search_hotels('Niort')"
   ]
  },
  {
   "cell_type": "code",
   "execution_count": 10,
   "id": "356361ce-8a1b-414c-891a-08e79815ab7a",
   "metadata": {
    "scrolled": true
   },
   "outputs": [
    {
     "data": {
      "text/plain": [
       "[{'name': 'Mercure Niort Marais Poitevin',\n",
       "  'link': 'https://www.tripadvisor.com/Hotel_Review-g196667-d197093-Reviews-Mercure_Niort_Marais_Poitevin-Niort_Deux_Sevres_Nouvelle_Aquitaine.html',\n",
       "  'description': 'The Mercure Niort Marais Poitevin, in the centre of town and close to the historic quarter, welcomes you in the shade of large trees in its garden. Offers quiet, spacious and comfortable rooms with their own bathroom, WC, flatscreen TV with international channels, broadband Internet and minibar. Our La Veranda du Dauzac restaurant with its refined, contemporary decor, will enlighten you with an inventive and flavoursome cuisine in tune with the seasons. Shady terrace, pool and secure private parking.',\n",
       "  'rating': 4,\n",
       "  'reviews': 712},\n",
       " {'name': 'Grand Hotel Niort Centre',\n",
       "  'link': 'https://www.tripadvisor.com/Hotel_Review-g196667-d481699-Reviews-Grand_Hotel_Niort_Centre-Niort_Deux_Sevres_Nouvelle_Aquitaine.html',\n",
       "  'description': 'Welcome to Grand Hotel Niort Centre, a nice option for travelers like you. Grand Hotel Niort Centre a budget friendly hotel offering air conditioning in each room, and it is easy to stay connected during your stay as free WIFI is offered to guests.Express check-in and check-out. The hotel features a garden with a terrace and guests can enjoy a lounge. We also have a parking lot reserved for our customers for 10€ including tax per night. We are located in the city center, you have access less than 5 min (on foot) to the main square of Niort \"La Brèche\" on which you will find bars, restaurants, cinema and play area for children. This square serves directly in the historic center of Niort ( pedestrian area) with its shops, its 12th century Keep, the Pillory (former aldermen) and its large market \"les halls\" to discover! Thursday/Saturday/Sunday. From the city center of multiple footbridges to the locks and mills, passing by the Jardin des Plantes on the terrace, the quays, the bridges and the port, discover a green setting with a gentle landscape...',\n",
       "  'rating': 3.5,\n",
       "  'reviews': 395},\n",
       " {'name': 'Hotel Particulier La Chamoiserie',\n",
       "  'link': 'https://www.tripadvisor.com/Hotel_Review-g196667-d1651171-Reviews-Hotel_Particulier_La_Chamoiserie-Niort_Deux_Sevres_Nouvelle_Aquitaine.html',\n",
       "  'description': \"Located in the heart of Niort's historical centre, and a few footsteps from the Sevres banks, from the cultural centre and from the train station, « Hôtel Particulier La Chamoiserie » welcomes you into a calm and well preserved environment.This ancient residence from the beginning of the century will offer you a heartwarming reception with its 16 comfortable bedrooms, all decorated in a cosy and elegant - yet simple way, and its lovely shady garden with a wooden terrace where you will enjoy having breakfasts and relaxing yourself.\",\n",
       "  'rating': 4.5,\n",
       "  'reviews': 225},\n",
       " {'name': 'Hotel The Originals Niort La Grange',\n",
       "  'link': 'https://www.tripadvisor.com/Hotel_Review-g196667-d4114724-Reviews-Hotel_The_Originals_Niort_La_Grange-Niort_Deux_Sevres_Nouvelle_Aquitaine.html',\n",
       "  'description': 'Our hotel is opened since February 2013, in 3.5km of the exit 32 of the highway Paris / Bordeaux in the entrance of Niort. You will take advantage free of charge of our swimming pool as well as our relaxing space (spa, sauna and fitness).',\n",
       "  'rating': 4.5,\n",
       "  'reviews': 419},\n",
       " {'name': 'KYRIAD Niort Espace Mendès France',\n",
       "  'link': 'https://www.tripadvisor.com/Hotel_Review-g196667-d1147517-Reviews-KYRIAD_Niort_Espace_Mendes_France-Niort_Deux_Sevres_Nouvelle_Aquitaine.html',\n",
       "  'description': \"Kyriad Niort is an excellent choice for travelers visiting Niort, offering a family-friendly environment alongside many helpful amenities designed to enhance your stay. The rooms offer a flat screen TV, air conditioning, and a desk, and getting online is possible, as free wifi is available, allowing you to rest and refresh with ease. Kyriad Niort features a 24 hour front desk, 24 hour check-in, and a coffee shop. In addition, as a valued Kyriad Niort guest, you can enjoy breakfast that is available on-site. Guests arriving by vehicle have access to free parking. While in Niort be sure to experience nearby barbeque restaurants such as Buffalo Grill, Poivre Rouge, O'La Vache, Le Hangar.. Best of all, Kyriad Niort makes it easy to experience many great Niort attractions like CACP - La villa Pérochon and Grafic Encadrement, which are some popular art galleries. Enjoy your stay in Niort!\",\n",
       "  'rating': 4.5,\n",
       "  'reviews': 316},\n",
       " {'name': 'Hotel du Moulin',\n",
       "  'link': 'https://www.tripadvisor.com/Hotel_Review-g196667-d589976-Reviews-Hotel_du_Moulin-Niort_Deux_Sevres_Nouvelle_Aquitaine.html',\n",
       "  'description': 'This air-conditioned hotel is situated at 300m of the market place and city center of Niort, at the edge of the river \"La Sèvre niortaise\", in 1.2km from the TGV station, 10mn from \"Marais Poitevin\" You will appreciate the quiet and the quality of rooms refurbished at the beginning of 2015.',\n",
       "  'rating': 4.5,\n",
       "  'reviews': 276},\n",
       " {'name': 'Best Western Hôtel de la Brèche',\n",
       "  'link': 'https://www.tripadvisor.com/Hotel_Review-g196667-d1948688-Reviews-Best_Western_Hotel_de_la_Breche-Niort_Deux_Sevres_Nouvelle_Aquitaine.html',\n",
       "  'description': 'Welcome to Best Western Hotel de la Breche!Enjoy the serenity and tranquility of a 4 star hotel of character, entirely renovated and contemporary style. Combining comfort and functionality, the rooms are designed to meet the expectations of customers. You will enjoy the tranquility of our hotel while you can enjoy every moment of the lively Niort, near the Puy du Fou, the Marais Poitevin, the Ile de Re and the Futuroscope in Poitiers.',\n",
       "  'rating': 4.5,\n",
       "  'reviews': 325},\n",
       " {'name': \"So'Lodge Niort A83\",\n",
       "  'link': 'https://www.tripadvisor.com/Hotel_Review-g661386-d1536066-Reviews-So_Lodge_Niort_A83-La_Creche_Deux_Sevres_Nouvelle_Aquitaine.html',\n",
       "  'description': \"SO'LODGE Hotel Niort A83 is located at junction 11 of the A83 motorway and a short distance from the city center of Niort. The 29 rooms of our motel offer a quality service at low prices: Air conditioning, Bathroom, WC, TV with Canal + Canal Sat and Be in Sport 1,2 and 3, tea / coffee making facilities, free WIFI, free parking . Rooms from 1 to 5 people are available for rent. In the morning, breakfast is served. A restaurant (outside the hotel) is within walking distance. You can arrive at the time you want thanks to our automated check-in system.\",\n",
       "  'rating': 4,\n",
       "  'reviews': 336},\n",
       " {'name': 'ibis budget Niort Est La Creche',\n",
       "  'link': 'https://www.tripadvisor.com/Hotel_Review-g661386-d1391530-Reviews-Ibis_budget_Niort_Est_La_Creche-La_Creche_Deux_Sevres_Nouvelle_Aquitaine.html',\n",
       "  'description': \"Looking for a place to stay in La Creche? Then look no further than Ibis Budget Niort, a family-friendly hotel that brings the best of La Creche to your doorstep.\\nThe rooms offer air conditioning, and getting online is possible, as free wifi is available, allowing you to rest and refresh with ease.\\nIbis Budget Niort features a sun terrace, a coffee shop, and express check-in and check-out. Guests arriving by vehicle have access to free parking.\\nTravelers looking for French restaurants can head to L'Essentiel La Creche.\\nWe’re sure you’ll enjoy your stay at Ibis Budget Niort as you experience everything La Creche has to offer.\\n\",\n",
       "  'rating': 4,\n",
       "  'reviews': 364},\n",
       " {'name': 'Ibis Niort Est Mendes France',\n",
       "  'link': 'https://www.tripadvisor.com/Hotel_Review-g196667-d12137307-Reviews-Ibis_Niort_Est_Mendes_France-Niort_Deux_Sevres_Nouvelle_Aquitaine.html',\n",
       "  'description': '65 beautiful and confortables rooms with free access to the swimming pool and fitness room. Our team will be please to receive you and make your stay as better as we can! See you soon Your team from Ibis Mendes France Niort Est',\n",
       "  'rating': 4.5,\n",
       "  'reviews': 297}]"
      ]
     },
     "execution_count": 10,
     "metadata": {},
     "output_type": "execute_result"
    }
   ],
   "source": [
    "r"
   ]
  },
  {
   "cell_type": "markdown",
   "id": "34f3e193-1da7-4774-9e58-46edfb7a23da",
   "metadata": {},
   "source": [
    "### Get restaurants from Tripadvisor"
   ]
  },
  {
   "cell_type": "code",
   "execution_count": 11,
   "id": "c397c439-29ad-4d97-8829-b105d0faefd0",
   "metadata": {},
   "outputs": [],
   "source": [
    "def search_restaurants(location: str):\n",
    "    return _query_tripadvisor_api(location, location_type='EATERY')"
   ]
  },
  {
   "cell_type": "code",
   "execution_count": 12,
   "id": "72f9feb7-12f4-4082-ad87-6f1ac4890a5d",
   "metadata": {},
   "outputs": [],
   "source": [
    "r = search_restaurants('Niort')"
   ]
  },
  {
   "cell_type": "code",
   "execution_count": 13,
   "id": "a9be15d5-c8a1-4709-996d-9b2bb8478967",
   "metadata": {
    "scrolled": true
   },
   "outputs": [
    {
     "data": {
      "text/plain": [
       "[{'name': 'Restaurant du Donjon',\n",
       "  'link': 'https://www.tripadvisor.com/Restaurant_Review-g196667-d1212588-Reviews-Restaurant_du_Donjon-Niort_Deux_Sevres_Nouvelle_Aquitaine.html',\n",
       "  'description': None,\n",
       "  'rating': 4.5,\n",
       "  'reviews': 857},\n",
       " {'name': 'La Villa',\n",
       "  'link': 'https://www.tripadvisor.com/Restaurant_Review-g196667-d4072542-Reviews-La_Villa-Niort_Deux_Sevres_Nouvelle_Aquitaine.html',\n",
       "  'description': None,\n",
       "  'rating': 4,\n",
       "  'reviews': 949},\n",
       " {'name': 'Plaisirs des Sens',\n",
       "  'link': 'https://www.tripadvisor.com/Restaurant_Review-g196667-d1212666-Reviews-Plaisirs_des_Sens-Niort_Deux_Sevres_Nouvelle_Aquitaine.html',\n",
       "  'description': 'Welcome to the Plaisirs des Sens. We propose a fine and creative french cuisine. Honoured by many Quality Labels, our menus are all home-made, prepared with only fresh local products. We also have a special focus on wines from all France regions. In the center of Niort (Public Parking Place de la Brèche), come and discover our cosy atmosphere and our sunny terrasse.',\n",
       "  'rating': 4.5,\n",
       "  'reviews': 585},\n",
       " {'name': 'Le Comptoir du Siam',\n",
       "  'link': 'https://www.tripadvisor.com/Restaurant_Review-g196667-d12916797-Reviews-Le_Comptoir_du_Siam-Niort_Deux_Sevres_Nouvelle_Aquitaine.html',\n",
       "  'description': 'Authentique thai cuisine',\n",
       "  'rating': 4.5,\n",
       "  'reviews': 287},\n",
       " {'name': \"L'Adress\",\n",
       "  'link': 'https://www.tripadvisor.com/Restaurant_Review-g1984855-d1324275-Reviews-L_Adress-Bessines_Niort_Deux_Sevres_Nouvelle_Aquitaine.html',\n",
       "  'description': None,\n",
       "  'rating': 4.5,\n",
       "  'reviews': 886},\n",
       " {'name': 'Restaurant Sorrento',\n",
       "  'link': 'https://www.tripadvisor.com/Restaurant_Review-g196667-d1324285-Reviews-Restaurant_Sorrento-Niort_Deux_Sevres_Nouvelle_Aquitaine.html',\n",
       "  'description': None,\n",
       "  'rating': 4,\n",
       "  'reviews': 352},\n",
       " {'name': 'La Dolce Vita',\n",
       "  'link': 'https://www.tripadvisor.com/Restaurant_Review-g196667-d1212609-Reviews-La_Dolce_Vita-Niort_Deux_Sevres_Nouvelle_Aquitaine.html',\n",
       "  'description': None,\n",
       "  'rating': 4.5,\n",
       "  'reviews': 627},\n",
       " {'name': 'Les Planches',\n",
       "  'link': 'https://www.tripadvisor.com/Restaurant_Review-g196667-d6637308-Reviews-Les_Planches-Niort_Deux_Sevres_Nouvelle_Aquitaine.html',\n",
       "  'description': None,\n",
       "  'rating': 4,\n",
       "  'reviews': 840},\n",
       " {'name': 'Auberge de la Roussille',\n",
       "  'link': 'https://www.tripadvisor.com/Restaurant_Review-g196667-d2002200-Reviews-Auberge_de_la_Roussille-Niort_Deux_Sevres_Nouvelle_Aquitaine.html',\n",
       "  'description': None,\n",
       "  'rating': 4.5,\n",
       "  'reviews': 641},\n",
       " {'name': \"Le p'tit Rouquin\",\n",
       "  'link': 'https://www.tripadvisor.com/Restaurant_Review-g196667-d3445338-Reviews-Le_p_tit_Rouquin-Niort_Deux_Sevres_Nouvelle_Aquitaine.html',\n",
       "  'description': None,\n",
       "  'rating': 4.5,\n",
       "  'reviews': 662}]"
      ]
     },
     "execution_count": 13,
     "metadata": {},
     "output_type": "execute_result"
    }
   ],
   "source": [
    "r"
   ]
  },
  {
   "cell_type": "markdown",
   "id": "146d4e31-b760-4080-bf34-d677e780a18c",
   "metadata": {},
   "source": [
    "## Assistant"
   ]
  },
  {
   "cell_type": "markdown",
   "id": "b1dc8bd6-3747-4f55-b690-3bd62f4edd42",
   "metadata": {},
   "source": [
    "### Tools"
   ]
  },
  {
   "cell_type": "markdown",
   "id": "4a8659f5-30a6-42ee-a683-c0848386207f",
   "metadata": {},
   "source": [
    "Many AI applications interact directly with humans. In these cases, it is appropriate for models to respond in natural language. But what about cases where we want a model to also interact directly with systems, such as databases or an API? These systems often have a particular input schema; for example, APIs frequently have a required payload structure. This need motivates the concept of tool calling. You can use tool calling to request model responses that match a particular schema.\n",
    "\n",
    "Here are the steps for using tools :\n",
    "1. Tool Creation: Use the @tool decorator to create a tool. A tool is an association between a function and its schema.\n",
    "2. Tool Binding: The tool needs to be connected to a model that supports tool calling. This gives the model awareness of the tool and the associated input schema required by the tool.\n",
    "3. Tool Calling: When appropriate, the model can decide to call a tool and ensure its response conforms to the tool's input schema.\n",
    "4. Tool Execution: The tool can be executed using the arguments provided by the model."
   ]
  },
  {
   "cell_type": "code",
   "execution_count": 14,
   "id": "38c3e42f-7e20-40e6-ba91-e9ed505f5fba",
   "metadata": {},
   "outputs": [],
   "source": [
    "from langchain_core.tools import tool"
   ]
  },
  {
   "cell_type": "code",
   "execution_count": 15,
   "id": "2f5d44c9-027a-4530-9919-ef2d30f0a073",
   "metadata": {},
   "outputs": [],
   "source": [
    "@tool\n",
    "def train_assistant(\n",
    "    from_location: str, \n",
    "    to_location: str, \n",
    "    date: date=None, \n",
    "    time: time=None):\n",
    "    \"\"\"\n",
    "    Search for train connections between cities, on a given date (default today) and time.\n",
    "    \"\"\"\n",
    "    \n",
    "    r = requests.get(\n",
    "        \"http://transport.opendata.ch/v1/connections\", \n",
    "        params={\n",
    "            'from': from_location, \n",
    "            'to': to_location, \n",
    "            'date': date, \n",
    "            'time': time}\n",
    "    )\n",
    "    \n",
    "    if r.raise_for_status():\n",
    "        return \"No connection found\"\n",
    "    \n",
    "    return [\n",
    "        {\n",
    "            'departure': datetime.fromtimestamp(x['from']['departureTimestamp']).time().strftime(format=\"%H:%M\"),\n",
    "            'arrival': datetime.fromtimestamp(x['to']['arrivalTimestamp']).time().strftime(format=\"%H:%M\")\n",
    "        } for x in r.json().get('connections')\n",
    "    ]\n",
    "\n",
    "\n",
    "@tool\n",
    "def search_hotels_assistant(location: str):\n",
    "    \"\"\"\n",
    "    Search for hotels for a given location\n",
    "    \"\"\"\n",
    "    return _query_tripadvisor_api(location, location_type='ACCOMMODATION')\n",
    "\n",
    "\n",
    "@tool\n",
    "def search_restaurants_assistant(location: str):\n",
    "    \"\"\"\n",
    "    Search for restaurants for a given location\n",
    "    \"\"\"\n",
    "    return _query_tripadvisor_api(location, location_type='EATERY')"
   ]
  },
  {
   "cell_type": "markdown",
   "id": "84a20948-d4c4-44ea-876c-2bbe8a6d79b6",
   "metadata": {},
   "source": [
    "### Langgraph philosophy\n",
    "\n",
    "At its core, LangGraph models agent workflows as graphs. You define the behavior of your agents using three key components:\n",
    "\n",
    "- `State`: A shared data structure that represents the current snapshot of your application. It can be any Python type, but is typically a TypedDict or Pydantic BaseModel.\n",
    "- `Nodes`: Python functions that encode the logic of your agents. They receive the current State as input, perform some computation or side-effect, and return an updated State.\n",
    "- `Edges`: Python functions that determine which Node to execute next based on the current State. They can be conditional branches or fixed transitions.\n",
    "\n",
    "By composing Nodes and Edges, you can create complex, looping workflows that evolve the State over time. The real power, though, comes from how LangGraph manages that State. To emphasize: Nodes and Edges are nothing more than Python functions - they can contain an LLM or just good ol' Python code.\n",
    "\n",
    "In short: nodes do the work. edges tell what to do next."
   ]
  },
  {
   "cell_type": "markdown",
   "id": "67b2672e-87fb-43a4-b632-486f66a96646",
   "metadata": {},
   "source": [
    "### State\n",
    "\n",
    "Our `StateGraph` will use a typed dictionary containing an append-only list of messages. These messages form the chat history, which is all the state our simple assistant needs.<br>\n",
    "If we do not specify the reduced function (here the `add_messages`, the dict will update its values for every new message of a given key)"
   ]
  },
  {
   "cell_type": "code",
   "execution_count": 14,
   "id": "2ea59bfb-df92-4edd-a25c-53b2f2b0de0e",
   "metadata": {},
   "outputs": [],
   "source": [
    "from typing import Annotated, Dict\n",
    "from typing_extensions import TypedDict\n",
    "\n",
    "from langgraph.graph.message import AnyMessage, add_messages\n",
    "from langchain_core.messages import HumanMessage, AIMessage"
   ]
  },
  {
   "cell_type": "code",
   "execution_count": 15,
   "id": "5f45d35e-4e0d-41bb-8f26-8e014d8a3377",
   "metadata": {},
   "outputs": [],
   "source": [
    "class State(TypedDict):\n",
    "    messages: Annotated[list[AnyMessage], add_messages]"
   ]
  },
  {
   "cell_type": "markdown",
   "id": "5698157d-13af-436f-81b6-9fef722e54b2",
   "metadata": {},
   "source": [
    "### Agent"
   ]
  },
  {
   "cell_type": "markdown",
   "id": "34ad33a9-f6a6-4998-b525-988ec67b24f4",
   "metadata": {},
   "source": [
    "A `Runnable` is a standard langchain interface, which makes it easy to define custom chains as well as invoke them in a standard way. The standard interface includes:\n",
    "\n",
    "- `stream`: stream back chunks of the response\n",
    "- `invoke`: call the chain on an input\n",
    "- `batch`: call the chain on a list of inputs\n",
    "\n",
    "Here, our Agent is merely a wrapper around the Runnable.invoke() method"
   ]
  },
  {
   "cell_type": "code",
   "execution_count": 16,
   "id": "25dab3bc-d9a7-4bdb-bd16-601d09ce8a13",
   "metadata": {},
   "outputs": [],
   "source": [
    "from langchain_core.runnables import Runnable"
   ]
  },
  {
   "cell_type": "code",
   "execution_count": 17,
   "id": "96f4d54e-6acf-4788-8647-450a64165a87",
   "metadata": {},
   "outputs": [],
   "source": [
    "class Agent:\n",
    "    def __init__(self, runnable: Runnable):\n",
    "        self.runnable = runnable\n",
    "\n",
    "    def __call__(self, state: Dict):\n",
    "        result = self.runnable.invoke(state)\n",
    "        return {'messages': result}"
   ]
  },
  {
   "cell_type": "markdown",
   "id": "890a1427-2c92-4abb-a131-98cd3f3c92a6",
   "metadata": {},
   "source": [
    "### LLM "
   ]
  },
  {
   "cell_type": "markdown",
   "id": "26ae6aee-a07f-4133-aa68-c088d986ba41",
   "metadata": {},
   "source": [
    "Let's first begin by selecting our LLM. In this case, we choose to use the Vertex AI LLM, `Gemini 1.5 flash`. <br>\n",
    "As mentionned previously, we will bind our tools to it."
   ]
  },
  {
   "cell_type": "code",
   "execution_count": 18,
   "id": "38406a5e-1c6f-4e00-82a4-9cb53accf694",
   "metadata": {},
   "outputs": [],
   "source": [
    "from langchain_google_vertexai import ChatVertexAI"
   ]
  },
  {
   "cell_type": "code",
   "execution_count": 19,
   "id": "69f16dff-1850-414a-adc5-c6b79921a0df",
   "metadata": {},
   "outputs": [],
   "source": [
    "llm = ChatVertexAI(model=\"gemini-1.5-flash\", temperature=0).bind_tools([search_hotels_assistant, search_restaurants_assistant, train_assistant])"
   ]
  },
  {
   "cell_type": "markdown",
   "id": "105abce3-2fbb-4465-95ab-dd958c5b490b",
   "metadata": {},
   "source": [
    "Let's now define a prompt to define the behavior of the LLM. By chaining the prompt and the LLM, we create a runnable which can then be used to instantiate our Agent !"
   ]
  },
  {
   "cell_type": "code",
   "execution_count": 20,
   "id": "cfceac43-6a18-4d1c-9abc-fb1dbb6a2806",
   "metadata": {},
   "outputs": [],
   "source": [
    "from langchain_core.prompts import ChatPromptTemplate"
   ]
  },
  {
   "cell_type": "code",
   "execution_count": 21,
   "id": "acca929d-1317-4523-b97e-d32a152712f2",
   "metadata": {},
   "outputs": [],
   "source": [
    "assistant_prompt = ChatPromptTemplate.from_messages(\n",
    "    [\n",
    "        (\n",
    "            \"system\",\n",
    "            \"You are a helpful customer support assistant for a travel agency \"\n",
    "            \" Use the provided tools to look for train schedules, hotels and resturants\"\n",
    "        ),\n",
    "        (\"placeholder\", \"{messages}\"),\n",
    "    ]\n",
    ")"
   ]
  },
  {
   "cell_type": "code",
   "execution_count": 22,
   "id": "5b026696-ad02-4e78-ac54-6eb012f0198f",
   "metadata": {},
   "outputs": [],
   "source": [
    "assistant_runnable = assistant_prompt | llm"
   ]
  },
  {
   "cell_type": "code",
   "execution_count": 23,
   "id": "2dfe8e0a-7edc-4b0b-99fd-3de0d3faec38",
   "metadata": {},
   "outputs": [],
   "source": [
    "assistant = Agent(assistant_runnable)"
   ]
  },
  {
   "cell_type": "markdown",
   "id": "389d73e3-73a7-48e0-a38c-5662808ce332",
   "metadata": {},
   "source": [
    "Let's now pack this all together and build our graph :"
   ]
  },
  {
   "cell_type": "code",
   "execution_count": 24,
   "id": "fd66c65e-f63f-49f8-954e-dacdc4d99204",
   "metadata": {},
   "outputs": [],
   "source": [
    "from langgraph.checkpoint.memory import MemorySaver\n",
    "from langgraph.graph import END, StateGraph, START\n",
    "from langgraph.prebuilt import tools_condition, ToolNode\n",
    "\n",
    "\n",
    "builder = StateGraph(State)\n",
    "\n",
    "\n",
    "# Define nodes: these do the work\n",
    "builder.add_node(\"assistant\", assistant)\n",
    "builder.add_node(\"tools\", ToolNode([search_hotels_assistant, search_restaurants_assistant, train_assistant]))\n",
    "\n",
    "# Define edges: these determine how the control flow moves\n",
    "builder.add_edge(START, \"assistant\")\n",
    "builder.add_conditional_edges(\n",
    "    \"assistant\",\n",
    "    tools_condition,\n",
    ")\n",
    "builder.add_edge(\"tools\", \"assistant\")\n",
    "\n",
    "# The checkpointer lets the graph persist its state\n",
    "# this is a complete memory for the entire graph.\n",
    "memory = MemorySaver()\n",
    "graph = builder.compile(checkpointer=memory)"
   ]
  },
  {
   "cell_type": "code",
   "execution_count": 31,
   "id": "cdcf7707-2df3-4d25-9f27-2c191413dee0",
   "metadata": {},
   "outputs": [
    {
     "name": "stdout",
     "output_type": "stream",
     "text": [
      "[USER] When is the next train to Luzern ?\n",
      "[ASSISTANT]: I am thinking...\n",
      "[ASSISTANT]: From where?\n",
      "[USER] Lausanne\n",
      "[ASSISTANT]: I am thinking...\n",
      "[ASSISTANT]: The next trains to Luzern from Lausanne leave at 19:40, 20:17, 20:40 and 21:17.\n",
      "[USER] Can you show me the top 5 best hotel based on the rating ?\n",
      "[ASSISTANT]: I am thinking...\n",
      "[ASSISTANT]: Here are the top 5 hotels in Luzern based on rating:\n",
      "\n",
      "1. Hotel Schweizerhof Luzern (Rating: 5, Reviews: 1229)\n",
      "2. Art Deco Hotel Montana (Rating: 4.5, Reviews: 3081)\n",
      "3. Hotel des Balances (Rating: 4.5, Reviews: 2581)\n",
      "4. HERMITAGE Lake Lucerne - Beach Club & Lifestyle Hotel (Rating: 4.5, Reviews: 1560)\n",
      "5. Hotel Central Luzern (Rating: 4.5, Reviews: 568)\n",
      "[USER] Show me the top 3 restaurants\n",
      "[ASSISTANT]: I am thinking...\n",
      "[ASSISTANT]: Here are the top 3 restaurants in Luzern based on rating:\n",
      "\n",
      "1. Bolero Restaurante (Rating: 4.5, Reviews: 2196)\n",
      "2. Restaurant La Cucina (Rating: 4.5, Reviews: 1870)\n",
      "3. Scala Restaurant - Art Deco Hotel Montana (Rating: 4.5, Reviews: 1259)\n"
     ]
    }
   ],
   "source": [
    "import time\n",
    "\n",
    "config = {\"configurable\": {\"thread_id\": 42}}\n",
    "questions = [\n",
    "    'When is the next train to Luzern ?',\n",
    "    'Lausanne',\n",
    "    'Can you show me the top 5 best hotel based on the rating ?',\n",
    "    'Show me the top 3 restaurants'\n",
    "]\n",
    "\n",
    "for query in questions:\n",
    "    print(f\"[USER] {query}\")\n",
    "    inputs = {\"messages\": [HumanMessage(content=query)]}\n",
    "    print(\"[ASSISTANT]: I am thinking...\")\n",
    "    events = graph.stream(\n",
    "        {\"messages\": (\"user\", query)}, \n",
    "        config, \n",
    "        stream_mode=\"values\",\n",
    "        #output_keys=['agent']\n",
    "    )\n",
    "    for output in events:\n",
    "    #     output['messages'][-1].pretty_print()\n",
    "        pass\n",
    "    print(f\"[ASSISTANT]: {output['messages'][-1].content.strip()}\")\n",
    "    time.sleep(3)"
   ]
  },
  {
   "cell_type": "code",
   "execution_count": null,
   "id": "c8fd5dc8-34c4-414e-9b3c-179e182236ee",
   "metadata": {},
   "outputs": [],
   "source": []
  }
 ],
 "metadata": {
  "kernelspec": {
   "display_name": "Python 3 (ipykernel)",
   "language": "python",
   "name": "python3"
  },
  "language_info": {
   "codemirror_mode": {
    "name": "ipython",
    "version": 3
   },
   "file_extension": ".py",
   "mimetype": "text/x-python",
   "name": "python",
   "nbconvert_exporter": "python",
   "pygments_lexer": "ipython3",
   "version": "3.9.1"
  }
 },
 "nbformat": 4,
 "nbformat_minor": 5
}
