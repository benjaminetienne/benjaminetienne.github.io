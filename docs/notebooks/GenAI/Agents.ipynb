{
 "cells": [
  {
   "cell_type": "code",
   "execution_count": 24,
   "id": "0dcea17f-6627-4561-9c51-caf779a7d828",
   "metadata": {},
   "outputs": [],
   "source": [
    "import requests\n",
    "import vertexai\n",
    "import os\n",
    "\n",
    "vertexai.init(project=os.environ.get('GCP_PROJECT_ID'))\n",
    "\n",
    "from google.cloud import bigquery\n",
    "\n",
    "from vertexai.generative_models import (\n",
    "    GenerativeModel,\n",
    "    GenerationConfig,\n",
    "    Part,\n",
    "    FunctionDeclaration\n",
    ")\n",
    "from vertexai.generative_models import Tool as VertexTool"
   ]
  },
  {
   "cell_type": "code",
   "execution_count": 2,
   "id": "673f2210-90d7-4287-b439-8ce2461a58e6",
   "metadata": {},
   "outputs": [],
   "source": [
    "PROJECT_ID = 'bigquery-public-data'\n",
    "DATASET_ID = 'thelook_ecommerce'"
   ]
  },
  {
   "cell_type": "markdown",
   "id": "74f88db5-ec99-47b9-b01e-359e11602eaf",
   "metadata": {},
   "source": [
    "## APIs"
   ]
  },
  {
   "cell_type": "code",
   "execution_count": 5,
   "id": "b6d3be4f-8b98-4a8a-8379-568ebffc5f63",
   "metadata": {},
   "outputs": [],
   "source": [
    "def get_exchange_rate_from_api(params):\n",
    "    url = f\"https://api.frankfurter.app/latest?from={params['currency_from']}&to={params['currency_to']}\"\n",
    "    api_response = requests.get(url)\n",
    "    return api_response.text"
   ]
  },
  {
   "cell_type": "code",
   "execution_count": 6,
   "id": "d9309066-1f44-4cdc-84c4-06ab3016b368",
   "metadata": {},
   "outputs": [
    {
     "data": {
      "text/plain": [
       "'{\"amount\":1.0,\"base\":\"USD\",\"date\":\"2024-11-22\",\"rates\":{\"EUR\":0.96043}}'"
      ]
     },
     "execution_count": 6,
     "metadata": {},
     "output_type": "execute_result"
    }
   ],
   "source": [
    "get_exchange_rate_from_api({'currency_from': 'USD', 'currency_to': 'EUR'})"
   ]
  },
  {
   "cell_type": "code",
   "execution_count": 7,
   "id": "9f133466-b35c-412d-a5d2-1b74b8eb6918",
   "metadata": {},
   "outputs": [],
   "source": [
    "def list_datasets(params):\n",
    "    client = bigquery.Client(project=params['project'])\n",
    "    datasets = list(client.list_datasets())\n",
    "    if datasets:\n",
    "        return [dataset.dataset_id for dataset in datasets]\n",
    "    else:\n",
    "        return \"{} project does not contain any datasets.\".format(params['project'])"
   ]
  },
  {
   "cell_type": "code",
   "execution_count": 12,
   "id": "716af0c9-d79e-49f4-9aaf-1f74a3491f73",
   "metadata": {},
   "outputs": [
    {
     "data": {
      "text/plain": [
       "['america_health_rankings',\n",
       " 'austin_311',\n",
       " 'austin_bikeshare',\n",
       " 'austin_crime',\n",
       " 'austin_incidents',\n",
       " 'austin_waste',\n",
       " 'baseball',\n",
       " 'bbc_news',\n",
       " 'bigqueryml_ncaa',\n",
       " 'bitcoin_blockchain']"
      ]
     },
     "execution_count": 12,
     "metadata": {},
     "output_type": "execute_result"
    }
   ],
   "source": [
    "list_datasets({'project': PROJECT_ID})[:10]"
   ]
  },
  {
   "cell_type": "code",
   "execution_count": 13,
   "id": "ee6cf483-56bc-4a3c-a293-162491e6a282",
   "metadata": {},
   "outputs": [],
   "source": [
    "def list_tables(params):\n",
    "    client = bigquery.Client(project=params['project'])\n",
    "    try:\n",
    "        response = client.list_tables(params[\"dataset_id\"])\n",
    "        return [table.table_id for table in response]\n",
    "    except Exception as e:\n",
    "        return f\"The dataset {params['dataset_id']} is not found in the {params['project']} project, please specify the dataset and project\""
   ]
  },
  {
   "cell_type": "code",
   "execution_count": 14,
   "id": "c6e0dd62-4f14-4185-81d3-e5fad6376f73",
   "metadata": {},
   "outputs": [
    {
     "data": {
      "text/plain": [
       "['distribution_centers',\n",
       " 'events',\n",
       " 'inventory_items',\n",
       " 'order_items',\n",
       " 'orders',\n",
       " 'products',\n",
       " 'users']"
      ]
     },
     "execution_count": 14,
     "metadata": {},
     "output_type": "execute_result"
    }
   ],
   "source": [
    "list_tables({'project': PROJECT_ID, 'dataset_id': DATASET_ID})"
   ]
  },
  {
   "cell_type": "markdown",
   "id": "b67fb3f0-b39b-4c99-aef3-57fea9208120",
   "metadata": {},
   "source": [
    "## Gemini Function Calling"
   ]
  },
  {
   "cell_type": "markdown",
   "id": "5a4ff6e3-54fe-4b55-a68d-beecc6a6fde5",
   "metadata": {},
   "source": [
    "### Create the tool"
   ]
  },
  {
   "cell_type": "code",
   "execution_count": 15,
   "id": "7f725d8e-ac0d-44af-81fc-1440cdb5a496",
   "metadata": {},
   "outputs": [],
   "source": [
    "# Function declarations\n",
    "get_exchange_rate_func = FunctionDeclaration(\n",
    "    name=\"get_exchange_rate\",\n",
    "    description=\"Get the exchange rate for currencies between countries\",\n",
    "    parameters={\n",
    "    \"type\": \"object\",\n",
    "    \"properties\": {\n",
    "        \"currency_date\": {\n",
    "            \"type\": \"string\",\n",
    "            \"description\": \"A date that must always be in YYYY-MM-DD format or the value 'latest' if a time period is not specified\"\n",
    "        },\n",
    "        \"currency_from\": {\n",
    "            \"type\": \"string\",\n",
    "            \"description\": \"The currency to convert from in ISO 4217 format\"\n",
    "        },\n",
    "        \"currency_to\": {\n",
    "            \"type\": \"string\",\n",
    "            \"description\": \"The currency to convert to in ISO 4217 format\"\n",
    "        }\n",
    "    },\n",
    "         \"required\": [\n",
    "            \"currency_from\",\n",
    "            \"currency_to\",\n",
    "      ]\n",
    "  },\n",
    ")\n",
    "\n",
    "list_datasets_func = FunctionDeclaration(\n",
    "    name=\"list_datasets\",\n",
    "    description=\"Get a list of datasets in a project that will help answer the user's question\",\n",
    "    parameters={\n",
    "        \"type\": \"object\",\n",
    "        \"properties\": {\n",
    "            \"project\": {\n",
    "                \"type\": \"string\",\n",
    "                \"description\": \"Project ID to fetch tables from.\",\n",
    "            }\n",
    "        },\n",
    "    },\n",
    ")\n",
    "\n",
    "list_tables_func = FunctionDeclaration(\n",
    "    name=\"list_tables\",\n",
    "    description=\"List tables in a dataset that will help answer the user's question\",\n",
    "    parameters={\n",
    "        \"type\": \"object\",\n",
    "        \"properties\": {\n",
    "            \"dataset_id\": {\n",
    "                \"type\": \"string\",\n",
    "                \"description\": \"Dataset ID to fetch tables from.\",\n",
    "            },\n",
    "            \"project\": {\n",
    "                \"type\": \"string\",\n",
    "                \"description\": \"Project ID to fetch tables from.\",\n",
    "            }\n",
    "        },\n",
    "        \"required\": [\n",
    "            \"dataset_id\",\n",
    "            \"project\"\n",
    "        ],\n",
    "    },\n",
    ")\n",
    "\n",
    "tool = VertexTool(\n",
    "    function_declarations=[\n",
    "        get_exchange_rate_func,\n",
    "        list_datasets_func,\n",
    "        list_tables_func\n",
    "    ]\n",
    ")\n",
    "\n",
    "# Mapping to map function name to function\n",
    "function_handler = {\n",
    "    \"get_exchange_rate\": get_exchange_rate_from_api,\n",
    "    \"list_datasets\": list_datasets,\n",
    "    \"list_tables\": list_tables,\n",
    "}"
   ]
  },
  {
   "cell_type": "markdown",
   "id": "e56b75a8-2d27-4a45-8702-d3ac43a55f8a",
   "metadata": {},
   "source": [
    "Tools can also be created this way but this implies having docstrings in your functions"
   ]
  },
  {
   "cell_type": "markdown",
   "id": "9a6dbd29-d7b6-4f4b-ab63-d3eccbb260dd",
   "metadata": {},
   "source": [
    "# Function declarations\n",
    "\n",
    "```py\n",
    "def get_exchange_rate_from_api_v2(currency_from: str, currency_to: str):\n",
    "    \"\"\"\n",
    "    Get the exchange rate for currencies\n",
    "    \n",
    "    Args:\n",
    "        currency_from (str): The currency to convert from in ISO 4217 format\n",
    "        currency_to (str): The currency to convert to in ISO 4217 format\n",
    "    \"\"\"\n",
    "    url = f\"https://api.frankfurter.app/latest?from={currency_from}&to={currency_to}\"\n",
    "    params = {'currency_to': currency_to, 'currency_from': currency_from}\n",
    "    api_response = requests.get(url, params=params, verify=False)\n",
    "    return api_response.text\n",
    "\n",
    "\n",
    "get_exchange_rate_func_v2 = FunctionDeclaration.from_func(get_exchange_rate_from_api_v2)\n",
    "\n",
    "tool = VertexTool(\n",
    "    function_declarations=[\n",
    "        get_exchange_rate_func_v2\n",
    "    ]\n",
    ")\n",
    "\n",
    "# Mapping to map function name to function\n",
    "function_handler = {\n",
    "    \"get_exchange_rate\": get_exchange_rate_from_api,\n",
    "    \"list_datasets\": list_datasets,\n",
    "    \"list_tables\": list_tables,\n",
    "}\n",
    "````"
   ]
  },
  {
   "cell_type": "markdown",
   "id": "4a92dfd1-7f08-4267-87a4-66b50360e6a1",
   "metadata": {},
   "source": [
    "### Create the Chat"
   ]
  },
  {
   "cell_type": "code",
   "execution_count": 25,
   "id": "a35afb4a-4919-47f3-822b-7ec2a9f6739c",
   "metadata": {},
   "outputs": [],
   "source": [
    "gemini_model = GenerativeModel(\n",
    "    \"gemini-1.5-flash\",\n",
    "    generation_config=GenerationConfig(temperature=0),\n",
    "    # tools=[tool]\n",
    ")\n",
    "chat = gemini_model.start_chat()"
   ]
  },
  {
   "cell_type": "code",
   "execution_count": 27,
   "id": "0f15f48d-95d3-4c32-89c4-50f14ddd9840",
   "metadata": {},
   "outputs": [
    {
     "data": {
      "text/plain": [
       "'I do not have access to real-time information, including live exchange rates. \\n\\nTo get the most up-to-date USD to EUR exchange rate, I recommend checking a reliable financial website or using a currency converter app. \\n\\nHere are some popular options:\\n\\n* **Google Finance:** Simply search \"USD to EUR\" on Google.\\n* **XE.com:** A dedicated currency converter website.\\n* **Bloomberg:** A financial news and data provider.\\n* **Yahoo Finance:** Another popular financial website.\\n\\nRemember that exchange rates fluctuate constantly, so the rate you see at one moment may be different just a few minutes later. \\n'"
      ]
     },
     "execution_count": 27,
     "metadata": {},
     "output_type": "execute_result"
    }
   ],
   "source": [
    "response = chat.send_message(\"What is the current exchange rate for USD vs EUR ?\")\n",
    "response.candidates[0].content.parts[0].text"
   ]
  },
  {
   "cell_type": "markdown",
   "id": "081359e5-13b4-4523-9d02-a264f2177fc2",
   "metadata": {},
   "source": [
    "Conclusion : Without tool, no answer"
   ]
  },
  {
   "cell_type": "markdown",
   "id": "f9cda6ec-f109-44b8-a68b-4aab63e77520",
   "metadata": {
    "jp-MarkdownHeadingCollapsed": true
   },
   "source": [
    "### Add a tool"
   ]
  },
  {
   "cell_type": "code",
   "execution_count": 14,
   "id": "99c3a22f-f7e7-4c2e-b1a3-75f19a6305a4",
   "metadata": {},
   "outputs": [],
   "source": [
    "gemini_model = GenerativeModel(\n",
    "    \"gemini-1.5-flash\",\n",
    "    generation_config=GenerationConfig(temperature=0),\n",
    "    tools=[tool]\n",
    ")\n",
    "chat = gemini_model.start_chat()"
   ]
  },
  {
   "cell_type": "code",
   "execution_count": 15,
   "id": "12a037b3-034a-4ac5-aaa1-3c1d8ccbc70b",
   "metadata": {},
   "outputs": [
    {
     "data": {
      "text/plain": [
       "name: \"get_exchange_rate\"\n",
       "args {\n",
       "  fields {\n",
       "    key: \"currency_to\"\n",
       "    value {\n",
       "      string_value: \"EUR\"\n",
       "    }\n",
       "  }\n",
       "  fields {\n",
       "    key: \"currency_from\"\n",
       "    value {\n",
       "      string_value: \"USD\"\n",
       "    }\n",
       "  }\n",
       "  fields {\n",
       "    key: \"currency_date\"\n",
       "    value {\n",
       "      string_value: \"latest\"\n",
       "    }\n",
       "  }\n",
       "}"
      ]
     },
     "execution_count": 15,
     "metadata": {},
     "output_type": "execute_result"
    }
   ],
   "source": [
    "response = chat.send_message(\"What is the current exchange rate for USD vs EUR ?\")\n",
    "\n",
    "# Extract the function call response\n",
    "function_call = response.candidates[0].content.parts[0].function_call\n",
    "function_call"
   ]
  },
  {
   "cell_type": "code",
   "execution_count": 16,
   "id": "22f29194-d054-4c0a-a4f6-28da45258a0b",
   "metadata": {},
   "outputs": [
    {
     "name": "stdout",
     "output_type": "stream",
     "text": [
      "#### Predicted function name\n",
      "get_exchange_rate \n",
      "\n",
      "#### Predicted function parameters\n",
      "{'currency_from': 'USD', 'currency_date': 'latest', 'currency_to': 'EUR'} \n",
      "\n",
      "#### API response\n",
      "{\"amount\":1.0,\"base\":\"USD\",\"date\":\"2024-11-20\",\"rates\":{\"EUR\":0.94679}}\n"
     ]
    },
    {
     "name": "stderr",
     "output_type": "stream",
     "text": [
      "/Users/benjamin.etienne/Library/Caches/pypoetry/virtualenvs/london-xwvFazzc-py3.9/lib/python3.9/site-packages/urllib3/connectionpool.py:1099: InsecureRequestWarning: Unverified HTTPS request is being made to host 'api.frankfurter.app'. Adding certificate verification is strongly advised. See: https://urllib3.readthedocs.io/en/latest/advanced-usage.html#tls-warnings\n",
      "  warnings.warn(\n"
     ]
    },
    {
     "name": "stdout",
     "output_type": "stream",
     "text": [
      "\n",
      "#### Final Answer\n",
      "The current exchange rate for USD vs EUR is 0.94679. This means that 1 USD is equal to 0.94679 EUR. \n",
      "\n"
     ]
    }
   ],
   "source": [
    "prompt = f\"What is the current exchange rate for USD vs EUR ?\"\n",
    "\n",
    "response = chat.send_message(prompt)\n",
    "\n",
    "# Extract the function call response\n",
    "function_call = response.candidates[0].content.parts[0].function_call\n",
    "\n",
    "# Check for a function call or a natural language response\n",
    "if function_call.name in function_handler.keys():\n",
    "    # Extract the function call name\n",
    "    function_name = function_call.name\n",
    "    print(\"#### Predicted function name\")\n",
    "    print(function_name, \"\\n\")\n",
    "    # msg.content = f'I think I need to use the `{function_name}` tool'\n",
    "    # await msg.update()\n",
    "\n",
    "    # Extract the function call parameters\n",
    "    params = {key: value for key, value in function_call.args.items()}\n",
    "    print(\"#### Predicted function parameters\")\n",
    "    print(params, \"\\n\")\n",
    "\n",
    "    function_api_response = function_handler[function_name](params)\n",
    "    print(\"#### API response\")\n",
    "    print(function_api_response)\n",
    "    response = chat.send_message(\n",
    "        Part.from_function_response(\n",
    "            name=function_name,\n",
    "            response={\"content\": function_api_response},\n",
    "        ),\n",
    "    )   \n",
    "    print(\"\\n#### Final Answer\")\n",
    "    print(response.candidates[0].content.parts[0].text)"
   ]
  },
  {
   "cell_type": "markdown",
   "id": "5913a5e4-7b55-4218-9397-feb70401fd1d",
   "metadata": {},
   "source": [
    "## LangChain Agents"
   ]
  },
  {
   "cell_type": "code",
   "execution_count": 37,
   "id": "f0098279-6925-4af4-8127-27de0a0f8afb",
   "metadata": {},
   "outputs": [],
   "source": [
    "from langchain_google_vertexai import VertexAI\n",
    "from langchain.agents import AgentType, initialize_agent\n",
    "from langchain.agents import Tool as LangchainTool\n",
    "from langchain_core.tools import tool\n",
    "from langchain.memory import ConversationBufferMemory"
   ]
  },
  {
   "cell_type": "markdown",
   "id": "2b978c06-8578-4b3f-bc78-0b5c30944b6a",
   "metadata": {},
   "source": [
    "### Decorate our apis with the `tool` decorator"
   ]
  },
  {
   "cell_type": "code",
   "execution_count": 38,
   "id": "91af43af-10f7-4c9a-a98c-cf949aaf9b15",
   "metadata": {},
   "outputs": [],
   "source": [
    "@tool\n",
    "def list_datasets(project: str) -> list:\n",
    "    \"\"\"\n",
    "    Return a list of Bigquery datasets\n",
    "    Args:\n",
    "        project: GCP project id\n",
    "    \"\"\"\n",
    "    client = bigquery.Client(project=project)\n",
    "    datasets = list(client.list_datasets())\n",
    "    if datasets:\n",
    "        return [dataset.dataset_id for dataset in datasets]\n",
    "    else:\n",
    "        return \"{} project does not contain any datasets.\".format(project)\n",
    "\n",
    "@tool\n",
    "def list_tables(project: str, dataset_id: str) -> list:\n",
    "    \"\"\"\n",
    "    Return a list of Bigquery tables\n",
    "    Args:\n",
    "        project: GCP project id\n",
    "        dataset_id: ID of the dataset\n",
    "    \"\"\"\n",
    "    client = bigquery.Client(project=project)\n",
    "    try:\n",
    "        response = client.list_tables(dataset_id)\n",
    "        return [table.table_id for table in response]\n",
    "    except Exception as e:\n",
    "        return f\"The dataset {dataset_id} is not found in the {project} project, please specify the dataset and project\"\n",
    "\n",
    "@tool\n",
    "def get_exchange_rate_from_api(currency_from: str, currency_to: str) -> str:\n",
    "    \"\"\"\n",
    "    Return the exchange rate between currencies\n",
    "    Args:\n",
    "        currency_from: str\n",
    "        currency_to: str\n",
    "    \"\"\"\n",
    "    url = f\"https://api.frankfurter.app/latest?from={currency_from}&to={currency_to}\"\n",
    "    api_response = requests.get(url, verify=False)\n",
    "    return api_response.text"
   ]
  },
  {
   "cell_type": "markdown",
   "id": "a8fa30a3-ff73-417c-bae1-50d03bd969d8",
   "metadata": {},
   "source": [
    "### Build the tool"
   ]
  },
  {
   "cell_type": "code",
   "execution_count": 39,
   "id": "4d22396c-b516-4871-8056-8901b0cddd65",
   "metadata": {},
   "outputs": [],
   "source": [
    "# langchain_tool = [\n",
    "#     LangchainTool(\n",
    "#         name='list_datasets',\n",
    "#         func=list_datasets,\n",
    "#         description=list_datasets.description,\n",
    "#     ),\n",
    "#     LangchainTool(\n",
    "#         name='list_tables',\n",
    "#         func=list_tables,\n",
    "#         description=list_tables.description,\n",
    "#     ),\n",
    "#     LangchainTool(\n",
    "#         name='get_exchange_rate',\n",
    "#         func=get_exchange_rate_from_api,\n",
    "#         description=get_exchange_rate_from_api.description\n",
    "#     )\n",
    "# ]\n",
    "\n",
    "langchain_tool = [\n",
    "    list_datasets,\n",
    "    list_tables,\n",
    "    get_exchange_rate_from_api\n",
    "]"
   ]
  },
  {
   "cell_type": "markdown",
   "id": "7fcf3e5e-f57a-4d5b-bc2c-e8fd2e5ad5fe",
   "metadata": {},
   "source": [
    "### Instantiate AgentExecutor - New way"
   ]
  },
  {
   "cell_type": "code",
   "execution_count": 6,
   "id": "e3c4dc3b-c22a-4703-9946-0eceae9cf27b",
   "metadata": {},
   "outputs": [],
   "source": [
    "from langchain.agents import AgentExecutor, create_tool_calling_agent\n",
    "from langchain_core.prompts import ChatPromptTemplate\n",
    "from langchain_google_vertexai import ChatVertexAI"
   ]
  },
  {
   "cell_type": "code",
   "execution_count": 7,
   "id": "91b0fc5c-b710-408d-a3ad-9b1e8030d000",
   "metadata": {},
   "outputs": [],
   "source": [
    "gemini_llm = ChatVertexAI(model=\"gemini-1.5-flash\")"
   ]
  },
  {
   "cell_type": "code",
   "execution_count": 36,
   "id": "cb3c4ee3-f0da-492d-b937-aec609cffb68",
   "metadata": {},
   "outputs": [
    {
     "data": {
      "text/plain": [
       "{'input': 'Which tables are available in the thelook_ecommerce dataset ?',\n",
       " 'output': 'I am sorry, I cannot find the dataset `thelook_ecommerce` in the project `gcp-project-id`. Please check if the dataset name and project id are correct. \\n'}"
      ]
     },
     "execution_count": 36,
     "metadata": {},
     "output_type": "execute_result"
    }
   ],
   "source": [
    "prompt = ChatPromptTemplate.from_messages(\n",
    "    [\n",
    "        (\"system\", \"You are a helpful assistant\"),\n",
    "        (\"human\", \"{input}\"),\n",
    "        # Placeholders fill up a **list** of messages\n",
    "        (\"placeholder\", \"{agent_scratchpad}\"),\n",
    "    ]\n",
    ")\n",
    "\n",
    "\n",
    "agent = create_tool_calling_agent(gemini_llm, langchain_tool, prompt)\n",
    "agent_executor = AgentExecutor(agent=agent, tools=langchain_tool)\n",
    "agent_executor.invoke({\"input\": \"Which tables are available in the thelook_ecommerce dataset ?\"})"
   ]
  },
  {
   "cell_type": "code",
   "execution_count": 37,
   "id": "f2fa5fac-f7e5-476e-a087-485a0da5d9d0",
   "metadata": {},
   "outputs": [
    {
     "data": {
      "text/plain": [
       "{'input': 'Project id is bigquery-public-data',\n",
       " 'output': 'OK. What else can I do for you? \\n'}"
      ]
     },
     "execution_count": 37,
     "metadata": {},
     "output_type": "execute_result"
    }
   ],
   "source": [
    "agent_executor.invoke({\"input\": f\"Project id is {PROJECT_ID}\"})"
   ]
  },
  {
   "cell_type": "code",
   "execution_count": 38,
   "id": "950d10c1-e7b5-461a-988d-1a3961b5e417",
   "metadata": {},
   "outputs": [
    {
     "data": {
      "text/plain": [
       "{'input': 'Which tables are available in the thelook_ecommerce dataset ?',\n",
       " 'output': 'I am sorry, I cannot find the dataset \"thelook_ecommerce\" in your project. Please double check the dataset name and project ID and try again. \\n'}"
      ]
     },
     "execution_count": 38,
     "metadata": {},
     "output_type": "execute_result"
    }
   ],
   "source": [
    "agent_executor.invoke({\"input\": \"Which tables are available in the thelook_ecommerce dataset ?\"})"
   ]
  },
  {
   "cell_type": "markdown",
   "id": "1a7f48dd-68fd-430d-8e3e-3499537abb12",
   "metadata": {},
   "source": [
    "#### Adding memory"
   ]
  },
  {
   "cell_type": "code",
   "execution_count": 46,
   "id": "2e225708-f48b-439f-a997-a91e35461716",
   "metadata": {},
   "outputs": [],
   "source": [
    "from langchain_core.chat_history import InMemoryChatMessageHistory\n",
    "from langchain_core.runnables.history import RunnableWithMessageHistory"
   ]
  },
  {
   "cell_type": "code",
   "execution_count": 9,
   "id": "aad89cbd-c7a9-4361-8c6c-38cae8970b99",
   "metadata": {},
   "outputs": [],
   "source": [
    "memory = InMemoryChatMessageHistory(session_id=\"foo\")"
   ]
  },
  {
   "cell_type": "code",
   "execution_count": 10,
   "id": "c1eec97d-f6c8-403f-8904-1dce6e52cfd9",
   "metadata": {},
   "outputs": [],
   "source": [
    "prompt = ChatPromptTemplate.from_messages(\n",
    "    [\n",
    "        (\"system\", \"You are a helpful assistant.\"),\n",
    "        # First put the history\n",
    "        (\"placeholder\", \"{chat_history}\"),\n",
    "        # Then the new input\n",
    "        (\"human\", \"{input}\"),\n",
    "        # Finally the scratchpad\n",
    "        (\"placeholder\", \"{agent_scratchpad}\"),\n",
    "    ]\n",
    ")"
   ]
  },
  {
   "cell_type": "code",
   "execution_count": 41,
   "id": "07c36a71-4a37-48d1-9c65-2f3121171f72",
   "metadata": {},
   "outputs": [],
   "source": [
    "agent = create_tool_calling_agent(gemini_llm, langchain_tool, prompt)\n",
    "agent_executor = AgentExecutor(agent=agent, tools=langchain_tool)\n",
    "\n",
    "agent_with_chat_history = RunnableWithMessageHistory(\n",
    "    agent_executor,\n",
    "    # This is needed because in most real world scenarios, a session id is needed\n",
    "    # It isn't really used here because we are using a simple in memory ChatMessageHistory\n",
    "    lambda session_id: memory,\n",
    "    input_messages_key=\"input\",\n",
    "    history_messages_key=\"chat_history\",\n",
    ")\n",
    "\n",
    "config = {\"configurable\": {\"session_id\": \"foo\"}}"
   ]
  },
  {
   "cell_type": "code",
   "execution_count": 42,
   "id": "450b1dab-993c-4962-b621-32b15fbc18e5",
   "metadata": {},
   "outputs": [
    {
     "data": {
      "text/plain": [
       "{'input': 'Which tables are available in the thelook_ecommerce dataset ?',\n",
       " 'chat_history': [],\n",
       " 'output': 'The dataset `thelook_ecommerce` is not found in the `gcp-project-id` project. Please specify the correct dataset and project. \\n'}"
      ]
     },
     "execution_count": 42,
     "metadata": {},
     "output_type": "execute_result"
    }
   ],
   "source": [
    "agent_with_chat_history.invoke({\"input\": \"Which tables are available in the thelook_ecommerce dataset ?\"}, config)"
   ]
  },
  {
   "cell_type": "code",
   "execution_count": 13,
   "id": "4199b94c-bbeb-419c-893d-4becbcfa7af2",
   "metadata": {},
   "outputs": [
    {
     "data": {
      "text/plain": [
       "{'input': 'Project id is bigquery-public-data',\n",
       " 'chat_history': [HumanMessage(content='Which tables are available in the thelook_ecommerce dataset ?'),\n",
       "  AIMessage(content='I am sorry, I cannot find the dataset thelook_ecommerce in your project. Please check if the dataset name is correct and if the dataset is available in your project. \\n')],\n",
       " 'output': 'The tables available in the thelook_ecommerce dataset are: distribution_centers, events, inventory_items, order_items, orders, products, users. \\n'}"
      ]
     },
     "execution_count": 13,
     "metadata": {},
     "output_type": "execute_result"
    }
   ],
   "source": [
    "agent_with_chat_history.invoke({\"input\": f\"Project id is {PROJECT_ID}\"}, config)"
   ]
  },
  {
   "cell_type": "markdown",
   "id": "73779c75-64f0-43ab-8cab-e32545149a6b",
   "metadata": {
    "jp-MarkdownHeadingCollapsed": true
   },
   "source": [
    "#### Chaining method"
   ]
  },
  {
   "cell_type": "markdown",
   "id": "9a692bb5-4326-4f6a-8834-575c580aad6a",
   "metadata": {},
   "source": [
    "First we need to bind the tools to our LLM"
   ]
  },
  {
   "cell_type": "code",
   "execution_count": 40,
   "id": "2b925af6-4db2-4fd9-b7bd-634142e75950",
   "metadata": {},
   "outputs": [],
   "source": [
    "gemini_with_tools = gemini_llm.bind_tools(langchain_tool)"
   ]
  },
  {
   "cell_type": "markdown",
   "id": "2bf5836e-9f32-4ec8-baaa-209b9668c4e7",
   "metadata": {},
   "source": [
    "Then we create a chain, which will be wrapped in a Runnable"
   ]
  },
  {
   "cell_type": "code",
   "execution_count": 45,
   "id": "36bd6488-47c7-4632-b529-68bfe62c580f",
   "metadata": {},
   "outputs": [
    {
     "data": {
      "text/plain": [
       "AIMessage(content='', additional_kwargs={'function_call': {'name': 'get_exchange_rate_from_api', 'arguments': '{\"currency_from\": \"CHF\", \"currency_to\": \"EUR\"}'}}, response_metadata={'is_blocked': False, 'safety_ratings': [{'category': 'HARM_CATEGORY_HATE_SPEECH', 'probability_label': 'NEGLIGIBLE', 'blocked': False, 'severity': 'HARM_SEVERITY_NEGLIGIBLE'}, {'category': 'HARM_CATEGORY_DANGEROUS_CONTENT', 'probability_label': 'NEGLIGIBLE', 'blocked': False, 'severity': 'HARM_SEVERITY_LOW'}, {'category': 'HARM_CATEGORY_HARASSMENT', 'probability_label': 'NEGLIGIBLE', 'blocked': False, 'severity': 'HARM_SEVERITY_NEGLIGIBLE'}, {'category': 'HARM_CATEGORY_SEXUALLY_EXPLICIT', 'probability_label': 'NEGLIGIBLE', 'blocked': False, 'severity': 'HARM_SEVERITY_NEGLIGIBLE'}], 'usage_metadata': {'prompt_token_count': 185, 'candidates_token_count': 17, 'total_token_count': 202}}, id='run-9ad6b7e3-1314-442b-be35-e3b6d9864c3c-0', tool_calls=[{'name': 'get_exchange_rate_from_api', 'args': {'currency_from': 'CHF', 'currency_to': 'EUR'}, 'id': '1db02e1a-bf04-4968-bc06-f32fe5eb8d0f', 'type': 'tool_call'}], usage_metadata={'input_tokens': 185, 'output_tokens': 17, 'total_tokens': 202})"
      ]
     },
     "execution_count": 45,
     "metadata": {},
     "output_type": "execute_result"
    }
   ],
   "source": [
    "chain = prompt | gemini_with_tools\n",
    "memory = InMemoryChatMessageHistory(session_id=\"foo\")\n",
    "config = {\"configurable\": {\"session_id\": \"foo\"}}\n",
    "chain_with_history = RunnableWithMessageHistory(\n",
    "    chain,\n",
    "    # Uses the get_by_session_id function defined in the example\n",
    "    # above.\n",
    "    lambda session_id: memory,\n",
    "    input_messages_key=\"input\",\n",
    "    history_messages_key=\"chat_history\",\n",
    ")\n",
    "\n",
    "resp = chain_with_history.invoke({\"input\": \"What is the current CHF EUR exchange rate ?\"}, config)\n",
    "resp"
   ]
  },
  {
   "cell_type": "markdown",
   "id": "46d42159-87a6-4c7c-8d21-1b84d2b6d000",
   "metadata": {},
   "source": [
    "Are we done ? No. The LLM correcty guessed the function to call, but we need to execute the function now !"
   ]
  },
  {
   "cell_type": "code",
   "execution_count": 47,
   "id": "7c282573-0eb9-4d8b-ba46-c0cfbefb2fec",
   "metadata": {},
   "outputs": [
    {
     "name": "stderr",
     "output_type": "stream",
     "text": [
      "/Users/benjamin.etienne/Library/Caches/pypoetry/virtualenvs/london-xwvFazzc-py3.9/lib/python3.9/site-packages/urllib3/connectionpool.py:1099: InsecureRequestWarning: Unverified HTTPS request is being made to host 'api.frankfurter.app'. Adding certificate verification is strongly advised. See: https://urllib3.readthedocs.io/en/latest/advanced-usage.html#tls-warnings\n",
      "  warnings.warn(\n"
     ]
    },
    {
     "data": {
      "text/plain": [
       "[{'name': 'get_exchange_rate_from_api',\n",
       "  'args': {'currency_from': 'CHF', 'currency_to': 'EUR'},\n",
       "  'id': '81bc85ea-dfd4-4c01-85e8-f3ca592fff5b',\n",
       "  'type': 'tool_call',\n",
       "  'output': '{\"amount\":1.0,\"base\":\"USD\",\"date\":\"2024-11-20\",\"rates\":{\"EUR\":0.94679}}'}]"
      ]
     },
     "execution_count": 47,
     "metadata": {},
     "output_type": "execute_result"
    }
   ],
   "source": [
    "from langchain_core.messages import AIMessage\n",
    "\n",
    "def call_tools(msg: AIMessage) -> list[dict]:\n",
    "    \"\"\"Simple sequential tool calling helper.\"\"\"\n",
    "    tool_map = {tool.name: tool for tool in langchain_tool}\n",
    "    tool_calls = msg.tool_calls.copy()\n",
    "    for tool_call in tool_calls:\n",
    "        tool_call[\"output\"] = tool_map[tool_call[\"name\"]].invoke(tool_call[\"args\"])\n",
    "    return tool_calls\n",
    "\n",
    "chain = prompt | gemini_with_tools | call_tools\n",
    "memory = InMemoryChatMessageHistory(session_id=\"foo\")\n",
    "chain_with_history = RunnableWithMessageHistory(\n",
    "    chain,\n",
    "    # Uses the get_by_session_id function defined in the example\n",
    "    # above.\n",
    "    lambda session_id: memory,\n",
    "    input_messages_key=\"input\",\n",
    "    history_messages_key=\"chat_history\",\n",
    ")\n",
    "\n",
    "chain_with_history.invoke({\"input\": \"What is the current CHF EUR exchange rate ?\"}, config)"
   ]
  },
  {
   "cell_type": "markdown",
   "id": "5db1f4b7-69a0-4a54-8ceb-5c42a88d5bdc",
   "metadata": {
    "jp-MarkdownHeadingCollapsed": true
   },
   "source": [
    "#### Human in the loop validation"
   ]
  },
  {
   "cell_type": "code",
   "execution_count": 50,
   "id": "5e52c653-231a-4095-82cb-2d03daef3260",
   "metadata": {},
   "outputs": [],
   "source": [
    "def human_approval(msg: AIMessage) -> AIMessage:\n",
    "    \"\"\"Responsible for passing through its input or raising an exception.\n",
    "\n",
    "    Args:\n",
    "        msg: output from the chat model\n",
    "\n",
    "    Returns:\n",
    "        msg: original output from the msg\n",
    "    \"\"\"\n",
    "    for tool_call in msg.tool_calls:\n",
    "        print(f\"I want to use function [{tool_call.get('name')}] with the following parameters :\")\n",
    "        for k,v in tool_call.get('args').items():\n",
    "            print(\" {} = {}\".format(k, v))\n",
    "            \n",
    "    print(\"\")\n",
    "    input_msg = (\n",
    "        f\"Do you approve (Y|y)?\\n\\n\"\n",
    "        \">>>\"\n",
    "    )\n",
    "    resp = input(input_msg)\n",
    "    if resp.lower() not in (\"yes\", \"y\"):\n",
    "        raise ValueError(f\"Tool invocations not approved\")\n",
    "    return msg"
   ]
  },
  {
   "cell_type": "code",
   "execution_count": 52,
   "id": "70976022-c389-4110-8825-bf438f0bf9f4",
   "metadata": {},
   "outputs": [
    {
     "name": "stdout",
     "output_type": "stream",
     "text": [
      "I want to use function [get_exchange_rate_from_api] with the following parameters :\n",
      " currency_from = USD\n",
      " currency_to = EUR\n",
      "\n"
     ]
    },
    {
     "name": "stdout",
     "output_type": "stream",
     "text": [
      "Do you approve (Y|y)?\n",
      "\n",
      ">>> y\n"
     ]
    },
    {
     "name": "stderr",
     "output_type": "stream",
     "text": [
      "/Users/benjamin.etienne/Library/Caches/pypoetry/virtualenvs/london-xwvFazzc-py3.9/lib/python3.9/site-packages/urllib3/connectionpool.py:1099: InsecureRequestWarning: Unverified HTTPS request is being made to host 'api.frankfurter.app'. Adding certificate verification is strongly advised. See: https://urllib3.readthedocs.io/en/latest/advanced-usage.html#tls-warnings\n",
      "  warnings.warn(\n"
     ]
    },
    {
     "data": {
      "text/plain": [
       "[{'name': 'get_exchange_rate_from_api',\n",
       "  'args': {'currency_from': 'USD', 'currency_to': 'EUR'},\n",
       "  'id': '169200f6-9319-44ad-89ba-96dd7c2d893e',\n",
       "  'type': 'tool_call',\n",
       "  'output': '{\"amount\":1.0,\"base\":\"USD\",\"date\":\"2024-11-20\",\"rates\":{\"EUR\":0.94679}}'}]"
      ]
     },
     "execution_count": 52,
     "metadata": {},
     "output_type": "execute_result"
    }
   ],
   "source": [
    "\n",
    "chain = prompt | gemini_with_tools | human_approval | call_tools\n",
    "memory = InMemoryChatMessageHistory(session_id=\"foo\")\n",
    "chain_with_history = RunnableWithMessageHistory(\n",
    "    chain,\n",
    "    # Uses the get_by_session_id function defined in the example\n",
    "    # above.\n",
    "    lambda session_id: memory,\n",
    "    input_messages_key=\"input\",\n",
    "    history_messages_key=\"chat_history\",\n",
    ")\n",
    "\n",
    "chain_with_history.invoke({\"input\": \"What is the current USD to EUR exchange rate ?\"}, config)"
   ]
  },
  {
   "cell_type": "markdown",
   "id": "ec8e92b2-62ed-42af-b1e7-aa25364df1ef",
   "metadata": {},
   "source": [
    "### Adding a tool from langchain community"
   ]
  },
  {
   "cell_type": "code",
   "execution_count": 48,
   "id": "0a512657-0c00-4595-a4c7-12dc23791e08",
   "metadata": {},
   "outputs": [
    {
     "data": {
      "text/plain": [
       "{'input': \"What was the result of Rafael Nadal's latest game ?\",\n",
       " 'chat_history': [],\n",
       " 'output': \"I am sorry, I do not have access to real-time information, including sports results. To find out the result of Rafael Nadal's latest game, I recommend checking a reputable sports website or news source. \\n\"}"
      ]
     },
     "execution_count": 48,
     "metadata": {},
     "output_type": "execute_result"
    }
   ],
   "source": [
    "memory = InMemoryChatMessageHistory()\n",
    "agent_with_chat_history = RunnableWithMessageHistory(\n",
    "    agent_executor,\n",
    "    # This is needed because in most real world scenarios, a session id is needed\n",
    "    # It isn't really used here because we are using a simple in memory ChatMessageHistory\n",
    "    lambda session_id: memory,\n",
    "    input_messages_key=\"input\",\n",
    "    history_messages_key=\"chat_history\",\n",
    ")\n",
    "agent_with_chat_history.invoke({\"input\": \"What was the result of Rafael Nadal's latest game ?\"}, config)"
   ]
  },
  {
   "cell_type": "code",
   "execution_count": 56,
   "id": "c6c4ece1-912d-4181-9309-448b33df9d6d",
   "metadata": {},
   "outputs": [],
   "source": [
    "from langchain_community.utilities import GoogleSerperAPIWrapper\n",
    "\n",
    "search = GoogleSerperAPIWrapper(serper_api_key=os.environ.get('SERPER_API_KEY'))\n",
    "\n",
    "@tool\n",
    "def google_search(query: str):\n",
    "    \"\"\"\n",
    "    Perform a search on Google\n",
    "    Args:\n",
    "        query: the information to be retrieved with google search\n",
    "    \"\"\"\n",
    "    return search.run(query)\n",
    "\n",
    "langchain_tool = [\n",
    "    list_datasets,\n",
    "    list_tables,\n",
    "    get_exchange_rate_from_api,\n",
    "    google_search\n",
    "]\n",
    "agent = create_tool_calling_agent(gemini_llm, langchain_tool, prompt)\n",
    "agent_executor = AgentExecutor(agent=agent, tools=langchain_tool)\n",
    "\n",
    "memory = InMemoryChatMessageHistory()\n",
    "agent_with_chat_history = RunnableWithMessageHistory(\n",
    "    agent_executor,\n",
    "    # This is needed because in most real world scenarios, a session id is needed\n",
    "    # It isn't really used here because we are using a simple in memory ChatMessageHistory\n",
    "    lambda session_id: memory,\n",
    "    input_messages_key=\"input\",\n",
    "    history_messages_key=\"chat_history\",\n",
    ")"
   ]
  },
  {
   "cell_type": "code",
   "execution_count": 57,
   "id": "f587511a-7bf1-4dba-8b5c-96985f047b0f",
   "metadata": {},
   "outputs": [
    {
     "data": {
      "text/plain": [
       "{'input': \"What was the result of Rafael Nadal's latest game ?\",\n",
       " 'chat_history': [],\n",
       " 'output': \"Rafael Nadal's last match was a loss to Botic van de Zandschulp in the Davis Cup. Spain was eliminated by the Netherlands. \\n\"}"
      ]
     },
     "execution_count": 57,
     "metadata": {},
     "output_type": "execute_result"
    }
   ],
   "source": [
    "agent_with_chat_history.invoke({\"input\": \"What was the result of Rafael Nadal's latest game ?\"}, config)"
   ]
  },
  {
   "cell_type": "code",
   "execution_count": null,
   "id": "5a8f08d9-e86a-4756-a952-7787d3cc49a5",
   "metadata": {},
   "outputs": [],
   "source": []
  },
  {
   "cell_type": "code",
   "execution_count": null,
   "id": "6d5cfda3-6cf1-41d0-8f17-ac6cf1fb3949",
   "metadata": {},
   "outputs": [],
   "source": []
  }
 ],
 "metadata": {
  "kernelspec": {
   "display_name": "Python 3 (ipykernel)",
   "language": "python",
   "name": "python3"
  },
  "language_info": {
   "codemirror_mode": {
    "name": "ipython",
    "version": 3
   },
   "file_extension": ".py",
   "mimetype": "text/x-python",
   "name": "python",
   "nbconvert_exporter": "python",
   "pygments_lexer": "ipython3",
   "version": "3.9.1"
  }
 },
 "nbformat": 4,
 "nbformat_minor": 5
}
